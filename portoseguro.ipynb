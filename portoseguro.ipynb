{
  "nbformat": 4,
  "nbformat_minor": 0,
  "metadata": {
    "colab": {
      "name": "portoseguro.ipynb",
      "provenance": [],
      "collapsed_sections": [],
      "authorship_tag": "ABX9TyOnStb2JshaXrpBXmIrBdHV",
      "include_colab_link": true
    },
    "kernelspec": {
      "name": "python3",
      "display_name": "Python 3"
    },
    "language_info": {
      "name": "python"
    }
  },
  "cells": [
    {
      "cell_type": "markdown",
      "metadata": {
        "id": "view-in-github",
        "colab_type": "text"
      },
      "source": [
        "<a href=\"https://colab.research.google.com/github/felpscunha/projects_datascience/blob/main/portoseguro.ipynb\" target=\"_parent\"><img src=\"https://colab.research.google.com/assets/colab-badge.svg\" alt=\"Open In Colab\"/></a>"
      ]
    },
    {
      "cell_type": "markdown",
      "metadata": {
        "id": "o4tisN-KeeUs"
      },
      "source": [
        "# Bibliotecas e Arquivos"
      ]
    },
    {
      "cell_type": "code",
      "metadata": {
        "id": "9-4sDCmvRlJP"
      },
      "source": [
        "import pandas as pd \n",
        "import numpy as np\n",
        "import matplotlib.pyplot as plt\n",
        "import seaborn as sns\n",
        "\n",
        "# scikit-learn libraries\n",
        "\n",
        "from sklearn.metrics import accuracy_score, f1_score\n",
        "from sklearn.model_selection import train_test_split, GridSearchCV\n",
        "from sklearn.preprocessing import StandardScaler\n",
        "from sklearn.ensemble import RandomForestClassifier\n",
        "\n",
        "# XGBOOST\n",
        "\n",
        "from xgboost import XGBClassifier\n",
        "import xgboost as xgb"
      ],
      "execution_count": null,
      "outputs": []
    },
    {
      "cell_type": "code",
      "metadata": {
        "id": "yO8PHLChSCZR"
      },
      "source": [
        "df_train = pd.read_csv('/content/train.csv')\n",
        "df_test = pd.read_csv('/content/test.csv')\n",
        "metadata = pd.read_csv('/content/metadata.csv')\n",
        "submisssion = pd.read_csv('/content/submission_sample.csv')"
      ],
      "execution_count": null,
      "outputs": []
    },
    {
      "cell_type": "markdown",
      "metadata": {
        "id": "brZiAwdTeibs"
      },
      "source": [
        "# Análise Exploratória dos Dados"
      ]
    },
    {
      "cell_type": "code",
      "metadata": {
        "colab": {
          "base_uri": "https://localhost:8080/",
          "height": 100
        },
        "id": "KXmPM31JSr7v",
        "outputId": "994509e7-4486-4ac6-d4e5-e0b59a53a9d8"
      },
      "source": [
        "df_train.head(1)"
      ],
      "execution_count": null,
      "outputs": [
        {
          "output_type": "execute_result",
          "data": {
            "text/html": [
              "<div>\n",
              "<style scoped>\n",
              "    .dataframe tbody tr th:only-of-type {\n",
              "        vertical-align: middle;\n",
              "    }\n",
              "\n",
              "    .dataframe tbody tr th {\n",
              "        vertical-align: top;\n",
              "    }\n",
              "\n",
              "    .dataframe thead th {\n",
              "        text-align: right;\n",
              "    }\n",
              "</style>\n",
              "<table border=\"1\" class=\"dataframe\">\n",
              "  <thead>\n",
              "    <tr style=\"text-align: right;\">\n",
              "      <th></th>\n",
              "      <th>id</th>\n",
              "      <th>var1</th>\n",
              "      <th>var2</th>\n",
              "      <th>var3</th>\n",
              "      <th>var4</th>\n",
              "      <th>var5</th>\n",
              "      <th>var6</th>\n",
              "      <th>var7</th>\n",
              "      <th>var8</th>\n",
              "      <th>var9</th>\n",
              "      <th>var10</th>\n",
              "      <th>var11</th>\n",
              "      <th>var12</th>\n",
              "      <th>var13</th>\n",
              "      <th>var14</th>\n",
              "      <th>var15</th>\n",
              "      <th>var16</th>\n",
              "      <th>var17</th>\n",
              "      <th>var18</th>\n",
              "      <th>var19</th>\n",
              "      <th>var20</th>\n",
              "      <th>var21</th>\n",
              "      <th>var22</th>\n",
              "      <th>var23</th>\n",
              "      <th>var24</th>\n",
              "      <th>var25</th>\n",
              "      <th>var26</th>\n",
              "      <th>var27</th>\n",
              "      <th>var28</th>\n",
              "      <th>var29</th>\n",
              "      <th>var30</th>\n",
              "      <th>var31</th>\n",
              "      <th>var32</th>\n",
              "      <th>var33</th>\n",
              "      <th>var34</th>\n",
              "      <th>var35</th>\n",
              "      <th>var36</th>\n",
              "      <th>var37</th>\n",
              "      <th>var38</th>\n",
              "      <th>var39</th>\n",
              "      <th>var40</th>\n",
              "      <th>var41</th>\n",
              "      <th>var42</th>\n",
              "      <th>var43</th>\n",
              "      <th>var44</th>\n",
              "      <th>var45</th>\n",
              "      <th>var46</th>\n",
              "      <th>var47</th>\n",
              "      <th>var48</th>\n",
              "      <th>var49</th>\n",
              "      <th>var50</th>\n",
              "      <th>var51</th>\n",
              "      <th>var52</th>\n",
              "      <th>var53</th>\n",
              "      <th>var54</th>\n",
              "      <th>var55</th>\n",
              "      <th>var56</th>\n",
              "      <th>var57</th>\n",
              "      <th>var58</th>\n",
              "      <th>var59</th>\n",
              "      <th>var60</th>\n",
              "      <th>var61</th>\n",
              "      <th>var62</th>\n",
              "      <th>var63</th>\n",
              "      <th>var64</th>\n",
              "      <th>var65</th>\n",
              "      <th>var66</th>\n",
              "      <th>var67</th>\n",
              "      <th>var68</th>\n",
              "      <th>y</th>\n",
              "    </tr>\n",
              "  </thead>\n",
              "  <tbody>\n",
              "    <tr>\n",
              "      <th>0</th>\n",
              "      <td>1</td>\n",
              "      <td>18</td>\n",
              "      <td>19</td>\n",
              "      <td>2853</td>\n",
              "      <td>29442</td>\n",
              "      <td>1386</td>\n",
              "      <td>2435</td>\n",
              "      <td>35</td>\n",
              "      <td>-999</td>\n",
              "      <td>3</td>\n",
              "      <td>63</td>\n",
              "      <td>6498</td>\n",
              "      <td>1166</td>\n",
              "      <td>2007</td>\n",
              "      <td>26</td>\n",
              "      <td>13</td>\n",
              "      <td>11</td>\n",
              "      <td>11</td>\n",
              "      <td>4</td>\n",
              "      <td>1547</td>\n",
              "      <td>26</td>\n",
              "      <td>2068</td>\n",
              "      <td>1</td>\n",
              "      <td>3</td>\n",
              "      <td>0</td>\n",
              "      <td>4</td>\n",
              "      <td>7</td>\n",
              "      <td>0</td>\n",
              "      <td>24</td>\n",
              "      <td>4</td>\n",
              "      <td>2</td>\n",
              "      <td>0</td>\n",
              "      <td>16</td>\n",
              "      <td>3</td>\n",
              "      <td>44</td>\n",
              "      <td>463</td>\n",
              "      <td>27</td>\n",
              "      <td>2</td>\n",
              "      <td>0</td>\n",
              "      <td>4</td>\n",
              "      <td>9</td>\n",
              "      <td>3</td>\n",
              "      <td>25</td>\n",
              "      <td>6</td>\n",
              "      <td>1</td>\n",
              "      <td>4</td>\n",
              "      <td>3</td>\n",
              "      <td>1</td>\n",
              "      <td>0</td>\n",
              "      <td>0</td>\n",
              "      <td>0</td>\n",
              "      <td>0</td>\n",
              "      <td>42</td>\n",
              "      <td>1</td>\n",
              "      <td>1</td>\n",
              "      <td>0.212414</td>\n",
              "      <td>0.137</td>\n",
              "      <td>0.833333</td>\n",
              "      <td>0.037822</td>\n",
              "      <td>0.05807</td>\n",
              "      <td>0.311441</td>\n",
              "      <td>0.142303</td>\n",
              "      <td>0.056146</td>\n",
              "      <td>0.632694</td>\n",
              "      <td>0.024054</td>\n",
              "      <td>0.253356</td>\n",
              "      <td>0.00603</td>\n",
              "      <td>0.132353</td>\n",
              "      <td>0.139706</td>\n",
              "      <td>1</td>\n",
              "    </tr>\n",
              "  </tbody>\n",
              "</table>\n",
              "</div>"
            ],
            "text/plain": [
              "   id  var1  var2  var3   var4  ...     var65    var66     var67     var68  y\n",
              "0   1    18    19  2853  29442  ...  0.253356  0.00603  0.132353  0.139706  1\n",
              "\n",
              "[1 rows x 70 columns]"
            ]
          },
          "metadata": {},
          "execution_count": 13
        }
      ]
    },
    {
      "cell_type": "code",
      "metadata": {
        "colab": {
          "base_uri": "https://localhost:8080/"
        },
        "id": "NrXnLaULSu1N",
        "outputId": "347b531b-9a1a-4130-ddd4-06fc4226f404"
      },
      "source": [
        "df_train.shape"
      ],
      "execution_count": null,
      "outputs": [
        {
          "output_type": "execute_result",
          "data": {
            "text/plain": [
              "(11965, 70)"
            ]
          },
          "metadata": {},
          "execution_count": 4
        }
      ]
    },
    {
      "cell_type": "code",
      "metadata": {
        "id": "dxwtXAQTVJPh"
      },
      "source": [
        "df_train.info()"
      ],
      "execution_count": null,
      "outputs": []
    },
    {
      "cell_type": "code",
      "metadata": {
        "id": "5Z5Egf6UmAEE"
      },
      "source": [
        "df_train.duplicated().sum()"
      ],
      "execution_count": null,
      "outputs": []
    },
    {
      "cell_type": "markdown",
      "metadata": {
        "id": "JqwVrF4melvw"
      },
      "source": [
        "# Outliers"
      ]
    },
    {
      "cell_type": "code",
      "metadata": {
        "colab": {
          "base_uri": "https://localhost:8080/"
        },
        "id": "6mdd4tyR_hl2",
        "outputId": "6597497a-2476-4934-a120-06ec8d357610"
      },
      "source": [
        "# outliers detection with z-score\n",
        "from scipy import stats\n",
        "\n",
        "z_score = np.abs(stats.zscore(df_train))\n",
        "print(z_score)"
      ],
      "execution_count": null,
      "outputs": [
        {
          "output_type": "stream",
          "name": "stdout",
          "text": [
            "[[1.7049619  1.14004532 0.02273846 ... 0.20768543 0.04756248 1.98882845]\n",
            " [1.70427888 0.78586197 0.39388637 ... 0.20775923 0.0468766  0.50280858]\n",
            " [1.70213227 1.33612119 0.06882743 ... 0.20894002 0.04969631 0.50280858]\n",
            " ...\n",
            " [1.73937613 2.37812857 0.09171891 ... 0.20901382 0.04794352 0.50280858]\n",
            " [1.73966885 0.78586197 0.29774217 ... 0.20834963 0.04733385 0.50280858]\n",
            " [1.73986399 1.55273973 0.13292356 ... 0.20790683 0.04733385 0.50280858]]\n"
          ]
        }
      ]
    },
    {
      "cell_type": "code",
      "metadata": {
        "id": "PTLz1cYfABVL"
      },
      "source": [
        "outliers_z = np.where(z_score > 3)"
      ],
      "execution_count": null,
      "outputs": []
    },
    {
      "cell_type": "code",
      "metadata": {
        "id": "y7y972-PBRN1"
      },
      "source": [
        "df_train_out_z = df_train[(z_score < 3).all(axis=1)]"
      ],
      "execution_count": null,
      "outputs": []
    },
    {
      "cell_type": "code",
      "metadata": {
        "colab": {
          "base_uri": "https://localhost:8080/"
        },
        "id": "yfSCI7lvB6sx",
        "outputId": "dc4ccbb4-cf37-4115-f9d3-9d348c9f6afd"
      },
      "source": [
        "df_train_out_z.shape"
      ],
      "execution_count": null,
      "outputs": [
        {
          "output_type": "execute_result",
          "data": {
            "text/plain": [
              "(9013, 70)"
            ]
          },
          "metadata": {},
          "execution_count": 6
        }
      ]
    },
    {
      "cell_type": "markdown",
      "metadata": {
        "id": "1ULVOovXeoXl"
      },
      "source": [
        "# Balanceamento dos Dados"
      ]
    },
    {
      "cell_type": "code",
      "metadata": {
        "colab": {
          "base_uri": "https://localhost:8080/",
          "height": 351
        },
        "id": "LIN3m2xQTAaG",
        "outputId": "f62619a6-37fb-48ff-e3fa-67a7fa36091d"
      },
      "source": [
        "sns.countplot(df_train['y'])"
      ],
      "execution_count": null,
      "outputs": [
        {
          "output_type": "stream",
          "name": "stderr",
          "text": [
            "/usr/local/lib/python3.7/dist-packages/seaborn/_decorators.py:43: FutureWarning: Pass the following variable as a keyword arg: x. From version 0.12, the only valid positional argument will be `data`, and passing other arguments without an explicit keyword will result in an error or misinterpretation.\n",
            "  FutureWarning\n"
          ]
        },
        {
          "output_type": "execute_result",
          "data": {
            "text/plain": [
              "<matplotlib.axes._subplots.AxesSubplot at 0x7f5ea3ce3c10>"
            ]
          },
          "metadata": {},
          "execution_count": 8
        },
        {
          "output_type": "display_data",
          "data": {
            "image/png": "[encoded data removed]",
            "text/plain": [
              "<Figure size 432x288 with 1 Axes>"
            ]
          },
          "metadata": {
            "needs_background": "light"
          }
        }
      ]
    },
    {
      "cell_type": "code",
      "metadata": {
        "id": "chk3p7MeIySC",
        "colab": {
          "base_uri": "https://localhost:8080/"
        },
        "outputId": "cd992e41-31e1-456d-85dd-7a58001ba6e4"
      },
      "source": [
        "from imblearn.over_sampling import RandomOverSampler\n",
        "\n",
        "oversampler = RandomOverSampler(sampling_strategy='minority', random_state=5)\n",
        "x_over, y_over = oversampler.fit_resample(df_train.drop(['id','y'], axis=1), df_train['y'])"
      ],
      "execution_count": null,
      "outputs": [
        {
          "output_type": "stream",
          "name": "stderr",
          "text": [
            "/usr/local/lib/python3.7/dist-packages/sklearn/externals/six.py:31: FutureWarning: The module is deprecated in version 0.21 and will be removed in version 0.23 since we've dropped support for Python 2.7. Please rely on the official version of six (https://pypi.org/project/six/).\n",
            "  \"(https://pypi.org/project/six/).\", FutureWarning)\n",
            "/usr/local/lib/python3.7/dist-packages/sklearn/utils/deprecation.py:144: FutureWarning: The sklearn.neighbors.base module is  deprecated in version 0.22 and will be removed in version 0.24. The corresponding classes / functions should instead be imported from sklearn.neighbors. Anything that cannot be imported from sklearn.neighbors is now part of the private API.\n",
            "  warnings.warn(message, FutureWarning)\n",
            "/usr/local/lib/python3.7/dist-packages/sklearn/utils/deprecation.py:87: FutureWarning: Function safe_indexing is deprecated; safe_indexing is deprecated in version 0.22 and will be removed in version 0.24.\n",
            "  warnings.warn(msg, category=FutureWarning)\n"
          ]
        }
      ]
    },
    {
      "cell_type": "code",
      "metadata": {
        "colab": {
          "base_uri": "https://localhost:8080/"
        },
        "id": "5fqHt1gNOpMt",
        "outputId": "08284a73-94de-4943-fae9-9af11307a030"
      },
      "source": [
        "df_train_over = pd.DataFrame(x_over)\n",
        "df_train_over.shape"
      ],
      "execution_count": null,
      "outputs": [
        {
          "output_type": "execute_result",
          "data": {
            "text/plain": [
              "(22546, 68)"
            ]
          },
          "metadata": {},
          "execution_count": 31
        }
      ]
    },
    {
      "cell_type": "code",
      "metadata": {
        "colab": {
          "base_uri": "https://localhost:8080/",
          "height": 336
        },
        "id": "8rHfsu-4Y8OP",
        "outputId": "962ae0df-d00b-495e-c5c3-42723bf74c40"
      },
      "source": [
        "sns.countplot(y_over)"
      ],
      "execution_count": null,
      "outputs": [
        {
          "output_type": "stream",
          "name": "stderr",
          "text": [
            "/usr/local/lib/python3.7/dist-packages/seaborn/_decorators.py:43: FutureWarning: Pass the following variable as a keyword arg: x. From version 0.12, the only valid positional argument will be `data`, and passing other arguments without an explicit keyword will result in an error or misinterpretation.\n",
            "  FutureWarning\n"
          ]
        },
        {
          "output_type": "execute_result",
          "data": {
            "text/plain": [
              "<matplotlib.axes._subplots.AxesSubplot at 0x7fd7412a3390>"
            ]
          },
          "metadata": {},
          "execution_count": 32
        },
        {
          "output_type": "display_data",
          "data": {
            "image/png": "[encoded data removed]",
            "text/plain": [
              "<Figure size 432x288 with 1 Axes>"
            ]
          },
          "metadata": {
            "needs_background": "light"
          }
        }
      ]
    },
    {
      "cell_type": "markdown",
      "metadata": {
        "id": "H_yzDWKSDxJy"
      },
      "source": [
        "## Balanceamento Parte 2"
      ]
    },
    {
      "cell_type": "code",
      "metadata": {
        "colab": {
          "base_uri": "https://localhost:8080/"
        },
        "id": "ScrTyeX3DzLH",
        "outputId": "f625ee91-99f0-4f78-a044-068ab3651dd8"
      },
      "source": [
        "from imblearn.over_sampling import BorderlineSMOTE\n",
        "\n",
        "bsmoter = BorderlineSMOTE(sampling_strategy='minority', random_state=5)\n",
        "x_over, y_over = bsmoter.fit_resample(df_train_out_z.drop(['id','y'], axis=1), df_train_out_z['y'])"
      ],
      "execution_count": null,
      "outputs": [
        {
          "output_type": "stream",
          "name": "stderr",
          "text": [
            "/usr/local/lib/python3.7/dist-packages/sklearn/externals/six.py:31: FutureWarning: The module is deprecated in version 0.21 and will be removed in version 0.23 since we've dropped support for Python 2.7. Please rely on the official version of six (https://pypi.org/project/six/).\n",
            "  \"(https://pypi.org/project/six/).\", FutureWarning)\n",
            "/usr/local/lib/python3.7/dist-packages/sklearn/utils/deprecation.py:144: FutureWarning: The sklearn.neighbors.base module is  deprecated in version 0.22 and will be removed in version 0.24. The corresponding classes / functions should instead be imported from sklearn.neighbors. Anything that cannot be imported from sklearn.neighbors is now part of the private API.\n",
            "  warnings.warn(message, FutureWarning)\n",
            "/usr/local/lib/python3.7/dist-packages/sklearn/utils/deprecation.py:87: FutureWarning: Function safe_indexing is deprecated; safe_indexing is deprecated in version 0.22 and will be removed in version 0.24.\n",
            "  warnings.warn(msg, category=FutureWarning)\n",
            "/usr/local/lib/python3.7/dist-packages/sklearn/utils/deprecation.py:87: FutureWarning: Function safe_indexing is deprecated; safe_indexing is deprecated in version 0.22 and will be removed in version 0.24.\n",
            "  warnings.warn(msg, category=FutureWarning)\n",
            "/usr/local/lib/python3.7/dist-packages/sklearn/utils/deprecation.py:87: FutureWarning: Function safe_indexing is deprecated; safe_indexing is deprecated in version 0.22 and will be removed in version 0.24.\n",
            "  warnings.warn(msg, category=FutureWarning)\n"
          ]
        }
      ]
    },
    {
      "cell_type": "code",
      "metadata": {
        "colab": {
          "base_uri": "https://localhost:8080/"
        },
        "id": "lHK5CM0UF1KF",
        "outputId": "9f63c0f6-3a7c-4653-8029-d5f524850b34"
      },
      "source": [
        "df_train_over = pd.DataFrame(x_over)\n",
        "df_train_over.shape"
      ],
      "execution_count": null,
      "outputs": [
        {
          "output_type": "execute_result",
          "data": {
            "text/plain": [
              "(14268, 68)"
            ]
          },
          "metadata": {},
          "execution_count": 67
        }
      ]
    },
    {
      "cell_type": "code",
      "metadata": {
        "colab": {
          "base_uri": "https://localhost:8080/",
          "height": 337
        },
        "id": "XDzvElalKT35",
        "outputId": "ceef6d86-805a-452f-afd4-a2ad8fcab756"
      },
      "source": [
        "sns.countplot(y_over)"
      ],
      "execution_count": null,
      "outputs": [
        {
          "output_type": "stream",
          "name": "stderr",
          "text": [
            "/usr/local/lib/python3.7/dist-packages/seaborn/_decorators.py:43: FutureWarning: Pass the following variable as a keyword arg: x. From version 0.12, the only valid positional argument will be `data`, and passing other arguments without an explicit keyword will result in an error or misinterpretation.\n",
            "  FutureWarning\n"
          ]
        },
        {
          "output_type": "execute_result",
          "data": {
            "text/plain": [
              "<matplotlib.axes._subplots.AxesSubplot at 0x7f5ea3505d50>"
            ]
          },
          "metadata": {},
          "execution_count": 68
        },
        {
          "output_type": "display_data",
          "data": {
            "image/png": "[encoded data removed]",
            "text/plain": [
              "<Figure size 432x288 with 1 Axes>"
            ]
          },
          "metadata": {
            "needs_background": "light"
          }
        }
      ]
    },
    {
      "cell_type": "markdown",
      "metadata": {
        "id": "m7Vah7fzewje"
      },
      "source": [
        "# Modelo + Pré-processamentos"
      ]
    },
    {
      "cell_type": "code",
      "metadata": {
        "id": "3dnuKGWVUNeq"
      },
      "source": [
        "X = df_train_over.drop(['id', 'y'], axis = 1)\n",
        "y = df_train_over['y']"
      ],
      "execution_count": null,
      "outputs": []
    },
    {
      "cell_type": "code",
      "metadata": {
        "id": "nQyzZJzwWLV0"
      },
      "source": [
        "X_train, X_test, y_train, y_test = train_test_split(df_train_over, y_over, test_size=.20, random_state=5)"
      ],
      "execution_count": null,
      "outputs": []
    },
    {
      "cell_type": "code",
      "metadata": {
        "id": "tTxLH1FZr5rW"
      },
      "source": [
        "rfc = RandomForestClassifier(random_state=5)\n",
        "rfc.fit(X_train, y_train)\n",
        "predictions_1st = rfc.predict(X_test)"
      ],
      "execution_count": null,
      "outputs": []
    },
    {
      "cell_type": "code",
      "metadata": {
        "colab": {
          "base_uri": "https://localhost:8080/"
        },
        "id": "6bcu0L007RlG",
        "outputId": "d00682ec-58cb-47f1-e85c-36524410f5e1"
      },
      "source": [
        "print(f'Baseline model accuracy: {accuracy_score(y_test, predictions_1st)}')\n",
        "print(f'Baseline model f1-score: {f1_score(y_test, predictions_1st)}')"
      ],
      "execution_count": null,
      "outputs": [
        {
          "output_type": "stream",
          "name": "stdout",
          "text": [
            "Baseline model accuracy: 0.8657792567942318\n",
            "Baseline model f1-score: 0.5953177257525083\n"
          ]
        }
      ]
    },
    {
      "cell_type": "markdown",
      "metadata": {
        "id": "rvdRQxfU-efl"
      },
      "source": [
        "# Scaling variables"
      ]
    },
    {
      "cell_type": "code",
      "metadata": {
        "id": "ZSNz7ZZx9l1L",
        "colab": {
          "base_uri": "https://localhost:8080/",
          "height": 265
        },
        "outputId": "a989c41c-712c-43ef-a993-ac0b77c04055"
      },
      "source": [
        "feat_importances = pd.Series(rfc.feature_importances_, index=X_train.columns)\n",
        "feat_importances.nlargest(10).plot(kind='barh')\n",
        "plt.show()"
      ],
      "execution_count": null,
      "outputs": [
        {
          "output_type": "display_data",
          "data": {
            "image/png": "[encoded data removed]",
            "text/plain": [
              "<Figure size 432x288 with 1 Axes>"
            ]
          },
          "metadata": {
            "needs_background": "light"
          }
        }
      ]
    },
    {
      "cell_type": "code",
      "metadata": {
        "id": "z62pNs1reNWs"
      },
      "source": [
        "scaler = StandardScaler()\n",
        "X_train_scaled = scaler.fit_transform(X_train)\n",
        "X_test_scaled = scaler.fit_transform(X_test)"
      ],
      "execution_count": null,
      "outputs": []
    },
    {
      "cell_type": "code",
      "metadata": {
        "id": "kpXKAMswOful"
      },
      "source": [
        "X_train_scaled = pd.DataFrame(X_train_scaled)\n",
        "X_test_scaled = pd.DataFrame(X_test_scaled)"
      ],
      "execution_count": null,
      "outputs": []
    },
    {
      "cell_type": "code",
      "metadata": {
        "colab": {
          "base_uri": "https://localhost:8080/",
          "height": 101
        },
        "id": "UKQmMgVHOrHz",
        "outputId": "6dd518c9-1d7c-4704-f2db-58503c54d875"
      },
      "source": [
        "X_test_scaled.head(1)"
      ],
      "execution_count": null,
      "outputs": [
        {
          "output_type": "execute_result",
          "data": {
            "text/html": [
              "<div>\n",
              "<style scoped>\n",
              "    .dataframe tbody tr th:only-of-type {\n",
              "        vertical-align: middle;\n",
              "    }\n",
              "\n",
              "    .dataframe tbody tr th {\n",
              "        vertical-align: top;\n",
              "    }\n",
              "\n",
              "    .dataframe thead th {\n",
              "        text-align: right;\n",
              "    }\n",
              "</style>\n",
              "<table border=\"1\" class=\"dataframe\">\n",
              "  <thead>\n",
              "    <tr style=\"text-align: right;\">\n",
              "      <th></th>\n",
              "      <th>0</th>\n",
              "      <th>1</th>\n",
              "      <th>2</th>\n",
              "      <th>3</th>\n",
              "      <th>4</th>\n",
              "      <th>5</th>\n",
              "      <th>6</th>\n",
              "      <th>7</th>\n",
              "      <th>8</th>\n",
              "      <th>9</th>\n",
              "      <th>10</th>\n",
              "      <th>11</th>\n",
              "      <th>12</th>\n",
              "      <th>13</th>\n",
              "      <th>14</th>\n",
              "      <th>15</th>\n",
              "      <th>16</th>\n",
              "      <th>17</th>\n",
              "      <th>18</th>\n",
              "      <th>19</th>\n",
              "      <th>20</th>\n",
              "      <th>21</th>\n",
              "      <th>22</th>\n",
              "      <th>23</th>\n",
              "      <th>24</th>\n",
              "      <th>25</th>\n",
              "      <th>26</th>\n",
              "      <th>27</th>\n",
              "      <th>28</th>\n",
              "      <th>29</th>\n",
              "      <th>30</th>\n",
              "      <th>31</th>\n",
              "      <th>32</th>\n",
              "      <th>33</th>\n",
              "      <th>34</th>\n",
              "      <th>35</th>\n",
              "      <th>36</th>\n",
              "      <th>37</th>\n",
              "      <th>38</th>\n",
              "      <th>39</th>\n",
              "      <th>40</th>\n",
              "      <th>41</th>\n",
              "      <th>42</th>\n",
              "      <th>43</th>\n",
              "      <th>44</th>\n",
              "      <th>45</th>\n",
              "      <th>46</th>\n",
              "      <th>47</th>\n",
              "      <th>48</th>\n",
              "      <th>49</th>\n",
              "      <th>50</th>\n",
              "      <th>51</th>\n",
              "      <th>52</th>\n",
              "      <th>53</th>\n",
              "      <th>54</th>\n",
              "      <th>55</th>\n",
              "      <th>56</th>\n",
              "      <th>57</th>\n",
              "      <th>58</th>\n",
              "      <th>59</th>\n",
              "      <th>60</th>\n",
              "      <th>61</th>\n",
              "      <th>62</th>\n",
              "      <th>63</th>\n",
              "      <th>64</th>\n",
              "      <th>65</th>\n",
              "      <th>66</th>\n",
              "      <th>67</th>\n",
              "    </tr>\n",
              "  </thead>\n",
              "  <tbody>\n",
              "    <tr>\n",
              "      <th>0</th>\n",
              "      <td>-0.478123</td>\n",
              "      <td>1.592859</td>\n",
              "      <td>-0.191564</td>\n",
              "      <td>-0.489553</td>\n",
              "      <td>0.462833</td>\n",
              "      <td>0.929458</td>\n",
              "      <td>0.319752</td>\n",
              "      <td>0.382182</td>\n",
              "      <td>0.165833</td>\n",
              "      <td>0.349214</td>\n",
              "      <td>-0.40029</td>\n",
              "      <td>-0.521199</td>\n",
              "      <td>1.074423</td>\n",
              "      <td>0.379715</td>\n",
              "      <td>0.880574</td>\n",
              "      <td>0.859591</td>\n",
              "      <td>0.840812</td>\n",
              "      <td>0.86339</td>\n",
              "      <td>0.447636</td>\n",
              "      <td>0.363126</td>\n",
              "      <td>1.041302</td>\n",
              "      <td>0.878456</td>\n",
              "      <td>1.265938</td>\n",
              "      <td>1.149542</td>\n",
              "      <td>-1.443349</td>\n",
              "      <td>0.111806</td>\n",
              "      <td>-0.776316</td>\n",
              "      <td>0.834839</td>\n",
              "      <td>1.259792</td>\n",
              "      <td>1.08757</td>\n",
              "      <td>0.0</td>\n",
              "      <td>1.642454</td>\n",
              "      <td>0.401214</td>\n",
              "      <td>-0.736092</td>\n",
              "      <td>-0.833089</td>\n",
              "      <td>-0.941468</td>\n",
              "      <td>0.962165</td>\n",
              "      <td>-0.444664</td>\n",
              "      <td>0.35119</td>\n",
              "      <td>1.014573</td>\n",
              "      <td>-0.147415</td>\n",
              "      <td>-0.589207</td>\n",
              "      <td>0.301416</td>\n",
              "      <td>0.390913</td>\n",
              "      <td>-0.268716</td>\n",
              "      <td>-0.265136</td>\n",
              "      <td>0.0</td>\n",
              "      <td>-0.182312</td>\n",
              "      <td>-0.740027</td>\n",
              "      <td>-0.461871</td>\n",
              "      <td>0.0</td>\n",
              "      <td>0.113905</td>\n",
              "      <td>0.356363</td>\n",
              "      <td>0.594246</td>\n",
              "      <td>-0.377462</td>\n",
              "      <td>0.193859</td>\n",
              "      <td>0.195012</td>\n",
              "      <td>0.096777</td>\n",
              "      <td>0.275936</td>\n",
              "      <td>0.851679</td>\n",
              "      <td>0.058933</td>\n",
              "      <td>-0.762186</td>\n",
              "      <td>-1.510468</td>\n",
              "      <td>-0.238264</td>\n",
              "      <td>-0.284491</td>\n",
              "      <td>-0.284491</td>\n",
              "      <td>0.65682</td>\n",
              "      <td>-0.913117</td>\n",
              "    </tr>\n",
              "  </tbody>\n",
              "</table>\n",
              "</div>"
            ],
            "text/plain": [
              "         0         1         2   ...        65       66        67\n",
              "0 -0.478123  1.592859 -0.191564  ... -0.284491  0.65682 -0.913117\n",
              "\n",
              "[1 rows x 68 columns]"
            ]
          },
          "metadata": {},
          "execution_count": 16
        }
      ]
    },
    {
      "cell_type": "code",
      "metadata": {
        "id": "H5Kqzitb_LlM"
      },
      "source": [
        "rfc = RandomForestClassifier(random_state=5)\n",
        "rfc.fit(X_train_scaled, y_train)\n",
        "predictions_2nd = rfc.predict(X_test_scaled)"
      ],
      "execution_count": null,
      "outputs": []
    },
    {
      "cell_type": "code",
      "metadata": {
        "colab": {
          "base_uri": "https://localhost:8080/"
        },
        "id": "2forhgtI_iXL",
        "outputId": "8bf7d1c4-c42b-434c-ad4b-f0c8a0faf8e6"
      },
      "source": [
        "print(f'Scaled model accuracy: {accuracy_score(y_test, predictions_2nd)}')\n",
        "print(f'Scaled model f1-score: {f1_score(y_test, predictions_2nd)}')"
      ],
      "execution_count": null,
      "outputs": [
        {
          "output_type": "stream",
          "name": "stdout",
          "text": [
            "Scaled model accuracy: 0.8624514697726012\n",
            "Scaled model f1-score: 0.5753424657534246\n"
          ]
        }
      ]
    },
    {
      "cell_type": "markdown",
      "metadata": {
        "id": "j-quEhphBl-s"
      },
      "source": [
        "# XGBOOST"
      ]
    },
    {
      "cell_type": "code",
      "metadata": {
        "colab": {
          "base_uri": "https://localhost:8080/"
        },
        "id": "Bsm3-hcIEhwT",
        "outputId": "251c6972-554f-40db-cbeb-15c5bbac7aa3"
      },
      "source": [
        "xgb_model = XGBClassifier(random_state = 42)\n",
        "xgb_model.fit(X_train, y_train)"
      ],
      "execution_count": null,
      "outputs": [
        {
          "output_type": "execute_result",
          "data": {
            "text/plain": [
              "XGBClassifier(base_score=0.5, booster='gbtree', colsample_bylevel=1,\n",
              "              colsample_bynode=1, colsample_bytree=1, gamma=0,\n",
              "              learning_rate=0.1, max_delta_step=0, max_depth=3,\n",
              "              min_child_weight=1, missing=None, n_estimators=100, n_jobs=1,\n",
              "              nthread=None, objective='binary:logistic', random_state=42,\n",
              "              reg_alpha=0, reg_lambda=1, scale_pos_weight=1, seed=None,\n",
              "              silent=None, subsample=1, verbosity=1)"
            ]
          },
          "metadata": {},
          "execution_count": 21
        }
      ]
    },
    {
      "cell_type": "code",
      "metadata": {
        "id": "aq7fVpcnEseQ"
      },
      "source": [
        "predictions_3nd = xgb_model.predict(X_test)"
      ],
      "execution_count": null,
      "outputs": []
    },
    {
      "cell_type": "code",
      "metadata": {
        "colab": {
          "base_uri": "https://localhost:8080/"
        },
        "id": "f8uGmkhHFY2V",
        "outputId": "2b11fab2-2d46-448d-942c-0f170cf4a2e4"
      },
      "source": [
        "print(f'XGB model accuracy: {accuracy_score(y_test, predictions_3nd)}')\n",
        "print(f'XGB model f1-score: {f1_score(y_test, predictions_3nd)}')"
      ],
      "execution_count": null,
      "outputs": [
        {
          "output_type": "stream",
          "name": "stdout",
          "text": [
            "XGB model accuracy: 0.8696616749861342\n",
            "XGB model f1-score: 0.6423135464231354\n"
          ]
        }
      ]
    },
    {
      "cell_type": "code",
      "metadata": {
        "id": "nNNY1RPSAZ3B",
        "colab": {
          "base_uri": "https://localhost:8080/",
          "height": 165
        },
        "outputId": "b4068f23-135e-4662-8ee3-1bbbfa33a83c"
      },
      "source": [
        "xgb_pred = xgb_model.predict(df_test_copy)"
      ],
      "execution_count": null,
      "outputs": [
        {
          "output_type": "error",
          "ename": "NameError",
          "evalue": "ignored",
          "traceback": [
            "\u001b[0;31m---------------------------------------------------------------------------\u001b[0m",
            "\u001b[0;31mNameError\u001b[0m                                 Traceback (most recent call last)",
            "\u001b[0;32m<ipython-input-24-3795ab4365a5>\u001b[0m in \u001b[0;36m<module>\u001b[0;34m()\u001b[0m\n\u001b[0;32m----> 1\u001b[0;31m \u001b[0mxgb_pred\u001b[0m \u001b[0;34m=\u001b[0m \u001b[0mxgb_model\u001b[0m\u001b[0;34m.\u001b[0m\u001b[0mpredict\u001b[0m\u001b[0;34m(\u001b[0m\u001b[0mdf_test_copy\u001b[0m\u001b[0;34m)\u001b[0m\u001b[0;34m\u001b[0m\u001b[0;34m\u001b[0m\u001b[0m\n\u001b[0m",
            "\u001b[0;31mNameError\u001b[0m: name 'df_test_copy' is not defined"
          ]
        }
      ]
    },
    {
      "cell_type": "code",
      "metadata": {
        "id": "VcT0J4DsBHvx"
      },
      "source": [
        "ids = df_test['id']\n",
        "submission = {'id':ids, 'predicted':xgb_pred}\n",
        "xgb_submission = pd.DataFrame(submission)"
      ],
      "execution_count": null,
      "outputs": []
    },
    {
      "cell_type": "code",
      "metadata": {
        "id": "gQW5pOAHBPa7"
      },
      "source": [
        "xgb_submission.to_csv('submission_05.csv', index=False)"
      ],
      "execution_count": null,
      "outputs": []
    },
    {
      "cell_type": "markdown",
      "metadata": {
        "id": "zIWzmPnCB2T5"
      },
      "source": [
        "# XGBOOST Scaling variables"
      ]
    },
    {
      "cell_type": "code",
      "metadata": {
        "colab": {
          "base_uri": "https://localhost:8080/"
        },
        "id": "3gkUeHpkB5Cs",
        "outputId": "d65ca024-8b93-4b42-9adc-5641726ad330"
      },
      "source": [
        "xgb_model.fit(X_train_scaled, y_train)"
      ],
      "execution_count": null,
      "outputs": [
        {
          "output_type": "execute_result",
          "data": {
            "text/plain": [
              "XGBClassifier(base_score=0.5, booster='gbtree', colsample_bylevel=1,\n",
              "              colsample_bynode=1, colsample_bytree=1, gamma=0,\n",
              "              learning_rate=0.1, max_delta_step=0, max_depth=3,\n",
              "              min_child_weight=1, missing=None, n_estimators=100, n_jobs=1,\n",
              "              nthread=None, objective='binary:logistic', random_state=42,\n",
              "              reg_alpha=0, reg_lambda=1, scale_pos_weight=1, seed=None,\n",
              "              silent=None, subsample=1, verbosity=1)"
            ]
          },
          "metadata": {},
          "execution_count": 28
        }
      ]
    },
    {
      "cell_type": "code",
      "metadata": {
        "id": "9J4NWypRCOQ1"
      },
      "source": [
        "predictions_4nd = xgb_model.predict(X_test_scaled)"
      ],
      "execution_count": null,
      "outputs": []
    },
    {
      "cell_type": "code",
      "metadata": {
        "colab": {
          "base_uri": "https://localhost:8080/"
        },
        "id": "ge4yG9qNCZb1",
        "outputId": "35effb72-45f3-468f-9808-0f892f20586a"
      },
      "source": [
        "print(f'XGB model w/ scaling accuracy: {accuracy_score(y_test, predictions_4nd)}')\n",
        "print(f'XGB model w/ scaling f1-score: {f1_score(y_test, predictions_4nd)}')"
      ],
      "execution_count": null,
      "outputs": [
        {
          "output_type": "stream",
          "name": "stdout",
          "text": [
            "XGB model w/ scaling accuracy: 0.8635607321131448\n",
            "XGB model w/ scaling f1-score: 0.6317365269461078\n"
          ]
        }
      ]
    },
    {
      "cell_type": "code",
      "metadata": {
        "id": "WUiUumy0ChTz"
      },
      "source": [
        "xgb_pred_scaled = xgb_model.predict(df_test_scaled)"
      ],
      "execution_count": null,
      "outputs": []
    },
    {
      "cell_type": "code",
      "metadata": {
        "id": "Frg84PAKNMEh"
      },
      "source": [
        "ids = df_test['id']\n",
        "submission = {'id':ids, 'predicted':xgb_pred_scaled}\n",
        "xgb_scaled_submission = pd.DataFrame(submission)"
      ],
      "execution_count": null,
      "outputs": []
    },
    {
      "cell_type": "code",
      "metadata": {
        "id": "MZJ6qnd9PO3N"
      },
      "source": [
        "xgb_scaled_submission.to_csv('submission_09.csv', index=False)"
      ],
      "execution_count": null,
      "outputs": []
    },
    {
      "cell_type": "markdown",
      "metadata": {
        "id": "Ohc0vqEM6avb"
      },
      "source": [
        "# Boosting model"
      ]
    },
    {
      "cell_type": "code",
      "metadata": {
        "id": "MkrgqiOGabBd"
      },
      "source": [
        "a_grid = {'learning_rate':[0.1, 0.2, 0.3],\n",
        "              'n_estimators':[100, 250, 500, 1000, 2000],\n",
        "              'max_depth':[3, 5, 10]\n",
        "          }"
      ],
      "execution_count": null,
      "outputs": []
    },
    {
      "cell_type": "code",
      "metadata": {
        "id": "1x7JxQ7aVJDS",
        "colab": {
          "base_uri": "https://localhost:8080/"
        },
        "outputId": "dbe6bd04-eccd-4d84-a176-4e624bb2febe"
      },
      "source": [
        "a_grid"
      ],
      "execution_count": null,
      "outputs": [
        {
          "output_type": "execute_result",
          "data": {
            "text/plain": [
              "{'learning_rate': [0.1, 0.2, 0.3],\n",
              " 'max_depth': [3, 5, 10],\n",
              " 'n_estimators': [100, 250, 500, 1000, 2000]}"
            ]
          },
          "metadata": {},
          "execution_count": 42
        }
      ]
    },
    {
      "cell_type": "code",
      "metadata": {
        "colab": {
          "base_uri": "https://localhost:8080/"
        },
        "id": "7SxiRMY1QeUl",
        "outputId": "ddf4ace3-2421-4977-8e17-06a558b42f8b"
      },
      "source": [
        "grid_1 = GridSearchCV(estimator=xgb_model, param_grid=a_grid, scoring='roc_auc', n_jobs=-1, cv=3)\n",
        "grid_1.fit(X_train_scaled, y_train)"
      ],
      "execution_count": null,
      "outputs": [
        {
          "output_type": "execute_result",
          "data": {
            "text/plain": [
              "GridSearchCV(cv=3, error_score=nan,\n",
              "             estimator=XGBClassifier(base_score=0.5, booster='gbtree',\n",
              "                                     colsample_bylevel=1, colsample_bynode=1,\n",
              "                                     colsample_bytree=1, gamma=0,\n",
              "                                     learning_rate=0.1, max_delta_step=0,\n",
              "                                     max_depth=3, min_child_weight=1,\n",
              "                                     missing=None, n_estimators=100, n_jobs=1,\n",
              "                                     nthread=None, objective='binary:logistic',\n",
              "                                     random_state=42, reg_alpha=0, reg_lambda=1,\n",
              "                                     scale_pos_weight=1, seed=None, silent=None,\n",
              "                                     subsample=1, verbosity=1),\n",
              "             iid='deprecated', n_jobs=-1,\n",
              "             param_grid={'learning_rate': [0.1, 0.2, 0.3],\n",
              "                         'max_depth': [3, 5, 10],\n",
              "                         'n_estimators': [100, 250, 500, 1000, 2000]},\n",
              "             pre_dispatch='2*n_jobs', refit=True, return_train_score=False,\n",
              "             scoring='roc_auc', verbose=0)"
            ]
          },
          "metadata": {},
          "execution_count": 43
        }
      ]
    },
    {
      "cell_type": "code",
      "metadata": {
        "colab": {
          "base_uri": "https://localhost:8080/"
        },
        "id": "RWJkZz_ea-cV",
        "outputId": "fa334ebb-46bf-48af-f922-277df7f548c0"
      },
      "source": [
        "grid_1.best_params_, grid_1.best_score_"
      ],
      "execution_count": null,
      "outputs": [
        {
          "output_type": "execute_result",
          "data": {
            "text/plain": [
              "({'learning_rate': 0.1, 'max_depth': 3, 'n_estimators': 100},\n",
              " 0.8704400421492823)"
            ]
          },
          "metadata": {},
          "execution_count": 44
        }
      ]
    },
    {
      "cell_type": "code",
      "metadata": {
        "id": "IvFonooSbVl8"
      },
      "source": [
        "b_grid = {'learning_rate':[0.05, 0.1],\n",
        "              'n_estimators':[50, 100, 150],\n",
        "              'max_depth':[2, 3, 4]\n",
        "          }"
      ],
      "execution_count": null,
      "outputs": []
    },
    {
      "cell_type": "code",
      "metadata": {
        "colab": {
          "base_uri": "https://localhost:8080/"
        },
        "id": "htlJi7GBbowv",
        "outputId": "f7e67777-e39c-4b19-a3cc-68d4b512e6ed"
      },
      "source": [
        "grid_2 = GridSearchCV(estimator=xgb_model, param_grid=b_grid, scoring='roc_auc', n_jobs=-1, cv=3)\n",
        "grid_2.fit(X_train_scaled, y_train)"
      ],
      "execution_count": null,
      "outputs": [
        {
          "output_type": "execute_result",
          "data": {
            "text/plain": [
              "GridSearchCV(cv=3, error_score=nan,\n",
              "             estimator=XGBClassifier(base_score=0.5, booster='gbtree',\n",
              "                                     colsample_bylevel=1, colsample_bynode=1,\n",
              "                                     colsample_bytree=1, gamma=0,\n",
              "                                     learning_rate=0.1, max_delta_step=0,\n",
              "                                     max_depth=3, min_child_weight=1,\n",
              "                                     missing=None, n_estimators=100, n_jobs=1,\n",
              "                                     nthread=None, objective='binary:logistic',\n",
              "                                     random_state=42, reg_alpha=0, reg_lambda=1,\n",
              "                                     scale_pos_weight=1, seed=None, silent=None,\n",
              "                                     subsample=1, verbosity=1),\n",
              "             iid='deprecated', n_jobs=-1,\n",
              "             param_grid={'learning_rate': [0.05, 0.1], 'max_depth': [2, 3, 4],\n",
              "                         'n_estimators': [50, 100, 150]},\n",
              "             pre_dispatch='2*n_jobs', refit=True, return_train_score=False,\n",
              "             scoring='roc_auc', verbose=0)"
            ]
          },
          "metadata": {},
          "execution_count": 48
        }
      ]
    },
    {
      "cell_type": "code",
      "metadata": {
        "colab": {
          "base_uri": "https://localhost:8080/"
        },
        "id": "P8u7lyZGdB14",
        "outputId": "f13606a2-6d72-4de6-bfa3-888b3fce84e5"
      },
      "source": [
        "grid_2.best_params_, grid_2.best_score_"
      ],
      "execution_count": null,
      "outputs": [
        {
          "output_type": "execute_result",
          "data": {
            "text/plain": [
              "({'learning_rate': 0.1, 'max_depth': 3, 'n_estimators': 100},\n",
              " 0.8704400421492823)"
            ]
          },
          "metadata": {},
          "execution_count": 49
        }
      ]
    },
    {
      "cell_type": "code",
      "metadata": {
        "id": "OWJaVyBTdNYg"
      },
      "source": [
        "c_grid = {'n_estimators':[250, 300, 350], 'max_depth':[1, 2, 3]\n",
        "          }"
      ],
      "execution_count": null,
      "outputs": []
    },
    {
      "cell_type": "code",
      "metadata": {
        "colab": {
          "base_uri": "https://localhost:8080/"
        },
        "id": "eY3yoEOndZu9",
        "outputId": "a5c2e3f8-00fa-4508-983e-a791eee16f1a"
      },
      "source": [
        "grid_3 = GridSearchCV(estimator=xgb_model, param_grid=c_grid, scoring='roc_auc', n_jobs=-1, cv=3)\n",
        "grid_3.fit(X_train_scaled, y_train)"
      ],
      "execution_count": null,
      "outputs": [
        {
          "output_type": "execute_result",
          "data": {
            "text/plain": [
              "GridSearchCV(cv=3, error_score=nan,\n",
              "             estimator=XGBClassifier(base_score=0.5, booster='gbtree',\n",
              "                                     colsample_bylevel=1, colsample_bynode=1,\n",
              "                                     colsample_bytree=1, gamma=0,\n",
              "                                     learning_rate=0.1, max_delta_step=0,\n",
              "                                     max_depth=3, min_child_weight=1,\n",
              "                                     missing=None, n_estimators=100, n_jobs=1,\n",
              "                                     nthread=None, objective='binary:logistic',\n",
              "                                     random_state=42, reg_alpha=0, reg_lambda=1,\n",
              "                                     scale_pos_weight=1, seed=None, silent=None,\n",
              "                                     subsample=1, verbosity=1),\n",
              "             iid='deprecated', n_jobs=-1,\n",
              "             param_grid={'max_depth': [1, 2, 3],\n",
              "                         'n_estimators': [250, 300, 350]},\n",
              "             pre_dispatch='2*n_jobs', refit=True, return_train_score=False,\n",
              "             scoring='roc_auc', verbose=0)"
            ]
          },
          "metadata": {},
          "execution_count": 58
        }
      ]
    },
    {
      "cell_type": "code",
      "metadata": {
        "colab": {
          "base_uri": "https://localhost:8080/"
        },
        "id": "nA_X7YeSeqsY",
        "outputId": "04042e7d-87f1-4eaa-9b2e-ce6c24a6b039"
      },
      "source": [
        "grid_3.best_params_, grid_3.best_score_"
      ],
      "execution_count": null,
      "outputs": [
        {
          "output_type": "execute_result",
          "data": {
            "text/plain": [
              "({'max_depth': 2, 'n_estimators': 350}, 0.8822688888219687)"
            ]
          },
          "metadata": {},
          "execution_count": 59
        }
      ]
    },
    {
      "cell_type": "code",
      "metadata": {
        "id": "UJ97RsrTe2Sx"
      },
      "source": [
        "d_grid = {'min_child_weight':[1, 3, 5], 'max_depth':[2, 3, 4]}"
      ],
      "execution_count": null,
      "outputs": []
    },
    {
      "cell_type": "code",
      "metadata": {
        "colab": {
          "base_uri": "https://localhost:8080/"
        },
        "id": "Doq5-d5ifPd8",
        "outputId": "e5a137ef-079b-4a28-ab7c-efc84dd2a273"
      },
      "source": [
        "grid_4 = GridSearchCV(estimator=XGBClassifier(base_score=0.5, booster='gbtree',\n",
        "                                     colsample_bylevel=1, colsample_bynode=1,\n",
        "                                     colsample_bytree=1, gamma=0,\n",
        "                                     learning_rate=0.1, max_delta_step=0,\n",
        "                                     max_depth=3, min_child_weight=1,\n",
        "                                     missing=None, n_estimators=100, n_jobs=1,\n",
        "                                     nthread=None, objective='binary:logistic',\n",
        "                                     random_state=42, reg_alpha=0, reg_lambda=1,\n",
        "                                     scale_pos_weight=1, seed=None, silent=None,\n",
        "                                     subsample=1, verbosity=1), param_grid=d_grid, scoring='roc_auc', n_jobs=-1, cv=3)\n",
        "grid_4.fit(X_train_scaled, y_train)"
      ],
      "execution_count": null,
      "outputs": [
        {
          "output_type": "execute_result",
          "data": {
            "text/plain": [
              "GridSearchCV(cv=3, error_score=nan,\n",
              "             estimator=XGBClassifier(base_score=0.5, booster='gbtree',\n",
              "                                     colsample_bylevel=1, colsample_bynode=1,\n",
              "                                     colsample_bytree=1, gamma=0,\n",
              "                                     learning_rate=0.1, max_delta_step=0,\n",
              "                                     max_depth=3, min_child_weight=1,\n",
              "                                     missing=None, n_estimators=100, n_jobs=1,\n",
              "                                     nthread=None, objective='binary:logistic',\n",
              "                                     random_state=42, reg_alpha=0, reg_lambda=1,\n",
              "                                     scale_pos_weight=1, seed=None, silent=None,\n",
              "                                     subsample=1, verbosity=1),\n",
              "             iid='deprecated', n_jobs=-1,\n",
              "             param_grid={'max_depth': [2, 3, 4], 'min_child_weight': [1, 3, 5]},\n",
              "             pre_dispatch='2*n_jobs', refit=True, return_train_score=False,\n",
              "             scoring='roc_auc', verbose=0)"
            ]
          },
          "metadata": {},
          "execution_count": 51
        }
      ]
    },
    {
      "cell_type": "code",
      "metadata": {
        "colab": {
          "base_uri": "https://localhost:8080/"
        },
        "id": "giRJCRJOgyXJ",
        "outputId": "7dd9fee9-ea6f-4c4d-f926-8b230a4632ad"
      },
      "source": [
        "grid_4.best_params_, grid_4.best_score_"
      ],
      "execution_count": null,
      "outputs": [
        {
          "output_type": "execute_result",
          "data": {
            "text/plain": [
              "({'max_depth': 3, 'min_child_weight': 3}, 0.8720056445594527)"
            ]
          },
          "metadata": {},
          "execution_count": 52
        }
      ]
    },
    {
      "cell_type": "code",
      "metadata": {
        "id": "k1_tBIUog4yg"
      },
      "source": [
        "e_grid = {'gamma':[0.0, 0.1, 0.2, 0.3, 0.4]}"
      ],
      "execution_count": null,
      "outputs": []
    },
    {
      "cell_type": "code",
      "metadata": {
        "colab": {
          "base_uri": "https://localhost:8080/"
        },
        "id": "OrJCnvLChWhk",
        "outputId": "229a3868-610a-4b3e-c39b-c4819f5e07a1"
      },
      "source": [
        "grid_5 = GridSearchCV(estimator=XGBClassifier(base_score=0.5, booster='gbtree',\n",
        "                                     colsample_bylevel=1, colsample_bynode=1,\n",
        "                                     colsample_bytree=1, gamma=0,\n",
        "                                     learning_rate=0.1, max_delta_step=0,\n",
        "                                     max_depth=3, min_child_weight=3,\n",
        "                                     missing=None, n_estimators=100, n_jobs=1,\n",
        "                                     nthread=None, objective='binary:logistic',\n",
        "                                     random_state=42, reg_alpha=0, reg_lambda=1,\n",
        "                                     scale_pos_weight=1, seed=None, silent=None,\n",
        "                                     subsample=1, verbosity=1), param_grid=e_grid, scoring='roc_auc', n_jobs=-1, cv=3)\n",
        "grid_5.fit(X_train_scaled, y_train)"
      ],
      "execution_count": null,
      "outputs": [
        {
          "output_type": "execute_result",
          "data": {
            "text/plain": [
              "GridSearchCV(cv=3, error_score=nan,\n",
              "             estimator=XGBClassifier(base_score=0.5, booster='gbtree',\n",
              "                                     colsample_bylevel=1, colsample_bynode=1,\n",
              "                                     colsample_bytree=1, gamma=0,\n",
              "                                     learning_rate=0.1, max_delta_step=0,\n",
              "                                     max_depth=3, min_child_weight=3,\n",
              "                                     missing=None, n_estimators=100, n_jobs=1,\n",
              "                                     nthread=None, objective='binary:logistic',\n",
              "                                     random_state=42, reg_alpha=0, reg_lambda=1,\n",
              "                                     scale_pos_weight=1, seed=None, silent=None,\n",
              "                                     subsample=1, verbosity=1),\n",
              "             iid='deprecated', n_jobs=-1,\n",
              "             param_grid={'gamma': [0.0, 0.1, 0.2, 0.3, 0.4]},\n",
              "             pre_dispatch='2*n_jobs', refit=True, return_train_score=False,\n",
              "             scoring='roc_auc', verbose=0)"
            ]
          },
          "metadata": {},
          "execution_count": 54
        }
      ]
    },
    {
      "cell_type": "code",
      "metadata": {
        "id": "vv9RzpCHh51V",
        "colab": {
          "base_uri": "https://localhost:8080/"
        },
        "outputId": "16139a8b-4f2d-4238-8ed0-ecd3b7496796"
      },
      "source": [
        "grid_5.best_params_, grid_5.best_score_"
      ],
      "execution_count": null,
      "outputs": [
        {
          "output_type": "execute_result",
          "data": {
            "text/plain": [
              "({'gamma': 0.0}, 0.8720056445594527)"
            ]
          },
          "metadata": {},
          "execution_count": 55
        }
      ]
    },
    {
      "cell_type": "code",
      "metadata": {
        "id": "qGBu7U7HQdIo"
      },
      "source": [
        "f_grid = {'subsample':[0.6, 0.7, 0.8, 0.9], 'colsample_bytree':[0.6, 0.7, 0.8, 0.9]} "
      ],
      "execution_count": null,
      "outputs": []
    },
    {
      "cell_type": "code",
      "metadata": {
        "colab": {
          "base_uri": "https://localhost:8080/"
        },
        "id": "mHO32-GEQ5Vu",
        "outputId": "949b1811-d98e-499b-9cea-198486ff6ef7"
      },
      "source": [
        "grid_6 = GridSearchCV(estimator=XGBClassifier(base_score=0.5, booster='gbtree',\n",
        "                                     colsample_bylevel=1, colsample_bynode=1,\n",
        "                                     colsample_bytree=1, gamma=0.0,\n",
        "                                     learning_rate=0.1, max_delta_step=0,\n",
        "                                     max_depth=3, min_child_weight=3,\n",
        "                                     missing=None, n_estimators=100, n_jobs=1,\n",
        "                                     nthread=None, objective='binary:logistic',\n",
        "                                     random_state=42, reg_alpha=0, reg_lambda=1,\n",
        "                                     scale_pos_weight=1, seed=None, silent=None,\n",
        "                                     subsample=1, verbosity=1), param_grid=f_grid, scoring='roc_auc', n_jobs=-1, cv=3)\n",
        "grid_6.fit(X_train_scaled, y_train)"
      ],
      "execution_count": null,
      "outputs": [
        {
          "output_type": "execute_result",
          "data": {
            "text/plain": [
              "GridSearchCV(cv=3, error_score=nan,\n",
              "             estimator=XGBClassifier(base_score=0.5, booster='gbtree',\n",
              "                                     colsample_bylevel=1, colsample_bynode=1,\n",
              "                                     colsample_bytree=1, gamma=0.0,\n",
              "                                     learning_rate=0.1, max_delta_step=0,\n",
              "                                     max_depth=3, min_child_weight=3,\n",
              "                                     missing=None, n_estimators=100, n_jobs=1,\n",
              "                                     nthread=None, objective='binary:logistic',\n",
              "                                     random_state=42, reg_alpha=0, reg_lambda=1,\n",
              "                                     scale_pos_weight=1, seed=None, silent=None,\n",
              "                                     subsample=1, verbosity=1),\n",
              "             iid='deprecated', n_jobs=-1,\n",
              "             param_grid={'colsample_bytree': [0.6, 0.7, 0.8, 0.9],\n",
              "                         'subsample': [0.6, 0.7, 0.8, 0.9]},\n",
              "             pre_dispatch='2*n_jobs', refit=True, return_train_score=False,\n",
              "             scoring='roc_auc', verbose=0)"
            ]
          },
          "metadata": {},
          "execution_count": 57
        }
      ]
    },
    {
      "cell_type": "code",
      "metadata": {
        "colab": {
          "base_uri": "https://localhost:8080/"
        },
        "id": "is9PN3W0SDgX",
        "outputId": "e1e05a23-0300-4e0f-bf02-8d6656be607b"
      },
      "source": [
        "grid_6.best_params_, grid_6.best_score_"
      ],
      "execution_count": null,
      "outputs": [
        {
          "output_type": "execute_result",
          "data": {
            "text/plain": [
              "({'colsample_bytree': 0.6, 'subsample': 0.8}, 0.8738219200186643)"
            ]
          },
          "metadata": {},
          "execution_count": 58
        }
      ]
    },
    {
      "cell_type": "code",
      "metadata": {
        "id": "BpjB6n2OSXSE"
      },
      "source": [
        "g_grid = {'reg_alpha':[0.0001, 0.001, 0.01, 0.1, 1, 10]} "
      ],
      "execution_count": null,
      "outputs": []
    },
    {
      "cell_type": "code",
      "metadata": {
        "colab": {
          "base_uri": "https://localhost:8080/"
        },
        "id": "1JdCy2aQSpwz",
        "outputId": "f5c935d4-d69d-4c45-bf7d-c7fa10bccd79"
      },
      "source": [
        "grid_7 = GridSearchCV(estimator=XGBClassifier(base_score=0.5, booster='gbtree',\n",
        "                                     colsample_bylevel=1, colsample_bynode=1,\n",
        "                                     colsample_bytree=0.8, gamma=0.3,\n",
        "                                     learning_rate=0.1, max_delta_step=0,\n",
        "                                     max_depth=2, min_child_weight=3,\n",
        "                                     missing=None, n_estimators=350, n_jobs=1,\n",
        "                                     nthread=None, objective='binary:logistic',\n",
        "                                     random_state=42, reg_alpha=0, reg_lambda=1,\n",
        "                                     scale_pos_weight=1, seed=None, silent=None,\n",
        "                                     subsample=0.7, verbosity=1), param_grid=g_grid, scoring='roc_auc', n_jobs=-1, cv=3)\n",
        "grid_7.fit(X_train_scaled, y_train)"
      ],
      "execution_count": null,
      "outputs": [
        {
          "output_type": "execute_result",
          "data": {
            "text/plain": [
              "GridSearchCV(cv=3, error_score=nan,\n",
              "             estimator=XGBClassifier(base_score=0.5, booster='gbtree',\n",
              "                                     colsample_bylevel=1, colsample_bynode=1,\n",
              "                                     colsample_bytree=0.8, gamma=0.3,\n",
              "                                     learning_rate=0.1, max_delta_step=0,\n",
              "                                     max_depth=2, min_child_weight=3,\n",
              "                                     missing=None, n_estimators=350, n_jobs=1,\n",
              "                                     nthread=None, objective='binary:logistic',\n",
              "                                     random_state=42, reg_alpha=0, reg_lambda=1,\n",
              "                                     scale_pos_weight=1, seed=None, silent=None,\n",
              "                                     subsample=0.7, verbosity=1),\n",
              "             iid='deprecated', n_jobs=-1,\n",
              "             param_grid={'reg_alpha': [0.0001, 0.001, 0.01, 0.1, 1, 10]},\n",
              "             pre_dispatch='2*n_jobs', refit=True, return_train_score=False,\n",
              "             scoring='roc_auc', verbose=0)"
            ]
          },
          "metadata": {},
          "execution_count": 25
        }
      ]
    },
    {
      "cell_type": "code",
      "metadata": {
        "colab": {
          "base_uri": "https://localhost:8080/"
        },
        "id": "b-fI-2OfTb9-",
        "outputId": "6ffa9b75-c391-42df-c750-bbe16f4bf2c3"
      },
      "source": [
        "grid_7.best_params_, grid_7.best_score_"
      ],
      "execution_count": null,
      "outputs": [
        {
          "output_type": "execute_result",
          "data": {
            "text/plain": [
              "({'reg_alpha': 0.0001}, 0.8830146117171019)"
            ]
          },
          "metadata": {},
          "execution_count": 26
        }
      ]
    },
    {
      "cell_type": "code",
      "metadata": {
        "id": "lbVzGOXVTl3V"
      },
      "source": [
        "h_grid = {'reg_alpha':[0.000001, 0.00001, 0.0001, 0.0002]} "
      ],
      "execution_count": null,
      "outputs": []
    },
    {
      "cell_type": "code",
      "metadata": {
        "colab": {
          "base_uri": "https://localhost:8080/"
        },
        "id": "LW9rwRG3TyFN",
        "outputId": "3b6696e2-a6bf-48ab-f02c-a06eaf18dcb3"
      },
      "source": [
        "grid_8 = GridSearchCV(estimator=XGBClassifier(base_score=0.5, booster='gbtree',\n",
        "                                     colsample_bylevel=1, colsample_bynode=1,\n",
        "                                     colsample_bytree=0.8, gamma=0.3,\n",
        "                                     learning_rate=0.1, max_delta_step=0,\n",
        "                                     max_depth=2, min_child_weight=3,\n",
        "                                     missing=None, n_estimators=350, n_jobs=1,\n",
        "                                     nthread=None, objective='binary:logistic',\n",
        "                                     random_state=42, reg_alpha=0.0001, reg_lambda=1,\n",
        "                                     scale_pos_weight=1, seed=None, silent=None,\n",
        "                                     subsample=0.7, verbosity=1), param_grid=h_grid, scoring='roc_auc', n_jobs=-1, cv=3)\n",
        "grid_8.fit(X_train_scaled, y_train)"
      ],
      "execution_count": null,
      "outputs": [
        {
          "output_type": "execute_result",
          "data": {
            "text/plain": [
              "GridSearchCV(cv=3, error_score=nan,\n",
              "             estimator=XGBClassifier(base_score=0.5, booster='gbtree',\n",
              "                                     colsample_bylevel=1, colsample_bynode=1,\n",
              "                                     colsample_bytree=0.8, gamma=0.3,\n",
              "                                     learning_rate=0.1, max_delta_step=0,\n",
              "                                     max_depth=2, min_child_weight=3,\n",
              "                                     missing=None, n_estimators=350, n_jobs=1,\n",
              "                                     nthread=None, objective='binary:logistic',\n",
              "                                     random_state=42, reg_alpha=0.0001,\n",
              "                                     reg_lambda=1, scale_pos_weight=1,\n",
              "                                     seed=None, silent=None, subsample=0.7,\n",
              "                                     verbosity=1),\n",
              "             iid='deprecated', n_jobs=-1,\n",
              "             param_grid={'reg_alpha': [1e-06, 1e-05, 0.0001, 0.0002]},\n",
              "             pre_dispatch='2*n_jobs', refit=True, return_train_score=False,\n",
              "             scoring='roc_auc', verbose=0)"
            ]
          },
          "metadata": {},
          "execution_count": 29
        }
      ]
    },
    {
      "cell_type": "code",
      "metadata": {
        "colab": {
          "base_uri": "https://localhost:8080/"
        },
        "id": "rX9y4UDbT5k4",
        "outputId": "081e2aaa-0666-4aea-918b-49109a2abd60"
      },
      "source": [
        "grid_8.best_params_, grid_8.best_score_"
      ],
      "execution_count": null,
      "outputs": [
        {
          "output_type": "execute_result",
          "data": {
            "text/plain": [
              "({'reg_alpha': 1e-06}, 0.8830151936311831)"
            ]
          },
          "metadata": {},
          "execution_count": 30
        }
      ]
    },
    {
      "cell_type": "code",
      "metadata": {
        "id": "LAxryRfJVPcs"
      },
      "source": [
        "xgb_tuned = XGBClassifier(base_score=0.5, booster='gbtree',\n",
        "                                     colsample_bylevel=1, colsample_bynode=1,\n",
        "                                     colsample_bytree=1, gamma=0,\n",
        "                                     learning_rate=0.1, max_delta_step=0,\n",
        "                                     max_depth=3, min_child_weight=1,\n",
        "                                     missing=None, n_estimators=100, n_jobs=1,\n",
        "                                     nthread=None, objective='binary:logistic',\n",
        "                                     random_state=42, reg_alpha=0, reg_lambda=1,\n",
        "                                     scale_pos_weight=1, seed=None, silent=None,\n",
        "                                     subsample=1, verbosity=1)"
      ],
      "execution_count": null,
      "outputs": []
    },
    {
      "cell_type": "code",
      "metadata": {
        "colab": {
          "base_uri": "https://localhost:8080/"
        },
        "id": "yzt_YB-4VoyS",
        "outputId": "f6a2f4cf-7fd5-483a-89a2-4334a56302f6"
      },
      "source": [
        "xgb_tuned.fit(X_train_scaled, y_train)"
      ],
      "execution_count": null,
      "outputs": [
        {
          "output_type": "execute_result",
          "data": {
            "text/plain": [
              "XGBClassifier(base_score=0.5, booster='gbtree', colsample_bylevel=1,\n",
              "              colsample_bynode=1, colsample_bytree=1, gamma=0,\n",
              "              learning_rate=0.1, max_delta_step=0, max_depth=3,\n",
              "              min_child_weight=1, missing=None, n_estimators=100, n_jobs=1,\n",
              "              nthread=None, objective='binary:logistic', random_state=42,\n",
              "              reg_alpha=0, reg_lambda=1, scale_pos_weight=1, seed=None,\n",
              "              silent=None, subsample=1, verbosity=1)"
            ]
          },
          "metadata": {},
          "execution_count": 74
        }
      ]
    },
    {
      "cell_type": "code",
      "metadata": {
        "id": "dVz3_sWdWC30"
      },
      "source": [
        "predictions_tuned = xgb_tuned.predict(X_test_scaled)"
      ],
      "execution_count": null,
      "outputs": []
    },
    {
      "cell_type": "code",
      "metadata": {
        "colab": {
          "base_uri": "https://localhost:8080/"
        },
        "id": "PUe_jFDvWC4I",
        "outputId": "3046f405-1671-4a59-b945-9441f73f3f11"
      },
      "source": [
        "print(f'XGB model w/ scaling accuracy: {accuracy_score(y_test, predictions_tuned)}')\n",
        "print(f'XGB model w/ scaling f1-score: {f1_score(y_test, predictions_tuned)}')"
      ],
      "execution_count": null,
      "outputs": [
        {
          "output_type": "stream",
          "name": "stdout",
          "text": [
            "XGB model w/ scaling accuracy: 0.5238262088297126\n",
            "XGB model w/ scaling f1-score: 0.677427011630667\n"
          ]
        }
      ]
    },
    {
      "cell_type": "code",
      "metadata": {
        "id": "RygBQlvnWVXP"
      },
      "source": [
        "final_tuned_pred = xgb_tuned.predict(df_test_scaled)"
      ],
      "execution_count": null,
      "outputs": []
    },
    {
      "cell_type": "code",
      "metadata": {
        "id": "ZKnhk73GWC4M"
      },
      "source": [
        "submission_tuned = {'id':ids, 'predicted':final_tuned_pred}\n",
        "xgb_tuned_submission = pd.DataFrame(submission_tuned)"
      ],
      "execution_count": null,
      "outputs": []
    },
    {
      "cell_type": "code",
      "metadata": {
        "id": "Ygx3yy8JWC4N"
      },
      "source": [
        "xgb_tuned_submission.to_csv('submission_11.csv', index=False)"
      ],
      "execution_count": null,
      "outputs": []
    },
    {
      "cell_type": "markdown",
      "metadata": {
        "id": "Qk3Vdpuc6fmv"
      },
      "source": [
        "# Treatment for test data"
      ]
    },
    {
      "cell_type": "code",
      "metadata": {
        "colab": {
          "base_uri": "https://localhost:8080/",
          "height": 226
        },
        "id": "hzc7AFU5inZc",
        "outputId": "1b9fd4fa-f3e8-41f0-9119-7be288a0f5b7"
      },
      "source": [
        "df_test.head()"
      ],
      "execution_count": null,
      "outputs": [
        {
          "output_type": "execute_result",
          "data": {
            "text/html": [
              "<div>\n",
              "<style scoped>\n",
              "    .dataframe tbody tr th:only-of-type {\n",
              "        vertical-align: middle;\n",
              "    }\n",
              "\n",
              "    .dataframe tbody tr th {\n",
              "        vertical-align: top;\n",
              "    }\n",
              "\n",
              "    .dataframe thead th {\n",
              "        text-align: right;\n",
              "    }\n",
              "</style>\n",
              "<table border=\"1\" class=\"dataframe\">\n",
              "  <thead>\n",
              "    <tr style=\"text-align: right;\">\n",
              "      <th></th>\n",
              "      <th>id</th>\n",
              "      <th>var1</th>\n",
              "      <th>var2</th>\n",
              "      <th>var3</th>\n",
              "      <th>var4</th>\n",
              "      <th>var5</th>\n",
              "      <th>var6</th>\n",
              "      <th>var7</th>\n",
              "      <th>var8</th>\n",
              "      <th>var9</th>\n",
              "      <th>var10</th>\n",
              "      <th>var11</th>\n",
              "      <th>var12</th>\n",
              "      <th>var13</th>\n",
              "      <th>var14</th>\n",
              "      <th>var15</th>\n",
              "      <th>var16</th>\n",
              "      <th>var17</th>\n",
              "      <th>var18</th>\n",
              "      <th>var19</th>\n",
              "      <th>var20</th>\n",
              "      <th>var21</th>\n",
              "      <th>var22</th>\n",
              "      <th>var23</th>\n",
              "      <th>var24</th>\n",
              "      <th>var25</th>\n",
              "      <th>var26</th>\n",
              "      <th>var27</th>\n",
              "      <th>var28</th>\n",
              "      <th>var29</th>\n",
              "      <th>var30</th>\n",
              "      <th>var31</th>\n",
              "      <th>var32</th>\n",
              "      <th>var33</th>\n",
              "      <th>var34</th>\n",
              "      <th>var35</th>\n",
              "      <th>var36</th>\n",
              "      <th>var37</th>\n",
              "      <th>var38</th>\n",
              "      <th>var39</th>\n",
              "      <th>var40</th>\n",
              "      <th>var41</th>\n",
              "      <th>var42</th>\n",
              "      <th>var43</th>\n",
              "      <th>var44</th>\n",
              "      <th>var45</th>\n",
              "      <th>var46</th>\n",
              "      <th>var47</th>\n",
              "      <th>var48</th>\n",
              "      <th>var49</th>\n",
              "      <th>var50</th>\n",
              "      <th>var51</th>\n",
              "      <th>var52</th>\n",
              "      <th>var53</th>\n",
              "      <th>var54</th>\n",
              "      <th>var55</th>\n",
              "      <th>var56</th>\n",
              "      <th>var57</th>\n",
              "      <th>var58</th>\n",
              "      <th>var59</th>\n",
              "      <th>var60</th>\n",
              "      <th>var61</th>\n",
              "      <th>var62</th>\n",
              "      <th>var63</th>\n",
              "      <th>var64</th>\n",
              "      <th>var65</th>\n",
              "      <th>var66</th>\n",
              "      <th>var67</th>\n",
              "      <th>var68</th>\n",
              "    </tr>\n",
              "  </thead>\n",
              "  <tbody>\n",
              "    <tr>\n",
              "      <th>0</th>\n",
              "      <td>0</td>\n",
              "      <td>5</td>\n",
              "      <td>126</td>\n",
              "      <td>1353</td>\n",
              "      <td>28956</td>\n",
              "      <td>743</td>\n",
              "      <td>1289</td>\n",
              "      <td>27</td>\n",
              "      <td>-999</td>\n",
              "      <td>1</td>\n",
              "      <td>33</td>\n",
              "      <td>4530</td>\n",
              "      <td>914</td>\n",
              "      <td>991</td>\n",
              "      <td>19</td>\n",
              "      <td>1</td>\n",
              "      <td>3</td>\n",
              "      <td>3</td>\n",
              "      <td>3</td>\n",
              "      <td>1155</td>\n",
              "      <td>19</td>\n",
              "      <td>1031</td>\n",
              "      <td>5</td>\n",
              "      <td>3</td>\n",
              "      <td>2</td>\n",
              "      <td>3</td>\n",
              "      <td>7</td>\n",
              "      <td>0</td>\n",
              "      <td>25</td>\n",
              "      <td>4</td>\n",
              "      <td>1</td>\n",
              "      <td>0</td>\n",
              "      <td>11</td>\n",
              "      <td>2</td>\n",
              "      <td>62</td>\n",
              "      <td>413</td>\n",
              "      <td>27</td>\n",
              "      <td>0</td>\n",
              "      <td>0</td>\n",
              "      <td>4</td>\n",
              "      <td>6</td>\n",
              "      <td>3</td>\n",
              "      <td>24</td>\n",
              "      <td>3</td>\n",
              "      <td>1</td>\n",
              "      <td>0</td>\n",
              "      <td>0</td>\n",
              "      <td>0</td>\n",
              "      <td>0</td>\n",
              "      <td>0</td>\n",
              "      <td>0</td>\n",
              "      <td>0</td>\n",
              "      <td>44</td>\n",
              "      <td>1</td>\n",
              "      <td>1</td>\n",
              "      <td>0.217528</td>\n",
              "      <td>0.272</td>\n",
              "      <td>0.367742</td>\n",
              "      <td>0.062900</td>\n",
              "      <td>0.201839</td>\n",
              "      <td>0.353965</td>\n",
              "      <td>0.166641</td>\n",
              "      <td>0.049108</td>\n",
              "      <td>0.986882</td>\n",
              "      <td>0.016683</td>\n",
              "      <td>-999.0</td>\n",
              "      <td>-999.0</td>\n",
              "      <td>0.176471</td>\n",
              "      <td>0.253676</td>\n",
              "    </tr>\n",
              "    <tr>\n",
              "      <th>1</th>\n",
              "      <td>2</td>\n",
              "      <td>6</td>\n",
              "      <td>126</td>\n",
              "      <td>1446</td>\n",
              "      <td>7803</td>\n",
              "      <td>5151</td>\n",
              "      <td>935</td>\n",
              "      <td>35</td>\n",
              "      <td>-999</td>\n",
              "      <td>3</td>\n",
              "      <td>63</td>\n",
              "      <td>8731</td>\n",
              "      <td>1341</td>\n",
              "      <td>2033</td>\n",
              "      <td>26</td>\n",
              "      <td>58</td>\n",
              "      <td>58</td>\n",
              "      <td>22</td>\n",
              "      <td>5</td>\n",
              "      <td>1299</td>\n",
              "      <td>26</td>\n",
              "      <td>773</td>\n",
              "      <td>5</td>\n",
              "      <td>3</td>\n",
              "      <td>1</td>\n",
              "      <td>2</td>\n",
              "      <td>1</td>\n",
              "      <td>0</td>\n",
              "      <td>25</td>\n",
              "      <td>4</td>\n",
              "      <td>0</td>\n",
              "      <td>1</td>\n",
              "      <td>6</td>\n",
              "      <td>5</td>\n",
              "      <td>58</td>\n",
              "      <td>692</td>\n",
              "      <td>21</td>\n",
              "      <td>15</td>\n",
              "      <td>8</td>\n",
              "      <td>4</td>\n",
              "      <td>0</td>\n",
              "      <td>1</td>\n",
              "      <td>30</td>\n",
              "      <td>0</td>\n",
              "      <td>1</td>\n",
              "      <td>0</td>\n",
              "      <td>0</td>\n",
              "      <td>0</td>\n",
              "      <td>0</td>\n",
              "      <td>0</td>\n",
              "      <td>0</td>\n",
              "      <td>0</td>\n",
              "      <td>13</td>\n",
              "      <td>1</td>\n",
              "      <td>1</td>\n",
              "      <td>0.221968</td>\n",
              "      <td>0.853</td>\n",
              "      <td>0.053763</td>\n",
              "      <td>0.177047</td>\n",
              "      <td>0.072127</td>\n",
              "      <td>0.074555</td>\n",
              "      <td>0.217009</td>\n",
              "      <td>0.144403</td>\n",
              "      <td>0.892028</td>\n",
              "      <td>0.038323</td>\n",
              "      <td>-999.0</td>\n",
              "      <td>-999.0</td>\n",
              "      <td>0.147059</td>\n",
              "      <td>0.099265</td>\n",
              "    </tr>\n",
              "    <tr>\n",
              "      <th>2</th>\n",
              "      <td>4</td>\n",
              "      <td>5</td>\n",
              "      <td>44</td>\n",
              "      <td>243</td>\n",
              "      <td>4325</td>\n",
              "      <td>1109</td>\n",
              "      <td>1903</td>\n",
              "      <td>33</td>\n",
              "      <td>24</td>\n",
              "      <td>1</td>\n",
              "      <td>63</td>\n",
              "      <td>10131</td>\n",
              "      <td>914</td>\n",
              "      <td>1503</td>\n",
              "      <td>24</td>\n",
              "      <td>60</td>\n",
              "      <td>61</td>\n",
              "      <td>23</td>\n",
              "      <td>5</td>\n",
              "      <td>1294</td>\n",
              "      <td>24</td>\n",
              "      <td>1562</td>\n",
              "      <td>5</td>\n",
              "      <td>4</td>\n",
              "      <td>1</td>\n",
              "      <td>0</td>\n",
              "      <td>1</td>\n",
              "      <td>0</td>\n",
              "      <td>26</td>\n",
              "      <td>5</td>\n",
              "      <td>2</td>\n",
              "      <td>0</td>\n",
              "      <td>17</td>\n",
              "      <td>0</td>\n",
              "      <td>12</td>\n",
              "      <td>553</td>\n",
              "      <td>0</td>\n",
              "      <td>18</td>\n",
              "      <td>0</td>\n",
              "      <td>4</td>\n",
              "      <td>10</td>\n",
              "      <td>3</td>\n",
              "      <td>26</td>\n",
              "      <td>14</td>\n",
              "      <td>1</td>\n",
              "      <td>0</td>\n",
              "      <td>0</td>\n",
              "      <td>0</td>\n",
              "      <td>0</td>\n",
              "      <td>0</td>\n",
              "      <td>0</td>\n",
              "      <td>0</td>\n",
              "      <td>36</td>\n",
              "      <td>1</td>\n",
              "      <td>1</td>\n",
              "      <td>0.213224</td>\n",
              "      <td>0.632</td>\n",
              "      <td>0.101075</td>\n",
              "      <td>0.210879</td>\n",
              "      <td>0.324770</td>\n",
              "      <td>0.384992</td>\n",
              "      <td>0.330680</td>\n",
              "      <td>0.072864</td>\n",
              "      <td>0.930373</td>\n",
              "      <td>0.021052</td>\n",
              "      <td>-999.0</td>\n",
              "      <td>-999.0</td>\n",
              "      <td>0.294118</td>\n",
              "      <td>0.136029</td>\n",
              "    </tr>\n",
              "    <tr>\n",
              "      <th>3</th>\n",
              "      <td>7</td>\n",
              "      <td>4</td>\n",
              "      <td>53</td>\n",
              "      <td>419</td>\n",
              "      <td>743</td>\n",
              "      <td>7750</td>\n",
              "      <td>183</td>\n",
              "      <td>35</td>\n",
              "      <td>-999</td>\n",
              "      <td>3</td>\n",
              "      <td>14</td>\n",
              "      <td>636</td>\n",
              "      <td>5879</td>\n",
              "      <td>146</td>\n",
              "      <td>26</td>\n",
              "      <td>22</td>\n",
              "      <td>22</td>\n",
              "      <td>10</td>\n",
              "      <td>4</td>\n",
              "      <td>811</td>\n",
              "      <td>26</td>\n",
              "      <td>152</td>\n",
              "      <td>5</td>\n",
              "      <td>3</td>\n",
              "      <td>2</td>\n",
              "      <td>4</td>\n",
              "      <td>4</td>\n",
              "      <td>0</td>\n",
              "      <td>24</td>\n",
              "      <td>4</td>\n",
              "      <td>2</td>\n",
              "      <td>0</td>\n",
              "      <td>12</td>\n",
              "      <td>5</td>\n",
              "      <td>38</td>\n",
              "      <td>662</td>\n",
              "      <td>28</td>\n",
              "      <td>1</td>\n",
              "      <td>0</td>\n",
              "      <td>4</td>\n",
              "      <td>9</td>\n",
              "      <td>3</td>\n",
              "      <td>28</td>\n",
              "      <td>7</td>\n",
              "      <td>1</td>\n",
              "      <td>0</td>\n",
              "      <td>0</td>\n",
              "      <td>0</td>\n",
              "      <td>0</td>\n",
              "      <td>0</td>\n",
              "      <td>1</td>\n",
              "      <td>0</td>\n",
              "      <td>13</td>\n",
              "      <td>1</td>\n",
              "      <td>1</td>\n",
              "      <td>0.205044</td>\n",
              "      <td>0.117</td>\n",
              "      <td>0.935484</td>\n",
              "      <td>0.007068</td>\n",
              "      <td>0.131070</td>\n",
              "      <td>-999.000000</td>\n",
              "      <td>0.244936</td>\n",
              "      <td>0.158088</td>\n",
              "      <td>0.986882</td>\n",
              "      <td>0.022649</td>\n",
              "      <td>-999.0</td>\n",
              "      <td>-999.0</td>\n",
              "      <td>0.294118</td>\n",
              "      <td>0.220588</td>\n",
              "    </tr>\n",
              "    <tr>\n",
              "      <th>4</th>\n",
              "      <td>15</td>\n",
              "      <td>4</td>\n",
              "      <td>126</td>\n",
              "      <td>1863</td>\n",
              "      <td>22693</td>\n",
              "      <td>5625</td>\n",
              "      <td>965</td>\n",
              "      <td>9</td>\n",
              "      <td>-999</td>\n",
              "      <td>3</td>\n",
              "      <td>63</td>\n",
              "      <td>24967</td>\n",
              "      <td>4427</td>\n",
              "      <td>772</td>\n",
              "      <td>5</td>\n",
              "      <td>73</td>\n",
              "      <td>73</td>\n",
              "      <td>29</td>\n",
              "      <td>5</td>\n",
              "      <td>595</td>\n",
              "      <td>5</td>\n",
              "      <td>796</td>\n",
              "      <td>0</td>\n",
              "      <td>1</td>\n",
              "      <td>0</td>\n",
              "      <td>1</td>\n",
              "      <td>7</td>\n",
              "      <td>0</td>\n",
              "      <td>11</td>\n",
              "      <td>2</td>\n",
              "      <td>1</td>\n",
              "      <td>0</td>\n",
              "      <td>21</td>\n",
              "      <td>3</td>\n",
              "      <td>18</td>\n",
              "      <td>546</td>\n",
              "      <td>0</td>\n",
              "      <td>1</td>\n",
              "      <td>0</td>\n",
              "      <td>4</td>\n",
              "      <td>6</td>\n",
              "      <td>3</td>\n",
              "      <td>28</td>\n",
              "      <td>8</td>\n",
              "      <td>1</td>\n",
              "      <td>0</td>\n",
              "      <td>0</td>\n",
              "      <td>0</td>\n",
              "      <td>0</td>\n",
              "      <td>1</td>\n",
              "      <td>0</td>\n",
              "      <td>0</td>\n",
              "      <td>51</td>\n",
              "      <td>1</td>\n",
              "      <td>1</td>\n",
              "      <td>0.203750</td>\n",
              "      <td>0.079</td>\n",
              "      <td>0.967742</td>\n",
              "      <td>0.024989</td>\n",
              "      <td>0.225166</td>\n",
              "      <td>0.059940</td>\n",
              "      <td>0.252794</td>\n",
              "      <td>0.080405</td>\n",
              "      <td>0.944501</td>\n",
              "      <td>0.021806</td>\n",
              "      <td>-999.0</td>\n",
              "      <td>-999.0</td>\n",
              "      <td>0.352941</td>\n",
              "      <td>0.113971</td>\n",
              "    </tr>\n",
              "  </tbody>\n",
              "</table>\n",
              "</div>"
            ],
            "text/plain": [
              "   id  var1  var2  var3   var4  ...     var64  var65  var66     var67     var68\n",
              "0   0     5   126  1353  28956  ...  0.016683 -999.0 -999.0  0.176471  0.253676\n",
              "1   2     6   126  1446   7803  ...  0.038323 -999.0 -999.0  0.147059  0.099265\n",
              "2   4     5    44   243   4325  ...  0.021052 -999.0 -999.0  0.294118  0.136029\n",
              "3   7     4    53   419    743  ...  0.022649 -999.0 -999.0  0.294118  0.220588\n",
              "4  15     4   126  1863  22693  ...  0.021806 -999.0 -999.0  0.352941  0.113971\n",
              "\n",
              "[5 rows x 69 columns]"
            ]
          },
          "metadata": {},
          "execution_count": 25
        }
      ]
    },
    {
      "cell_type": "code",
      "metadata": {
        "colab": {
          "base_uri": "https://localhost:8080/",
          "height": 132
        },
        "id": "5xDoHe9x7qF1",
        "outputId": "e036932e-7acb-41f6-c9a3-91c69bedff26"
      },
      "source": [
        "df_test_copy = df_test\n",
        "df_test_copy = df_test_copy.set_index('id')\n",
        "df_test_copy.head(1)"
      ],
      "execution_count": null,
      "outputs": [
        {
          "output_type": "execute_result",
          "data": {
            "text/html": [
              "<div>\n",
              "<style scoped>\n",
              "    .dataframe tbody tr th:only-of-type {\n",
              "        vertical-align: middle;\n",
              "    }\n",
              "\n",
              "    .dataframe tbody tr th {\n",
              "        vertical-align: top;\n",
              "    }\n",
              "\n",
              "    .dataframe thead th {\n",
              "        text-align: right;\n",
              "    }\n",
              "</style>\n",
              "<table border=\"1\" class=\"dataframe\">\n",
              "  <thead>\n",
              "    <tr style=\"text-align: right;\">\n",
              "      <th></th>\n",
              "      <th>var1</th>\n",
              "      <th>var2</th>\n",
              "      <th>var3</th>\n",
              "      <th>var4</th>\n",
              "      <th>var5</th>\n",
              "      <th>var6</th>\n",
              "      <th>var7</th>\n",
              "      <th>var8</th>\n",
              "      <th>var9</th>\n",
              "      <th>var10</th>\n",
              "      <th>var11</th>\n",
              "      <th>var12</th>\n",
              "      <th>var13</th>\n",
              "      <th>var14</th>\n",
              "      <th>var15</th>\n",
              "      <th>var16</th>\n",
              "      <th>var17</th>\n",
              "      <th>var18</th>\n",
              "      <th>var19</th>\n",
              "      <th>var20</th>\n",
              "      <th>var21</th>\n",
              "      <th>var22</th>\n",
              "      <th>var23</th>\n",
              "      <th>var24</th>\n",
              "      <th>var25</th>\n",
              "      <th>var26</th>\n",
              "      <th>var27</th>\n",
              "      <th>var28</th>\n",
              "      <th>var29</th>\n",
              "      <th>var30</th>\n",
              "      <th>var31</th>\n",
              "      <th>var32</th>\n",
              "      <th>var33</th>\n",
              "      <th>var34</th>\n",
              "      <th>var35</th>\n",
              "      <th>var36</th>\n",
              "      <th>var37</th>\n",
              "      <th>var38</th>\n",
              "      <th>var39</th>\n",
              "      <th>var40</th>\n",
              "      <th>var41</th>\n",
              "      <th>var42</th>\n",
              "      <th>var43</th>\n",
              "      <th>var44</th>\n",
              "      <th>var45</th>\n",
              "      <th>var46</th>\n",
              "      <th>var47</th>\n",
              "      <th>var48</th>\n",
              "      <th>var49</th>\n",
              "      <th>var50</th>\n",
              "      <th>var51</th>\n",
              "      <th>var52</th>\n",
              "      <th>var53</th>\n",
              "      <th>var54</th>\n",
              "      <th>var55</th>\n",
              "      <th>var56</th>\n",
              "      <th>var57</th>\n",
              "      <th>var58</th>\n",
              "      <th>var59</th>\n",
              "      <th>var60</th>\n",
              "      <th>var61</th>\n",
              "      <th>var62</th>\n",
              "      <th>var63</th>\n",
              "      <th>var64</th>\n",
              "      <th>var65</th>\n",
              "      <th>var66</th>\n",
              "      <th>var67</th>\n",
              "      <th>var68</th>\n",
              "    </tr>\n",
              "    <tr>\n",
              "      <th>id</th>\n",
              "      <th></th>\n",
              "      <th></th>\n",
              "      <th></th>\n",
              "      <th></th>\n",
              "      <th></th>\n",
              "      <th></th>\n",
              "      <th></th>\n",
              "      <th></th>\n",
              "      <th></th>\n",
              "      <th></th>\n",
              "      <th></th>\n",
              "      <th></th>\n",
              "      <th></th>\n",
              "      <th></th>\n",
              "      <th></th>\n",
              "      <th></th>\n",
              "      <th></th>\n",
              "      <th></th>\n",
              "      <th></th>\n",
              "      <th></th>\n",
              "      <th></th>\n",
              "      <th></th>\n",
              "      <th></th>\n",
              "      <th></th>\n",
              "      <th></th>\n",
              "      <th></th>\n",
              "      <th></th>\n",
              "      <th></th>\n",
              "      <th></th>\n",
              "      <th></th>\n",
              "      <th></th>\n",
              "      <th></th>\n",
              "      <th></th>\n",
              "      <th></th>\n",
              "      <th></th>\n",
              "      <th></th>\n",
              "      <th></th>\n",
              "      <th></th>\n",
              "      <th></th>\n",
              "      <th></th>\n",
              "      <th></th>\n",
              "      <th></th>\n",
              "      <th></th>\n",
              "      <th></th>\n",
              "      <th></th>\n",
              "      <th></th>\n",
              "      <th></th>\n",
              "      <th></th>\n",
              "      <th></th>\n",
              "      <th></th>\n",
              "      <th></th>\n",
              "      <th></th>\n",
              "      <th></th>\n",
              "      <th></th>\n",
              "      <th></th>\n",
              "      <th></th>\n",
              "      <th></th>\n",
              "      <th></th>\n",
              "      <th></th>\n",
              "      <th></th>\n",
              "      <th></th>\n",
              "      <th></th>\n",
              "      <th></th>\n",
              "      <th></th>\n",
              "      <th></th>\n",
              "      <th></th>\n",
              "      <th></th>\n",
              "      <th></th>\n",
              "    </tr>\n",
              "  </thead>\n",
              "  <tbody>\n",
              "    <tr>\n",
              "      <th>0</th>\n",
              "      <td>5</td>\n",
              "      <td>126</td>\n",
              "      <td>1353</td>\n",
              "      <td>28956</td>\n",
              "      <td>743</td>\n",
              "      <td>1289</td>\n",
              "      <td>27</td>\n",
              "      <td>-999</td>\n",
              "      <td>1</td>\n",
              "      <td>33</td>\n",
              "      <td>4530</td>\n",
              "      <td>914</td>\n",
              "      <td>991</td>\n",
              "      <td>19</td>\n",
              "      <td>1</td>\n",
              "      <td>3</td>\n",
              "      <td>3</td>\n",
              "      <td>3</td>\n",
              "      <td>1155</td>\n",
              "      <td>19</td>\n",
              "      <td>1031</td>\n",
              "      <td>5</td>\n",
              "      <td>3</td>\n",
              "      <td>2</td>\n",
              "      <td>3</td>\n",
              "      <td>7</td>\n",
              "      <td>0</td>\n",
              "      <td>25</td>\n",
              "      <td>4</td>\n",
              "      <td>1</td>\n",
              "      <td>0</td>\n",
              "      <td>11</td>\n",
              "      <td>2</td>\n",
              "      <td>62</td>\n",
              "      <td>413</td>\n",
              "      <td>27</td>\n",
              "      <td>0</td>\n",
              "      <td>0</td>\n",
              "      <td>4</td>\n",
              "      <td>6</td>\n",
              "      <td>3</td>\n",
              "      <td>24</td>\n",
              "      <td>3</td>\n",
              "      <td>1</td>\n",
              "      <td>0</td>\n",
              "      <td>0</td>\n",
              "      <td>0</td>\n",
              "      <td>0</td>\n",
              "      <td>0</td>\n",
              "      <td>0</td>\n",
              "      <td>0</td>\n",
              "      <td>44</td>\n",
              "      <td>1</td>\n",
              "      <td>1</td>\n",
              "      <td>0.217528</td>\n",
              "      <td>0.272</td>\n",
              "      <td>0.367742</td>\n",
              "      <td>0.0629</td>\n",
              "      <td>0.201839</td>\n",
              "      <td>0.353965</td>\n",
              "      <td>0.166641</td>\n",
              "      <td>0.049108</td>\n",
              "      <td>0.986882</td>\n",
              "      <td>0.016683</td>\n",
              "      <td>-999.0</td>\n",
              "      <td>-999.0</td>\n",
              "      <td>0.176471</td>\n",
              "      <td>0.253676</td>\n",
              "    </tr>\n",
              "  </tbody>\n",
              "</table>\n",
              "</div>"
            ],
            "text/plain": [
              "    var1  var2  var3   var4  var5  ...     var64  var65  var66     var67     var68\n",
              "id                                 ...                                            \n",
              "0      5   126  1353  28956   743  ...  0.016683 -999.0 -999.0  0.176471  0.253676\n",
              "\n",
              "[1 rows x 68 columns]"
            ]
          },
          "metadata": {},
          "execution_count": 26
        }
      ]
    },
    {
      "cell_type": "code",
      "metadata": {
        "colab": {
          "base_uri": "https://localhost:8080/",
          "height": 101
        },
        "id": "j7EILbcwqGvh",
        "outputId": "11a409a7-02f8-43aa-fe4d-9e73988619a4"
      },
      "source": [
        "df_test_scaled = scaler.fit_transform(df_test_copy)\n",
        "df_test_scaled = pd.DataFrame(df_test_scaled)\n",
        "df_test_scaled.head(1)"
      ],
      "execution_count": null,
      "outputs": [
        {
          "output_type": "execute_result",
          "data": {
            "text/html": [
              "<div>\n",
              "<style scoped>\n",
              "    .dataframe tbody tr th:only-of-type {\n",
              "        vertical-align: middle;\n",
              "    }\n",
              "\n",
              "    .dataframe tbody tr th {\n",
              "        vertical-align: top;\n",
              "    }\n",
              "\n",
              "    .dataframe thead th {\n",
              "        text-align: right;\n",
              "    }\n",
              "</style>\n",
              "<table border=\"1\" class=\"dataframe\">\n",
              "  <thead>\n",
              "    <tr style=\"text-align: right;\">\n",
              "      <th></th>\n",
              "      <th>0</th>\n",
              "      <th>1</th>\n",
              "      <th>2</th>\n",
              "      <th>3</th>\n",
              "      <th>4</th>\n",
              "      <th>5</th>\n",
              "      <th>6</th>\n",
              "      <th>7</th>\n",
              "      <th>8</th>\n",
              "      <th>9</th>\n",
              "      <th>10</th>\n",
              "      <th>11</th>\n",
              "      <th>12</th>\n",
              "      <th>13</th>\n",
              "      <th>14</th>\n",
              "      <th>15</th>\n",
              "      <th>16</th>\n",
              "      <th>17</th>\n",
              "      <th>18</th>\n",
              "      <th>19</th>\n",
              "      <th>20</th>\n",
              "      <th>21</th>\n",
              "      <th>22</th>\n",
              "      <th>23</th>\n",
              "      <th>24</th>\n",
              "      <th>25</th>\n",
              "      <th>26</th>\n",
              "      <th>27</th>\n",
              "      <th>28</th>\n",
              "      <th>29</th>\n",
              "      <th>30</th>\n",
              "      <th>31</th>\n",
              "      <th>32</th>\n",
              "      <th>33</th>\n",
              "      <th>34</th>\n",
              "      <th>35</th>\n",
              "      <th>36</th>\n",
              "      <th>37</th>\n",
              "      <th>38</th>\n",
              "      <th>39</th>\n",
              "      <th>40</th>\n",
              "      <th>41</th>\n",
              "      <th>42</th>\n",
              "      <th>43</th>\n",
              "      <th>44</th>\n",
              "      <th>45</th>\n",
              "      <th>46</th>\n",
              "      <th>47</th>\n",
              "      <th>48</th>\n",
              "      <th>49</th>\n",
              "      <th>50</th>\n",
              "      <th>51</th>\n",
              "      <th>52</th>\n",
              "      <th>53</th>\n",
              "      <th>54</th>\n",
              "      <th>55</th>\n",
              "      <th>56</th>\n",
              "      <th>57</th>\n",
              "      <th>58</th>\n",
              "      <th>59</th>\n",
              "      <th>60</th>\n",
              "      <th>61</th>\n",
              "      <th>62</th>\n",
              "      <th>63</th>\n",
              "      <th>64</th>\n",
              "      <th>65</th>\n",
              "      <th>66</th>\n",
              "      <th>67</th>\n",
              "    </tr>\n",
              "  </thead>\n",
              "  <tbody>\n",
              "    <tr>\n",
              "      <th>0</th>\n",
              "      <td>-0.647656</td>\n",
              "      <td>0.470626</td>\n",
              "      <td>-0.222311</td>\n",
              "      <td>1.365673</td>\n",
              "      <td>-1.454428</td>\n",
              "      <td>-0.039522</td>\n",
              "      <td>0.387077</td>\n",
              "      <td>-2.344794</td>\n",
              "      <td>0.347223</td>\n",
              "      <td>0.387203</td>\n",
              "      <td>-0.896135</td>\n",
              "      <td>-0.812767</td>\n",
              "      <td>-0.57825</td>\n",
              "      <td>-0.069236</td>\n",
              "      <td>0.224559</td>\n",
              "      <td>0.228664</td>\n",
              "      <td>0.296691</td>\n",
              "      <td>0.329637</td>\n",
              "      <td>0.17546</td>\n",
              "      <td>-0.113354</td>\n",
              "      <td>-0.542474</td>\n",
              "      <td>0.844888</td>\n",
              "      <td>0.417309</td>\n",
              "      <td>1.155203</td>\n",
              "      <td>0.630702</td>\n",
              "      <td>0.360998</td>\n",
              "      <td>-0.77861</td>\n",
              "      <td>0.695573</td>\n",
              "      <td>0.332932</td>\n",
              "      <td>-0.703343</td>\n",
              "      <td>-0.192775</td>\n",
              "      <td>-0.543567</td>\n",
              "      <td>-0.583662</td>\n",
              "      <td>1.885375</td>\n",
              "      <td>0.107485</td>\n",
              "      <td>1.00936</td>\n",
              "      <td>-0.857336</td>\n",
              "      <td>-0.464212</td>\n",
              "      <td>0.419319</td>\n",
              "      <td>-0.001453</td>\n",
              "      <td>-0.108983</td>\n",
              "      <td>-0.20218</td>\n",
              "      <td>-0.953764</td>\n",
              "      <td>0.399222</td>\n",
              "      <td>-0.309062</td>\n",
              "      <td>-0.284714</td>\n",
              "      <td>-0.18384</td>\n",
              "      <td>-0.220719</td>\n",
              "      <td>-0.729613</td>\n",
              "      <td>-0.413965</td>\n",
              "      <td>-0.237605</td>\n",
              "      <td>0.405907</td>\n",
              "      <td>-0.846231</td>\n",
              "      <td>-0.733072</td>\n",
              "      <td>0.054254</td>\n",
              "      <td>0.353432</td>\n",
              "      <td>0.354278</td>\n",
              "      <td>0.356283</td>\n",
              "      <td>0.425808</td>\n",
              "      <td>0.925267</td>\n",
              "      <td>0.151572</td>\n",
              "      <td>-0.432125</td>\n",
              "      <td>0.888234</td>\n",
              "      <td>-0.610474</td>\n",
              "      <td>-0.400969</td>\n",
              "      <td>-0.400969</td>\n",
              "      <td>0.199236</td>\n",
              "      <td>0.059277</td>\n",
              "    </tr>\n",
              "  </tbody>\n",
              "</table>\n",
              "</div>"
            ],
            "text/plain": [
              "         0         1         2   ...        65        66        67\n",
              "0 -0.647656  0.470626 -0.222311  ... -0.400969  0.199236  0.059277\n",
              "\n",
              "[1 rows x 68 columns]"
            ]
          },
          "metadata": {},
          "execution_count": 27
        }
      ]
    },
    {
      "cell_type": "code",
      "metadata": {
        "colab": {
          "base_uri": "https://localhost:8080/"
        },
        "id": "pw9Es3bEOOKd",
        "outputId": "2cbf6e5a-4e48-4f74-b511-c420943ce1e4"
      },
      "source": [
        "df_test_scaled.shape"
      ],
      "execution_count": null,
      "outputs": [
        {
          "output_type": "execute_result",
          "data": {
            "text/plain": [
              "(21183, 68)"
            ]
          },
          "metadata": {},
          "execution_count": 34
        }
      ]
    },
    {
      "cell_type": "code",
      "metadata": {
        "id": "IcdHpTTzuv9x",
        "colab": {
          "base_uri": "https://localhost:8080/",
          "height": 588
        },
        "outputId": "17c4492b-daf8-4e5c-bfaf-be9595d8f34b"
      },
      "source": [
        "final_pred = xgb_model.predict(df_test)"
      ],
      "execution_count": null,
      "outputs": [
        {
          "output_type": "error",
          "ename": "ValueError",
          "evalue": "ignored",
          "traceback": [
            "\u001b[0;31m---------------------------------------------------------------------------\u001b[0m",
            "\u001b[0;31mValueError\u001b[0m                                Traceback (most recent call last)",
            "\u001b[0;32m<ipython-input-35-9605894ced6b>\u001b[0m in \u001b[0;36m<module>\u001b[0;34m()\u001b[0m\n\u001b[0;32m----> 1\u001b[0;31m \u001b[0mfinal_pred\u001b[0m \u001b[0;34m=\u001b[0m \u001b[0mxgb_model\u001b[0m\u001b[0;34m.\u001b[0m\u001b[0mpredict\u001b[0m\u001b[0;34m(\u001b[0m\u001b[0mdf_test\u001b[0m\u001b[0;34m)\u001b[0m\u001b[0;34m\u001b[0m\u001b[0;34m\u001b[0m\u001b[0m\n\u001b[0m",
            "\u001b[0;32m/usr/local/lib/python3.7/dist-packages/xgboost/sklearn.py\u001b[0m in \u001b[0;36mpredict\u001b[0;34m(self, data, output_margin, ntree_limit, validate_features)\u001b[0m\n\u001b[1;32m    789\u001b[0m                                                  \u001b[0moutput_margin\u001b[0m\u001b[0;34m=\u001b[0m\u001b[0moutput_margin\u001b[0m\u001b[0;34m,\u001b[0m\u001b[0;34m\u001b[0m\u001b[0;34m\u001b[0m\u001b[0m\n\u001b[1;32m    790\u001b[0m                                                  \u001b[0mntree_limit\u001b[0m\u001b[0;34m=\u001b[0m\u001b[0mntree_limit\u001b[0m\u001b[0;34m,\u001b[0m\u001b[0;34m\u001b[0m\u001b[0;34m\u001b[0m\u001b[0m\n\u001b[0;32m--> 791\u001b[0;31m                                                  validate_features=validate_features)\n\u001b[0m\u001b[1;32m    792\u001b[0m         \u001b[0;32mif\u001b[0m \u001b[0moutput_margin\u001b[0m\u001b[0;34m:\u001b[0m\u001b[0;34m\u001b[0m\u001b[0;34m\u001b[0m\u001b[0m\n\u001b[1;32m    793\u001b[0m             \u001b[0;31m# If output_margin is active, simply return the scores\u001b[0m\u001b[0;34m\u001b[0m\u001b[0;34m\u001b[0m\u001b[0;34m\u001b[0m\u001b[0m\n",
            "\u001b[0;32m/usr/local/lib/python3.7/dist-packages/xgboost/core.py\u001b[0m in \u001b[0;36mpredict\u001b[0;34m(self, data, output_margin, ntree_limit, pred_leaf, pred_contribs, approx_contribs, pred_interactions, validate_features)\u001b[0m\n\u001b[1;32m   1282\u001b[0m \u001b[0;34m\u001b[0m\u001b[0m\n\u001b[1;32m   1283\u001b[0m         \u001b[0;32mif\u001b[0m \u001b[0mvalidate_features\u001b[0m\u001b[0;34m:\u001b[0m\u001b[0;34m\u001b[0m\u001b[0;34m\u001b[0m\u001b[0m\n\u001b[0;32m-> 1284\u001b[0;31m             \u001b[0mself\u001b[0m\u001b[0;34m.\u001b[0m\u001b[0m_validate_features\u001b[0m\u001b[0;34m(\u001b[0m\u001b[0mdata\u001b[0m\u001b[0;34m)\u001b[0m\u001b[0;34m\u001b[0m\u001b[0;34m\u001b[0m\u001b[0m\n\u001b[0m\u001b[1;32m   1285\u001b[0m \u001b[0;34m\u001b[0m\u001b[0m\n\u001b[1;32m   1286\u001b[0m         \u001b[0mlength\u001b[0m \u001b[0;34m=\u001b[0m \u001b[0mc_bst_ulong\u001b[0m\u001b[0;34m(\u001b[0m\u001b[0;34m)\u001b[0m\u001b[0;34m\u001b[0m\u001b[0;34m\u001b[0m\u001b[0m\n",
            "\u001b[0;32m/usr/local/lib/python3.7/dist-packages/xgboost/core.py\u001b[0m in \u001b[0;36m_validate_features\u001b[0;34m(self, data)\u001b[0m\n\u001b[1;32m   1688\u001b[0m \u001b[0;34m\u001b[0m\u001b[0m\n\u001b[1;32m   1689\u001b[0m                 raise ValueError(msg.format(self.feature_names,\n\u001b[0;32m-> 1690\u001b[0;31m                                             data.feature_names))\n\u001b[0m\u001b[1;32m   1691\u001b[0m \u001b[0;34m\u001b[0m\u001b[0m\n\u001b[1;32m   1692\u001b[0m     \u001b[0;32mdef\u001b[0m \u001b[0mget_split_value_histogram\u001b[0m\u001b[0;34m(\u001b[0m\u001b[0mself\u001b[0m\u001b[0;34m,\u001b[0m \u001b[0mfeature\u001b[0m\u001b[0;34m,\u001b[0m \u001b[0mfmap\u001b[0m\u001b[0;34m=\u001b[0m\u001b[0;34m''\u001b[0m\u001b[0;34m,\u001b[0m \u001b[0mbins\u001b[0m\u001b[0;34m=\u001b[0m\u001b[0;32mNone\u001b[0m\u001b[0;34m,\u001b[0m \u001b[0mas_pandas\u001b[0m\u001b[0;34m=\u001b[0m\u001b[0;32mTrue\u001b[0m\u001b[0;34m)\u001b[0m\u001b[0;34m:\u001b[0m\u001b[0;34m\u001b[0m\u001b[0;34m\u001b[0m\u001b[0m\n",
            "\u001b[0;31mValueError\u001b[0m: feature_names mismatch: ['0 ', '1 ', '2 ', '3 ', '4 ', '5 ', '6 ', '7 ', '8 ', '9 ', '10', '11', '12', '13', '14', '15', '16', '17', '18', '19', '20', '21', '22', '23', '24', '25', '26', '27', '28', '29', '30', '31', '32', '33', '34', '35', '36', '37', '38', '39', '40', '41', '42', '43', '44', '45', '46', '47', '48', '49', '50', '51', '52', '53', '54', '55', '56', '57', '58', '59', '60', '61', '62', '63', '64', '65', '66', '67'] ['id', 'var1', 'var2', 'var3', 'var4', 'var5', 'var6', 'var7', 'var8', 'var9', 'var10', 'var11', 'var12', 'var13', 'var14', 'var15', 'var16', 'var17', 'var18', 'var19', 'var20', 'var21', 'var22', 'var23', 'var24', 'var25', 'var26', 'var27', 'var28', 'var29', 'var30', 'var31', 'var32', 'var33', 'var34', 'var35', 'var36', 'var37', 'var38', 'var39', 'var40', 'var41', 'var42', 'var43', 'var44', 'var45', 'var46', 'var47', 'var48', 'var49', 'var50', 'var51', 'var52', 'var53', 'var54', 'var55', 'var56', 'var57', 'var58', 'var59', 'var60', 'var61', 'var62', 'var63', 'var64', 'var65', 'var66', 'var67', 'var68']\nexpected 1 , 11, 45, 36, 67, 19, 8 , 27, 18, 28, 63, 41, 29, 32, 25, 16, 26, 51, 0 , 40, 30, 31, 35, 47, 12, 55, 23, 6 , 50, 9 , 21, 56, 7 , 61, 43, 20, 24, 37, 38, 2 , 15, 52, 14, 10, 17, 22, 42, 59, 66, 48, 46, 4 , 57, 44, 62, 3 , 39, 49, 5 , 53, 34, 64, 65, 54, 60, 58, 13, 33 in input data\ntraining data did not have the following fields: var4, var35, var18, var49, var58, var48, var19, var56, var38, var15, var32, var57, var29, var42, var8, var40, var65, var17, id, var44, var37, var23, var61, var62, var9, var67, var28, var52, var30, var11, var21, var2, var47, var31, var33, var13, var24, var22, var39, var50, var51, var45, var54, var66, var20, var27, var36, var43, var53, var60, var7, var10, var16, var59, var14, var41, var63, var6, var26, var5, var64, var68, var3, var12, var34, var55, var1, var46, var25"
          ]
        }
      ]
    },
    {
      "cell_type": "code",
      "metadata": {
        "colab": {
          "base_uri": "https://localhost:8080/",
          "height": 165
        },
        "id": "x5iAME2N2V6m",
        "outputId": "2c0fb1c9-a3f4-4738-d876-54c3800d6466"
      },
      "source": [
        "final_pred.shape"
      ],
      "execution_count": null,
      "outputs": [
        {
          "output_type": "error",
          "ename": "NameError",
          "evalue": "ignored",
          "traceback": [
            "\u001b[0;31m---------------------------------------------------------------------------\u001b[0m",
            "\u001b[0;31mNameError\u001b[0m                                 Traceback (most recent call last)",
            "\u001b[0;32m<ipython-input-36-facebceef90d>\u001b[0m in \u001b[0;36m<module>\u001b[0;34m()\u001b[0m\n\u001b[0;32m----> 1\u001b[0;31m \u001b[0mfinal_pred\u001b[0m\u001b[0;34m.\u001b[0m\u001b[0mshape\u001b[0m\u001b[0;34m\u001b[0m\u001b[0;34m\u001b[0m\u001b[0m\n\u001b[0m",
            "\u001b[0;31mNameError\u001b[0m: name 'final_pred' is not defined"
          ]
        }
      ]
    },
    {
      "cell_type": "code",
      "metadata": {
        "id": "jQd2ge2y2YdU",
        "colab": {
          "base_uri": "https://localhost:8080/",
          "height": 200
        },
        "outputId": "24c8f54a-fe5d-4765-8394-b213a7e72f0c"
      },
      "source": [
        "ids = df_test['id']\n",
        "submission = {'id':ids, 'predicted':final_pred}\n",
        "df_submission = pd.DataFrame(submission)"
      ],
      "execution_count": null,
      "outputs": [
        {
          "output_type": "error",
          "ename": "NameError",
          "evalue": "ignored",
          "traceback": [
            "\u001b[0;31m---------------------------------------------------------------------------\u001b[0m",
            "\u001b[0;31mNameError\u001b[0m                                 Traceback (most recent call last)",
            "\u001b[0;32m<ipython-input-37-ebc6d4278f12>\u001b[0m in \u001b[0;36m<module>\u001b[0;34m()\u001b[0m\n\u001b[1;32m      1\u001b[0m \u001b[0mids\u001b[0m \u001b[0;34m=\u001b[0m \u001b[0mdf_test\u001b[0m\u001b[0;34m[\u001b[0m\u001b[0;34m'id'\u001b[0m\u001b[0;34m]\u001b[0m\u001b[0;34m\u001b[0m\u001b[0;34m\u001b[0m\u001b[0m\n\u001b[0;32m----> 2\u001b[0;31m \u001b[0msubmission\u001b[0m \u001b[0;34m=\u001b[0m \u001b[0;34m{\u001b[0m\u001b[0;34m'id'\u001b[0m\u001b[0;34m:\u001b[0m\u001b[0mids\u001b[0m\u001b[0;34m,\u001b[0m \u001b[0;34m'predicted'\u001b[0m\u001b[0;34m:\u001b[0m\u001b[0mfinal_pred\u001b[0m\u001b[0;34m}\u001b[0m\u001b[0;34m\u001b[0m\u001b[0;34m\u001b[0m\u001b[0m\n\u001b[0m\u001b[1;32m      3\u001b[0m \u001b[0mdf_submission\u001b[0m \u001b[0;34m=\u001b[0m \u001b[0mpd\u001b[0m\u001b[0;34m.\u001b[0m\u001b[0mDataFrame\u001b[0m\u001b[0;34m(\u001b[0m\u001b[0msubmission\u001b[0m\u001b[0;34m)\u001b[0m\u001b[0;34m\u001b[0m\u001b[0;34m\u001b[0m\u001b[0m\n",
            "\u001b[0;31mNameError\u001b[0m: name 'final_pred' is not defined"
          ]
        }
      ]
    },
    {
      "cell_type": "code",
      "metadata": {
        "colab": {
          "base_uri": "https://localhost:8080/"
        },
        "id": "LfrZ8hnc2rO5",
        "outputId": "5c47df8b-1fdb-4714-dbca-842ebfa2ed63"
      },
      "source": [
        "df_submission.shape"
      ],
      "execution_count": null,
      "outputs": [
        {
          "output_type": "execute_result",
          "data": {
            "text/plain": [
              "(21183, 2)"
            ]
          },
          "metadata": {},
          "execution_count": 27
        }
      ]
    },
    {
      "cell_type": "code",
      "metadata": {
        "id": "H5GA1nQc2srx"
      },
      "source": [
        "df_submission.to_csv('submission_04.csv', index=False)"
      ],
      "execution_count": null,
      "outputs": []
    },
    {
      "cell_type": "markdown",
      "metadata": {
        "id": "yWMcvyNOQHbC"
      },
      "source": [
        "# Testando modelo com oversampling"
      ]
    },
    {
      "cell_type": "code",
      "metadata": {
        "id": "wiZV5TCTQ0g8"
      },
      "source": [
        "X_train_o, X_test_o, y_train_o, y_test_o = train_test_split(x_over, y_over, test_size=.33, random_state=5)"
      ],
      "execution_count": null,
      "outputs": []
    },
    {
      "cell_type": "code",
      "metadata": {
        "id": "zEmjJNJAe6SS"
      },
      "source": [
        "X_train_o_scaled = scaler.fit_transform(X_train_o)\n",
        "X_test_o_scaled = scaler.fit_transform(X_test_o)"
      ],
      "execution_count": null,
      "outputs": []
    },
    {
      "cell_type": "code",
      "metadata": {
        "colab": {
          "base_uri": "https://localhost:8080/"
        },
        "id": "VeLXFr9mRW8F",
        "outputId": "04683092-873c-4696-c94a-9b51dcda4a66"
      },
      "source": [
        "rfc.fit(X_train_o_scaled, y_train_o)\n",
        "predictions_o = rfc.predict(X_test_o_scaled)\n",
        "accuracy_score(y_test_o, predictions_o)"
      ],
      "execution_count": null,
      "outputs": [
        {
          "output_type": "execute_result",
          "data": {
            "text/plain": [
              "0.7817497648165569"
            ]
          },
          "metadata": {},
          "execution_count": 26
        }
      ]
    },
    {
      "cell_type": "code",
      "metadata": {
        "colab": {
          "base_uri": "https://localhost:8080/",
          "height": 111
        },
        "id": "V_lOwOqsS06y",
        "outputId": "5778d9e8-2055-4d7b-9fcd-d93085a43e53"
      },
      "source": [
        "metrics_df = pd.DataFrame({'f1_score':[f1_score(y_test, predictions),f1_score(y_test_o, predictions_o)],\n",
        "                           'accuracy':[accuracy_score(y_test, predictions),accuracy_score(y_test_o, predictions_o)]\n",
        "                           })\n",
        "metrics_df"
      ],
      "execution_count": null,
      "outputs": [
        {
          "output_type": "execute_result",
          "data": {
            "text/html": [
              "<div>\n",
              "<style scoped>\n",
              "    .dataframe tbody tr th:only-of-type {\n",
              "        vertical-align: middle;\n",
              "    }\n",
              "\n",
              "    .dataframe tbody tr th {\n",
              "        vertical-align: top;\n",
              "    }\n",
              "\n",
              "    .dataframe thead th {\n",
              "        text-align: right;\n",
              "    }\n",
              "</style>\n",
              "<table border=\"1\" class=\"dataframe\">\n",
              "  <thead>\n",
              "    <tr style=\"text-align: right;\">\n",
              "      <th></th>\n",
              "      <th>f1_score</th>\n",
              "      <th>accuracy</th>\n",
              "    </tr>\n",
              "  </thead>\n",
              "  <tbody>\n",
              "    <tr>\n",
              "      <th>0</th>\n",
              "      <td>0.527132</td>\n",
              "      <td>0.856039</td>\n",
              "    </tr>\n",
              "    <tr>\n",
              "      <th>1</th>\n",
              "      <td>0.815998</td>\n",
              "      <td>0.781750</td>\n",
              "    </tr>\n",
              "  </tbody>\n",
              "</table>\n",
              "</div>"
            ],
            "text/plain": [
              "   f1_score  accuracy\n",
              "0  0.527132  0.856039\n",
              "1  0.815998  0.781750"
            ]
          },
          "metadata": {},
          "execution_count": 27
        }
      ]
    },
    {
      "cell_type": "code",
      "metadata": {
        "colab": {
          "base_uri": "https://localhost:8080/",
          "height": 336
        },
        "id": "8wrIfMl2WDHz",
        "outputId": "ac203508-45cb-46ac-be7d-27e0d9aa7448"
      },
      "source": [
        "final_pred_o = rfc.predict(df_test_scaled)\n",
        "sns.countplot(final_pred_o)"
      ],
      "execution_count": null,
      "outputs": [
        {
          "output_type": "stream",
          "name": "stderr",
          "text": [
            "/usr/local/lib/python3.7/dist-packages/seaborn/_decorators.py:43: FutureWarning: Pass the following variable as a keyword arg: x. From version 0.12, the only valid positional argument will be `data`, and passing other arguments without an explicit keyword will result in an error or misinterpretation.\n",
            "  FutureWarning\n"
          ]
        },
        {
          "output_type": "execute_result",
          "data": {
            "text/plain": [
              "<matplotlib.axes._subplots.AxesSubplot at 0x7f178ea01150>"
            ]
          },
          "metadata": {},
          "execution_count": 28
        },
        {
          "output_type": "display_data",
          "data": {
            "image/png": "[encoded data removed]",
            "text/plain": [
              "<Figure size 432x288 with 1 Axes>"
            ]
          },
          "metadata": {
            "needs_background": "light"
          }
        }
      ]
    },
    {
      "cell_type": "code",
      "metadata": {
        "id": "1VXpuMY5TUrT"
      },
      "source": [
        "submission_over = {'id':ids, 'predicted':final_pred_o}\n",
        "df_submission_o = pd.DataFrame(submission_over)"
      ],
      "execution_count": null,
      "outputs": []
    },
    {
      "cell_type": "code",
      "metadata": {
        "colab": {
          "base_uri": "https://localhost:8080/"
        },
        "id": "Oj1Cf_0zW3n0",
        "outputId": "a18adc45-b03b-4aef-b98a-c3515811918f"
      },
      "source": [
        "df_submission_o.shape"
      ],
      "execution_count": null,
      "outputs": [
        {
          "output_type": "execute_result",
          "data": {
            "text/plain": [
              "(21183, 2)"
            ]
          },
          "metadata": {},
          "execution_count": 48
        }
      ]
    },
    {
      "cell_type": "code",
      "metadata": {
        "id": "pgi8j-FDW6ee"
      },
      "source": [
        "df_submission_o.to_csv('submission_02_1.csv', index=False)"
      ],
      "execution_count": null,
      "outputs": []
    },
    {
      "cell_type": "code",
      "metadata": {
        "colab": {
          "base_uri": "https://localhost:8080/",
          "height": 224
        },
        "id": "1c5uYH4I1S5k",
        "outputId": "fac570cd-3452-4215-bc77-1d20f776432f"
      },
      "source": [
        "df_train_out_z.head()"
      ],
      "execution_count": null,
      "outputs": [
        {
          "output_type": "execute_result",
          "data": {
            "text/html": [
              "<div>\n",
              "<style scoped>\n",
              "    .dataframe tbody tr th:only-of-type {\n",
              "        vertical-align: middle;\n",
              "    }\n",
              "\n",
              "    .dataframe tbody tr th {\n",
              "        vertical-align: top;\n",
              "    }\n",
              "\n",
              "    .dataframe thead th {\n",
              "        text-align: right;\n",
              "    }\n",
              "</style>\n",
              "<table border=\"1\" class=\"dataframe\">\n",
              "  <thead>\n",
              "    <tr style=\"text-align: right;\">\n",
              "      <th></th>\n",
              "      <th>id</th>\n",
              "      <th>var1</th>\n",
              "      <th>var2</th>\n",
              "      <th>var3</th>\n",
              "      <th>var4</th>\n",
              "      <th>var5</th>\n",
              "      <th>var6</th>\n",
              "      <th>var7</th>\n",
              "      <th>var8</th>\n",
              "      <th>var9</th>\n",
              "      <th>var10</th>\n",
              "      <th>var11</th>\n",
              "      <th>var12</th>\n",
              "      <th>var13</th>\n",
              "      <th>var14</th>\n",
              "      <th>var15</th>\n",
              "      <th>var16</th>\n",
              "      <th>var17</th>\n",
              "      <th>var18</th>\n",
              "      <th>var19</th>\n",
              "      <th>var20</th>\n",
              "      <th>var21</th>\n",
              "      <th>var22</th>\n",
              "      <th>var23</th>\n",
              "      <th>var24</th>\n",
              "      <th>var25</th>\n",
              "      <th>var26</th>\n",
              "      <th>var27</th>\n",
              "      <th>var28</th>\n",
              "      <th>var29</th>\n",
              "      <th>var30</th>\n",
              "      <th>var31</th>\n",
              "      <th>var32</th>\n",
              "      <th>var33</th>\n",
              "      <th>var34</th>\n",
              "      <th>var35</th>\n",
              "      <th>var36</th>\n",
              "      <th>var37</th>\n",
              "      <th>var38</th>\n",
              "      <th>var39</th>\n",
              "      <th>var40</th>\n",
              "      <th>var41</th>\n",
              "      <th>var42</th>\n",
              "      <th>var43</th>\n",
              "      <th>var44</th>\n",
              "      <th>var45</th>\n",
              "      <th>var46</th>\n",
              "      <th>var47</th>\n",
              "      <th>var48</th>\n",
              "      <th>var49</th>\n",
              "      <th>var50</th>\n",
              "      <th>var51</th>\n",
              "      <th>var52</th>\n",
              "      <th>var53</th>\n",
              "      <th>var54</th>\n",
              "      <th>var55</th>\n",
              "      <th>var56</th>\n",
              "      <th>var57</th>\n",
              "      <th>var58</th>\n",
              "      <th>var59</th>\n",
              "      <th>var60</th>\n",
              "      <th>var61</th>\n",
              "      <th>var62</th>\n",
              "      <th>var63</th>\n",
              "      <th>var64</th>\n",
              "      <th>var65</th>\n",
              "      <th>var66</th>\n",
              "      <th>var67</th>\n",
              "      <th>var68</th>\n",
              "      <th>y</th>\n",
              "    </tr>\n",
              "  </thead>\n",
              "  <tbody>\n",
              "    <tr>\n",
              "      <th>2</th>\n",
              "      <td>30</td>\n",
              "      <td>0</td>\n",
              "      <td>39</td>\n",
              "      <td>1019</td>\n",
              "      <td>10232</td>\n",
              "      <td>678</td>\n",
              "      <td>791</td>\n",
              "      <td>16</td>\n",
              "      <td>-999</td>\n",
              "      <td>3</td>\n",
              "      <td>63</td>\n",
              "      <td>9739</td>\n",
              "      <td>562</td>\n",
              "      <td>641</td>\n",
              "      <td>10</td>\n",
              "      <td>34</td>\n",
              "      <td>34</td>\n",
              "      <td>10</td>\n",
              "      <td>4</td>\n",
              "      <td>511</td>\n",
              "      <td>10</td>\n",
              "      <td>664</td>\n",
              "      <td>5</td>\n",
              "      <td>3</td>\n",
              "      <td>2</td>\n",
              "      <td>1</td>\n",
              "      <td>7</td>\n",
              "      <td>0</td>\n",
              "      <td>3</td>\n",
              "      <td>4</td>\n",
              "      <td>1</td>\n",
              "      <td>0</td>\n",
              "      <td>11</td>\n",
              "      <td>1</td>\n",
              "      <td>3</td>\n",
              "      <td>81</td>\n",
              "      <td>26</td>\n",
              "      <td>3</td>\n",
              "      <td>0</td>\n",
              "      <td>4</td>\n",
              "      <td>3</td>\n",
              "      <td>3</td>\n",
              "      <td>23</td>\n",
              "      <td>5</td>\n",
              "      <td>1</td>\n",
              "      <td>0</td>\n",
              "      <td>0</td>\n",
              "      <td>0</td>\n",
              "      <td>0</td>\n",
              "      <td>0</td>\n",
              "      <td>0</td>\n",
              "      <td>0</td>\n",
              "      <td>12</td>\n",
              "      <td>1</td>\n",
              "      <td>1</td>\n",
              "      <td>0.204636</td>\n",
              "      <td>0.213</td>\n",
              "      <td>0.451613</td>\n",
              "      <td>0.018639</td>\n",
              "      <td>0.214520</td>\n",
              "      <td>-999.000000</td>\n",
              "      <td>0.200814</td>\n",
              "      <td>0.051046</td>\n",
              "      <td>0.980827</td>\n",
              "      <td>0.018536</td>\n",
              "      <td>-999.00000</td>\n",
              "      <td>-999.00000</td>\n",
              "      <td>0.382353</td>\n",
              "      <td>0.242647</td>\n",
              "      <td>0</td>\n",
              "    </tr>\n",
              "    <tr>\n",
              "      <th>3</th>\n",
              "      <td>43</td>\n",
              "      <td>20</td>\n",
              "      <td>39</td>\n",
              "      <td>1751</td>\n",
              "      <td>2689</td>\n",
              "      <td>8235</td>\n",
              "      <td>1042</td>\n",
              "      <td>13</td>\n",
              "      <td>10</td>\n",
              "      <td>1</td>\n",
              "      <td>14</td>\n",
              "      <td>2890</td>\n",
              "      <td>6541</td>\n",
              "      <td>811</td>\n",
              "      <td>8</td>\n",
              "      <td>59</td>\n",
              "      <td>60</td>\n",
              "      <td>23</td>\n",
              "      <td>5</td>\n",
              "      <td>624</td>\n",
              "      <td>8</td>\n",
              "      <td>839</td>\n",
              "      <td>0</td>\n",
              "      <td>0</td>\n",
              "      <td>0</td>\n",
              "      <td>0</td>\n",
              "      <td>1</td>\n",
              "      <td>1</td>\n",
              "      <td>19</td>\n",
              "      <td>1</td>\n",
              "      <td>2</td>\n",
              "      <td>0</td>\n",
              "      <td>8</td>\n",
              "      <td>0</td>\n",
              "      <td>11</td>\n",
              "      <td>414</td>\n",
              "      <td>27</td>\n",
              "      <td>0</td>\n",
              "      <td>0</td>\n",
              "      <td>4</td>\n",
              "      <td>10</td>\n",
              "      <td>3</td>\n",
              "      <td>22</td>\n",
              "      <td>10</td>\n",
              "      <td>1</td>\n",
              "      <td>1</td>\n",
              "      <td>1</td>\n",
              "      <td>0</td>\n",
              "      <td>1</td>\n",
              "      <td>1</td>\n",
              "      <td>0</td>\n",
              "      <td>0</td>\n",
              "      <td>36</td>\n",
              "      <td>1</td>\n",
              "      <td>1</td>\n",
              "      <td>0.208299</td>\n",
              "      <td>0.716</td>\n",
              "      <td>0.101075</td>\n",
              "      <td>0.204753</td>\n",
              "      <td>0.349421</td>\n",
              "      <td>-999.000000</td>\n",
              "      <td>0.352379</td>\n",
              "      <td>0.044301</td>\n",
              "      <td>0.951564</td>\n",
              "      <td>0.023684</td>\n",
              "      <td>0.36337</td>\n",
              "      <td>0.00201</td>\n",
              "      <td>0.147059</td>\n",
              "      <td>0.132353</td>\n",
              "      <td>0</td>\n",
              "    </tr>\n",
              "    <tr>\n",
              "      <th>4</th>\n",
              "      <td>46</td>\n",
              "      <td>7</td>\n",
              "      <td>44</td>\n",
              "      <td>2262</td>\n",
              "      <td>29428</td>\n",
              "      <td>6031</td>\n",
              "      <td>304</td>\n",
              "      <td>16</td>\n",
              "      <td>-999</td>\n",
              "      <td>3</td>\n",
              "      <td>63</td>\n",
              "      <td>13541</td>\n",
              "      <td>7238</td>\n",
              "      <td>260</td>\n",
              "      <td>10</td>\n",
              "      <td>55</td>\n",
              "      <td>56</td>\n",
              "      <td>20</td>\n",
              "      <td>5</td>\n",
              "      <td>1413</td>\n",
              "      <td>10</td>\n",
              "      <td>270</td>\n",
              "      <td>2</td>\n",
              "      <td>3</td>\n",
              "      <td>2</td>\n",
              "      <td>1</td>\n",
              "      <td>8</td>\n",
              "      <td>1</td>\n",
              "      <td>3</td>\n",
              "      <td>4</td>\n",
              "      <td>1</td>\n",
              "      <td>0</td>\n",
              "      <td>17</td>\n",
              "      <td>4</td>\n",
              "      <td>3</td>\n",
              "      <td>567</td>\n",
              "      <td>8</td>\n",
              "      <td>3</td>\n",
              "      <td>2</td>\n",
              "      <td>4</td>\n",
              "      <td>5</td>\n",
              "      <td>3</td>\n",
              "      <td>26</td>\n",
              "      <td>5</td>\n",
              "      <td>1</td>\n",
              "      <td>0</td>\n",
              "      <td>0</td>\n",
              "      <td>0</td>\n",
              "      <td>0</td>\n",
              "      <td>1</td>\n",
              "      <td>0</td>\n",
              "      <td>0</td>\n",
              "      <td>19</td>\n",
              "      <td>1</td>\n",
              "      <td>1</td>\n",
              "      <td>0.222896</td>\n",
              "      <td>0.596</td>\n",
              "      <td>0.101075</td>\n",
              "      <td>0.140394</td>\n",
              "      <td>0.189641</td>\n",
              "      <td>0.021226</td>\n",
              "      <td>0.226161</td>\n",
              "      <td>0.059125</td>\n",
              "      <td>0.906155</td>\n",
              "      <td>0.020733</td>\n",
              "      <td>-999.00000</td>\n",
              "      <td>-999.00000</td>\n",
              "      <td>0.455882</td>\n",
              "      <td>0.132353</td>\n",
              "      <td>1</td>\n",
              "    </tr>\n",
              "    <tr>\n",
              "      <th>8</th>\n",
              "      <td>97</td>\n",
              "      <td>4</td>\n",
              "      <td>44</td>\n",
              "      <td>539</td>\n",
              "      <td>31622</td>\n",
              "      <td>50</td>\n",
              "      <td>2969</td>\n",
              "      <td>27</td>\n",
              "      <td>20</td>\n",
              "      <td>3</td>\n",
              "      <td>14</td>\n",
              "      <td>3359</td>\n",
              "      <td>8272</td>\n",
              "      <td>2292</td>\n",
              "      <td>19</td>\n",
              "      <td>22</td>\n",
              "      <td>22</td>\n",
              "      <td>10</td>\n",
              "      <td>4</td>\n",
              "      <td>1799</td>\n",
              "      <td>19</td>\n",
              "      <td>2422</td>\n",
              "      <td>5</td>\n",
              "      <td>3</td>\n",
              "      <td>0</td>\n",
              "      <td>1</td>\n",
              "      <td>7</td>\n",
              "      <td>1</td>\n",
              "      <td>25</td>\n",
              "      <td>4</td>\n",
              "      <td>1</td>\n",
              "      <td>0</td>\n",
              "      <td>20</td>\n",
              "      <td>4</td>\n",
              "      <td>30</td>\n",
              "      <td>9</td>\n",
              "      <td>31</td>\n",
              "      <td>7</td>\n",
              "      <td>0</td>\n",
              "      <td>4</td>\n",
              "      <td>10</td>\n",
              "      <td>3</td>\n",
              "      <td>19</td>\n",
              "      <td>9</td>\n",
              "      <td>1</td>\n",
              "      <td>0</td>\n",
              "      <td>0</td>\n",
              "      <td>0</td>\n",
              "      <td>0</td>\n",
              "      <td>0</td>\n",
              "      <td>0</td>\n",
              "      <td>0</td>\n",
              "      <td>16</td>\n",
              "      <td>3</td>\n",
              "      <td>1</td>\n",
              "      <td>0.204374</td>\n",
              "      <td>0.295</td>\n",
              "      <td>0.367742</td>\n",
              "      <td>0.067069</td>\n",
              "      <td>0.184499</td>\n",
              "      <td>0.160714</td>\n",
              "      <td>0.252895</td>\n",
              "      <td>0.050784</td>\n",
              "      <td>0.857719</td>\n",
              "      <td>0.015547</td>\n",
              "      <td>-999.00000</td>\n",
              "      <td>-999.00000</td>\n",
              "      <td>0.220588</td>\n",
              "      <td>0.143382</td>\n",
              "      <td>0</td>\n",
              "    </tr>\n",
              "    <tr>\n",
              "      <th>9</th>\n",
              "      <td>99</td>\n",
              "      <td>21</td>\n",
              "      <td>53</td>\n",
              "      <td>577</td>\n",
              "      <td>13528</td>\n",
              "      <td>1109</td>\n",
              "      <td>1746</td>\n",
              "      <td>35</td>\n",
              "      <td>27</td>\n",
              "      <td>3</td>\n",
              "      <td>63</td>\n",
              "      <td>13794</td>\n",
              "      <td>914</td>\n",
              "      <td>1317</td>\n",
              "      <td>26</td>\n",
              "      <td>1</td>\n",
              "      <td>3</td>\n",
              "      <td>3</td>\n",
              "      <td>3</td>\n",
              "      <td>1573</td>\n",
              "      <td>26</td>\n",
              "      <td>1372</td>\n",
              "      <td>5</td>\n",
              "      <td>3</td>\n",
              "      <td>2</td>\n",
              "      <td>4</td>\n",
              "      <td>1</td>\n",
              "      <td>0</td>\n",
              "      <td>24</td>\n",
              "      <td>4</td>\n",
              "      <td>2</td>\n",
              "      <td>0</td>\n",
              "      <td>16</td>\n",
              "      <td>5</td>\n",
              "      <td>58</td>\n",
              "      <td>591</td>\n",
              "      <td>2</td>\n",
              "      <td>2</td>\n",
              "      <td>0</td>\n",
              "      <td>4</td>\n",
              "      <td>4</td>\n",
              "      <td>3</td>\n",
              "      <td>26</td>\n",
              "      <td>7</td>\n",
              "      <td>1</td>\n",
              "      <td>0</td>\n",
              "      <td>0</td>\n",
              "      <td>0</td>\n",
              "      <td>0</td>\n",
              "      <td>0</td>\n",
              "      <td>1</td>\n",
              "      <td>0</td>\n",
              "      <td>15</td>\n",
              "      <td>1</td>\n",
              "      <td>1</td>\n",
              "      <td>0.206385</td>\n",
              "      <td>0.773</td>\n",
              "      <td>0.101075</td>\n",
              "      <td>0.131622</td>\n",
              "      <td>0.175693</td>\n",
              "      <td>-999.000000</td>\n",
              "      <td>0.492785</td>\n",
              "      <td>0.052694</td>\n",
              "      <td>0.891019</td>\n",
              "      <td>0.017476</td>\n",
              "      <td>-999.00000</td>\n",
              "      <td>-999.00000</td>\n",
              "      <td>0.161765</td>\n",
              "      <td>0.106618</td>\n",
              "      <td>0</td>\n",
              "    </tr>\n",
              "  </tbody>\n",
              "</table>\n",
              "</div>"
            ],
            "text/plain": [
              "   id  var1  var2  var3   var4  ...      var65      var66     var67     var68  y\n",
              "2  30     0    39  1019  10232  ... -999.00000 -999.00000  0.382353  0.242647  0\n",
              "3  43    20    39  1751   2689  ...    0.36337    0.00201  0.147059  0.132353  0\n",
              "4  46     7    44  2262  29428  ... -999.00000 -999.00000  0.455882  0.132353  1\n",
              "8  97     4    44   539  31622  ... -999.00000 -999.00000  0.220588  0.143382  0\n",
              "9  99    21    53   577  13528  ... -999.00000 -999.00000  0.161765  0.106618  0\n",
              "\n",
              "[5 rows x 70 columns]"
            ]
          },
          "metadata": {},
          "execution_count": 97
        }
      ]
    },
    {
      "cell_type": "code",
      "metadata": {
        "id": "2APz2RjA1Qam"
      },
      "source": [
        "X_out = df_train_out_z.drop(['id', 'y'], axis = 1)\n",
        "y_out = df_train_out_z['y']"
      ],
      "execution_count": null,
      "outputs": []
    },
    {
      "cell_type": "code",
      "metadata": {
        "id": "oa2TQHcZ13Js"
      },
      "source": [
        "X_train_out, X_test_out, y_train_out, y_test_out = train_test_split(X_out, y_out, test_size=.33, random_state=5)"
      ],
      "execution_count": null,
      "outputs": []
    },
    {
      "cell_type": "code",
      "metadata": {
        "id": "4U672THL13J3"
      },
      "source": [
        "\n",
        "scaler = StandardScaler()\n",
        "X_train_scaled_out = scaler.fit_transform(X_train_out)\n",
        "X_test_scaled_out = scaler.fit_transform(X_test_out)"
      ],
      "execution_count": null,
      "outputs": []
    },
    {
      "cell_type": "code",
      "metadata": {
        "id": "faOO82LA2B27"
      },
      "source": [
        "rfc_out = RandomForestClassifier(random_state=5)"
      ],
      "execution_count": null,
      "outputs": []
    },
    {
      "cell_type": "code",
      "metadata": {
        "colab": {
          "base_uri": "https://localhost:8080/"
        },
        "id": "3f0NzAVX2Mh3",
        "outputId": "da84a8fe-3d8e-4b96-d036-b26d16eddec8"
      },
      "source": [
        "rfc_out.fit(X_train_scaled_out, y_train_out)\n",
        "predictions_out = rfc_out.predict(X_test_out)\n",
        "accuracy_score(y_test_out, predictions_out)"
      ],
      "execution_count": null,
      "outputs": [
        {
          "output_type": "execute_result",
          "data": {
            "text/plain": [
              "0.4161344537815126"
            ]
          },
          "metadata": {},
          "execution_count": 105
        }
      ]
    }
  ]
}