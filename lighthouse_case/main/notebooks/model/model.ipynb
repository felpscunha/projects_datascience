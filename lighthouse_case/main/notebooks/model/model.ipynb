{
 "cells": [
  {
   "cell_type": "markdown",
   "metadata": {},
   "source": [
    "## MODELO\n",
    "\n",
    "#### ABORDAGEM\n",
    "\n",
    "- A abordagem utilizada será por um modelo de **REGRESSÃO** para prever o preço dos automóveis"
   ]
  },
  {
   "cell_type": "code",
   "execution_count": 1,
   "metadata": {},
   "outputs": [],
   "source": [
    "import pandas as pd \n",
    "import numpy as np \n",
    "\n",
    "from sklearn.linear_model import LinearRegression\n",
    "from sklearn.ensemble import RandomForestRegressor\n",
    "from sklearn.neighbors import KNeighborsRegressor\n",
    "from sklearn.model_selection import train_test_split\n",
    "from sklearn.metrics import mean_squared_error, r2_score\n",
    "from xgboost import XGBRegressor\n",
    "\n",
    "df = pd.read_csv('C:\\\\Users\\\\felip\\\\OneDrive\\\\projetos_python\\\\projects_datascience\\\\lighthouse_case\\\\main\\\\datasets\\\\raw\\\\cars_train.csv', sep='\\t', encoding='utf-16')"
   ]
  },
  {
   "cell_type": "markdown",
   "metadata": {},
   "source": [
    "- Os tratamentos nas variáveis foram feitos a fim de simplificar a contrução dos modelos base; \n",
    "- Foram selecionadas as principais marcas e modelos de veículos, os anos de fabricação do veículo foram transformados em uma nova variável que segrega os anos em faixas de 5 em 5 anos; \n",
    "- Os tipos de veículos, câmbio e cores foram simplificados também; \n",
    "- O tratamento realizado para adicionar informações sobre cidades ou estado foi criar uma nova variável chamada região, para simplificar a modelagem futura;\n",
    "\n",
    "Desse modo, através das análises de correlação e simplificações, foi possível utilizar 18 variáveis (features) + 1 variável alvo (target);"
   ]
  },
  {
   "cell_type": "markdown",
   "metadata": {},
   "source": [
    "#### Modelagem dos dados\n",
    "\n",
    "- Criação do modelo de regressão\n",
    "\n",
    "Para os tratamentos iniciais serão testados três (4) modelos diferentes: Um baseado em regressão linear, outro em KNN, além de RandomForest e XGBOOST;\n",
    "- Os modelos foram escolhidos através do modo como são feitas as previsões e em termos de complexidade. \n",
    "- Para avaliar os resultados, escolheu-se utilizar a raiz erro quadrático médio (RMSE) e o coeficiente de determinação do modelo (R2) como uma demonstração do erro médio na previsão do preço dos automóveis e o ajuste e explicação dos dados que o modelo está obtendo no carro do coeficiente de determinação."
   ]
  },
  {
   "cell_type": "code",
   "execution_count": 2,
   "metadata": {},
   "outputs": [],
   "source": [
    "# Transformaçoes nas variáveis \n",
    "\n",
    "df.num_fotos.fillna(df.num_fotos.mean(), inplace=True)\n",
    "df.fillna(0, inplace=True)\n",
    "df.drop(['id', 'veiculo_alienado', 'elegivel_revisao'], axis=1, inplace=True)\n",
    "\n",
    "# Tratamentos para os NaN e dados nas colunas\n",
    "lista_colunas_binarias = ['dono_aceita_troca', 'veiculo_único_dono', 'revisoes_concessionaria', 'ipva_pago', 'veiculo_licenciado', 'garantia_de_fábrica', 'revisoes_dentro_agenda', 'veiculo_alienado']\n",
    "lista_object = ['blindado', 'tipo_vendedor', 'entrega_delivery', 'troca', 'elegivel_revisao']\n",
    "\n",
    "def substituir_zero_por_nao(df, lista_colunas):\n",
    "    for coluna in lista_colunas:\n",
    "        if coluna in df.columns:\n",
    "            df[coluna] = df[coluna].apply(lambda x: \"Não\" if x == 0 else \"Sim\")\n",
    "    return df\n",
    "\n",
    "df = substituir_zero_por_nao(df, lista_colunas_binarias)\n",
    "\n",
    "# Agrupar marcas com menos de 190 aparições em \"Outras\" na variável \"marca\"\n",
    "marcas_menos_frequentes = df['marca'].value_counts()[df['marca'].value_counts() < 190].index\n",
    "df['marca'] = df['marca'].map(lambda x: 'Outras' if x in marcas_menos_frequentes else x)\n",
    "\n",
    "# Agrupar marcas com menos de 360 aparições em \"Outras\" na variável \"modelo\"\n",
    "modelos_menos_frequentes = df['modelo'].value_counts()[df['modelo'].value_counts() < 360].index\n",
    "df['modelo'] = df['modelo'].map(lambda x: 'Outras' if x in modelos_menos_frequentes else x)\n",
    "\n",
    "limites = [1985, 1990, 1995, 2000, 2005, 2010, 2015, 2020, 2023]\n",
    "rotulos = ['1985-1989', '1990-1994', '1995-1999', '2000-2004', '2005-2009', '2010-2014', '2015-2019', '2020-2022']\n",
    "df['faixa_de_anos'] = pd.cut(df['ano_de_fabricacao'], bins=limites, labels=rotulos, right=False)\n",
    "\n",
    "df['tipo'] = df['tipo'].replace(['Perua/SW', 'Cupê', 'Minivan'], 'Outros')\n",
    "df['cambio'] = df['cambio'].replace(['Automatizada', 'Automatizada DCT', 'Semi-automática', 'Automática Sequencial'], 'Outras')\n",
    "df['cor'] = df['cor'].replace(['Dourado', 'Verde', 'Vermelho'], 'Outras')\n",
    "\n",
    "regioes = {\n",
    "    'São Paulo (SP)': 'Sudeste',\n",
    "    'Rio de Janeiro (RJ)': 'Sudeste',\n",
    "    'Paraná (PR)': 'Sul',\n",
    "    'Santa Catarina (SC)': 'Sul',\n",
    "    'Minas Gerais (MG)': 'Sudeste',\n",
    "    'Rio Grande do Sul (RS)': 'Sul',\n",
    "    'Goiás (GO)': 'Centro-Oeste',\n",
    "    'Bahia (BA)': 'Nordeste',\n",
    "    'Pernambuco (PE)': 'Nordeste',\n",
    "    'Alagoas (AL)': 'Nordeste',\n",
    "    'Paraíba (PB)': 'Nordeste',\n",
    "    'Rio Grande do Norte (RN)': 'Nordeste',\n",
    "    'Pará (PA)': 'Norte',\n",
    "    'Ceará (CE)': 'Nordeste',\n",
    "    'Amazonas (AM)': 'Norte',\n",
    "    'Mato Grosso do Sul (MS)': 'Centro-Oeste',\n",
    "    'Mato Grosso (MT)': 'Centro-Oeste',\n",
    "    'Acre (AC)': 'Norte',\n",
    "    'Sergipe (SE)': 'Nordeste',\n",
    "    'Espírito Santo (ES)': 'Sudeste',\n",
    "    'Tocantins (TO)': 'Norte',\n",
    "    'Maranhão (MA)': 'Nordeste',\n",
    "    'Piauí (PI)': 'Nordeste',\n",
    "    'Rondônia (RO)': 'Norte',\n",
    "    'Roraima (RR)': 'Norte'\n",
    "}\n",
    "\n",
    "df['regiao'] = df['estado_vendedor'].map(regioes)"
   ]
  },
  {
   "cell_type": "markdown",
   "metadata": {},
   "source": [
    "- A seguir estão os testes iniciais dos modelos com as principais métricas utilizadas para avaliação, por último apresenta-se uma tabela com o resumo dos resultados."
   ]
  },
  {
   "cell_type": "code",
   "execution_count": 3,
   "metadata": {},
   "outputs": [
    {
     "name": "stdout",
     "output_type": "stream",
     "text": [
      "RMSE (Treino): 53567.665879186476\n",
      "RMSE (Teste): 51318.956064780454\n",
      "R2 (Treino): 0.5748629817837975\n",
      "R2 (Teste): 0.5849064499341402\n"
     ]
    }
   ],
   "source": [
    "# Selecionar as variáveis do modelo\n",
    "variaveis_modelo = ['marca', 'modelo', 'faixa_de_anos', 'hodometro', 'cambio', 'tipo', 'blindado', 'cor',\n",
    "                    'tipo_vendedor', 'troca', 'dono_aceita_troca',\n",
    "                    'veiculo_único_dono', 'revisoes_concessionaria', 'veiculo_licenciado', 'ipva_pago',\n",
    "                    'garantia_de_fábrica', 'revisoes_dentro_agenda', 'regiao', 'preco']\n",
    "\n",
    "# Filtrar o dataframe com as variáveis selecionadas\n",
    "df_modelo = df[variaveis_modelo].copy()\n",
    "\n",
    "colunas_objeto = df_modelo.select_dtypes(include=['object', 'category']).columns\n",
    "df_modelo = pd.get_dummies(df_modelo, columns=colunas_objeto)\n",
    "\n",
    "# Dividir o dataframe em conjunto de treinamento e teste\n",
    "X = df_modelo.drop('preco', axis=1)\n",
    "y = df_modelo['preco']\n",
    "X_train, X_test, y_train, y_test = train_test_split(X, y, test_size=0.2, random_state=42)\n",
    "\n",
    "# Ajustar o modelo de regressão linear\n",
    "linear = LinearRegression()\n",
    "linear.fit(X_train, y_train)\n",
    "\n",
    "y_pred = linear.predict(X_test)\n",
    "y_pred_train = linear.predict(X_train)\n",
    "rmse_train = np.sqrt(mean_squared_error(y_train, y_pred_train))\n",
    "rmse_test = np.sqrt(mean_squared_error(y_test, y_pred))\n",
    "print(\"RMSE (Treino):\", rmse_train)\n",
    "print(\"RMSE (Teste):\", rmse_test)\n",
    "\n",
    "r2_train = r2_score(y_train, y_pred_train)\n",
    "r2_test = r2_score(y_test, y_pred)\n",
    "print(\"R2 (Treino):\", r2_train)\n",
    "print(\"R2 (Teste):\", r2_test)"
   ]
  },
  {
   "cell_type": "code",
   "execution_count": 4,
   "metadata": {},
   "outputs": [
    {
     "name": "stdout",
     "output_type": "stream",
     "text": [
      "RMSE (Treino): 42612.56904398452\n",
      "RMSE (Teste): 49270.168425444754\n",
      "R2 (Treino): 0.7309711149535221\n",
      "R2 (Teste): 0.6173881185976869\n"
     ]
    }
   ],
   "source": [
    "from sklearn.preprocessing import StandardScaler\n",
    "from sklearn.neighbors import KNeighborsRegressor\n",
    "\n",
    "# Padronizar as variáveis numéricas\n",
    "scaler = StandardScaler()\n",
    "X_train_scaled = scaler.fit_transform(X_train.select_dtypes(include='number'))\n",
    "X_test_scaled = scaler.transform(X_test.select_dtypes(include='number'))\n",
    "\n",
    "# Criar o modelo KNN\n",
    "knn = KNeighborsRegressor(n_neighbors=5)\n",
    "knn.fit(X_train_scaled, y_train)\n",
    "\n",
    "# Realizar previsões no conjunto de teste\n",
    "y_pred = knn.predict(X_test_scaled)\n",
    "y_pred_train = knn.predict(X_train_scaled)\n",
    "rmse_train = np.sqrt(mean_squared_error(y_train, y_pred_train))\n",
    "rmse_test = np.sqrt(mean_squared_error(y_test, y_pred))\n",
    "print(\"RMSE (Treino):\", rmse_train)\n",
    "print(\"RMSE (Teste):\", rmse_test)\n",
    "\n",
    "r2_train = r2_score(y_train, y_pred_train)\n",
    "r2_test = r2_score(y_test, y_pred)\n",
    "print(\"R2 (Treino):\", r2_train)\n",
    "print(\"R2 (Teste):\", r2_test)"
   ]
  },
  {
   "cell_type": "code",
   "execution_count": 5,
   "metadata": {},
   "outputs": [
    {
     "name": "stdout",
     "output_type": "stream",
     "text": [
      "RMSE (Treino): 18740.44429827177\n",
      "RMSE (Teste): 49037.12305451796\n",
      "R2 (Treino): 0.947966475754673\n",
      "R2 (Teste): 0.620999027816443\n"
     ]
    }
   ],
   "source": [
    "from sklearn.ensemble import RandomForestRegressor\n",
    "\n",
    "random_forest = RandomForestRegressor(random_state=42)\n",
    "random_forest.fit(X_train, y_train)\n",
    "\n",
    "y_pred = random_forest.predict(X_test)\n",
    "y_pred_train = random_forest.predict(X_train)\n",
    "rmse_train = np.sqrt(mean_squared_error(y_train, y_pred_train))\n",
    "rmse_test = np.sqrt(mean_squared_error(y_test, y_pred))\n",
    "print(\"RMSE (Treino):\", rmse_train)\n",
    "print(\"RMSE (Teste):\", rmse_test)\n",
    "\n",
    "r2_train = r2_score(y_train, y_pred_train)\n",
    "r2_test = r2_score(y_test, y_pred)\n",
    "print(\"R2 (Treino):\", r2_train)\n",
    "print(\"R2 (Teste):\", r2_test)"
   ]
  },
  {
   "cell_type": "code",
   "execution_count": 6,
   "metadata": {},
   "outputs": [
    {
     "name": "stdout",
     "output_type": "stream",
     "text": [
      "RMSE (Treino): 36364.26493788945\n",
      "RMSE (Teste): 46187.93650551364\n",
      "R2 (Treino): 0.8040825577235501\n",
      "R2 (Teste): 0.6637614696861855\n"
     ]
    }
   ],
   "source": [
    "xgb = XGBRegressor(random_state=42)\n",
    "xgb.fit(X_train, y_train)\n",
    "\n",
    "y_pred = xgb.predict(X_test)\n",
    "y_pred_train = xgb.predict(X_train)\n",
    "rmse_train = np.sqrt(mean_squared_error(y_train, y_pred_train))\n",
    "rmse_test = np.sqrt(mean_squared_error(y_test, y_pred))\n",
    "print(\"RMSE (Treino):\", rmse_train)\n",
    "print(\"RMSE (Teste):\", rmse_test)\n",
    "\n",
    "r2_train = r2_score(y_train, y_pred_train)\n",
    "r2_test = r2_score(y_test, y_pred)\n",
    "print(\"R2 (Treino):\", r2_train)\n",
    "print(\"R2 (Teste):\", r2_test)\n"
   ]
  },
  {
   "cell_type": "markdown",
   "metadata": {},
   "source": [
    "## Valores aproximados das principais métricas dos modelos avaliados\n",
    "\n",
    "|Modelo|RMSEC (R$)| RMSEV (R$)|R^2 (%)|\n",
    "|---|---|---|---|\n",
    "|Regressão Linear|53567.67|51318.96|58.5|\n",
    "|Regressão por KNN|42757.07|50058.02|60.5|\n",
    "|Regressão por RandomForest|18722.76|49102.52|62.0|\n",
    "|Regressão por XGBoost|36364.26|46249.35|66.3|"
   ]
  },
  {
   "cell_type": "markdown",
   "metadata": {},
   "source": [
    "#### Avaliação dos resultados iniciais\n",
    "\n",
    "- A partir da análise dos modelos, percebe-se que o que obteve um menor erro médio quadrático, ou seja, teve um percentual de acerto maior na previsão do preço dos veículos foi o XGBOOST, com erro de validação RMSEV de 46 mil reais e R2 de 66%."
   ]
  },
  {
   "cell_type": "markdown",
   "metadata": {},
   "source": [
    "#### Validação do modelo com conjunto de teste externo\n",
    "\n",
    "- Serão aplicadas as mesmas transformações no conjunto de teste para aplicação do modelo\n",
    "- Por fim, será gerado um arquivo csv com as previsões"
   ]
  },
  {
   "cell_type": "code",
   "execution_count": 77,
   "metadata": {},
   "outputs": [],
   "source": [
    "# Carregar o conjunto de testes\n",
    "df_teste = pd.read_csv('C:\\\\Users\\\\felip\\\\OneDrive\\\\projetos_python\\\\projects_datascience\\\\lighthouse_case\\\\main\\\\datasets\\\\raw\\\\cars_test.csv', sep='\\t', encoding='utf-16')"
   ]
  },
  {
   "cell_type": "code",
   "execution_count": 78,
   "metadata": {},
   "outputs": [
    {
     "data": {
      "text/html": [
       "<div>\n",
       "<style scoped>\n",
       "    .dataframe tbody tr th:only-of-type {\n",
       "        vertical-align: middle;\n",
       "    }\n",
       "\n",
       "    .dataframe tbody tr th {\n",
       "        vertical-align: top;\n",
       "    }\n",
       "\n",
       "    .dataframe thead th {\n",
       "        text-align: right;\n",
       "    }\n",
       "</style>\n",
       "<table border=\"1\" class=\"dataframe\">\n",
       "  <thead>\n",
       "    <tr style=\"text-align: right;\">\n",
       "      <th></th>\n",
       "      <th>id</th>\n",
       "      <th>num_fotos</th>\n",
       "      <th>marca</th>\n",
       "      <th>modelo</th>\n",
       "      <th>versao</th>\n",
       "      <th>ano_de_fabricacao</th>\n",
       "      <th>ano_modelo</th>\n",
       "      <th>hodometro</th>\n",
       "      <th>cambio</th>\n",
       "      <th>num_portas</th>\n",
       "      <th>...</th>\n",
       "      <th>troca</th>\n",
       "      <th>elegivel_revisao</th>\n",
       "      <th>dono_aceita_troca</th>\n",
       "      <th>veiculo_único_dono</th>\n",
       "      <th>revisoes_concessionaria</th>\n",
       "      <th>ipva_pago</th>\n",
       "      <th>veiculo_licenciado</th>\n",
       "      <th>garantia_de_fábrica</th>\n",
       "      <th>revisoes_dentro_agenda</th>\n",
       "      <th>veiculo_alienado</th>\n",
       "    </tr>\n",
       "  </thead>\n",
       "  <tbody>\n",
       "    <tr>\n",
       "      <th>0</th>\n",
       "      <td>13518783164498355150900635905895481162</td>\n",
       "      <td>8.0</td>\n",
       "      <td>NISSAN</td>\n",
       "      <td>VERSA</td>\n",
       "      <td>1.6 16V FLEXSTART V-DRIVE MANUAL</td>\n",
       "      <td>2021</td>\n",
       "      <td>2021.0</td>\n",
       "      <td>20258.0</td>\n",
       "      <td>Manual</td>\n",
       "      <td>4</td>\n",
       "      <td>...</td>\n",
       "      <td>False</td>\n",
       "      <td>False</td>\n",
       "      <td>Aceita troca</td>\n",
       "      <td>NaN</td>\n",
       "      <td>NaN</td>\n",
       "      <td>IPVA pago</td>\n",
       "      <td>Licenciado</td>\n",
       "      <td>Garantia de fábrica</td>\n",
       "      <td>NaN</td>\n",
       "      <td>NaN</td>\n",
       "    </tr>\n",
       "  </tbody>\n",
       "</table>\n",
       "<p>1 rows × 28 columns</p>\n",
       "</div>"
      ],
      "text/plain": [
       "                                       id  num_fotos   marca modelo  \\\n",
       "0  13518783164498355150900635905895481162        8.0  NISSAN  VERSA   \n",
       "\n",
       "                             versao  ano_de_fabricacao  ano_modelo  hodometro  \\\n",
       "0  1.6 16V FLEXSTART V-DRIVE MANUAL               2021      2021.0    20258.0   \n",
       "\n",
       "   cambio  num_portas  ...  troca elegivel_revisao dono_aceita_troca  \\\n",
       "0  Manual           4  ...  False            False      Aceita troca   \n",
       "\n",
       "  veiculo_único_dono revisoes_concessionaria  ipva_pago veiculo_licenciado  \\\n",
       "0                NaN                     NaN  IPVA pago         Licenciado   \n",
       "\n",
       "   garantia_de_fábrica  revisoes_dentro_agenda  veiculo_alienado  \n",
       "0  Garantia de fábrica                     NaN               NaN  \n",
       "\n",
       "[1 rows x 28 columns]"
      ]
     },
     "execution_count": 78,
     "metadata": {},
     "output_type": "execute_result"
    }
   ],
   "source": [
    "df_teste.head(1)"
   ]
  },
  {
   "cell_type": "code",
   "execution_count": 79,
   "metadata": {},
   "outputs": [],
   "source": [
    "# Aplicar as transformações nas colunas\n",
    "df_test = df_teste.copy()\n",
    "df_test['num_fotos'].fillna(df_test['num_fotos'].mean(), inplace=True)\n",
    "df_test.fillna(0, inplace=True)\n",
    "df_test.drop(['id', 'veiculo_alienado', 'elegivel_revisao'], axis=1, inplace=True)\n",
    "\n",
    "df_test = substituir_zero_por_nao(df_test, lista_colunas_binarias)\n",
    "\n",
    "# Agrupar marcas com menos de 190 aparições em \"Outras\" na variável \"marca\"\n",
    "marcas_menos_frequentes = df_test['marca'].value_counts()[df_test['marca'].value_counts() < 64].index\n",
    "df_test['marca'] = df_test['marca'].map(lambda x: 'Outras' if x in marcas_menos_frequentes else x)\n",
    "\n",
    "# Agrupar marcas com menos de 360 aparições em \"Outras\" na variável \"modelo\"\n",
    "modelos_menos_frequentes = df_test['modelo'].value_counts()[df_test['modelo'].value_counts() < 126].index\n",
    "df_test['modelo'] = df_test['modelo'].map(lambda x: 'Outras' if x in modelos_menos_frequentes else x)\n",
    "\n",
    "df_test['faixa_de_anos'] = pd.cut(df_test['ano_de_fabricacao'], bins=limites, labels=rotulos, right=False)\n",
    "df_test['tipo'] = df_test['tipo'].replace(['Perua/SW', 'Cupê', 'Minivan', 'Conversível'], 'Outros')\n",
    "df_test['cambio'] = df_test['cambio'].replace(['Automatizada', 'Automatizada DCT', 'Semi-automática', 'Automática Sequencial'], 'Outras')\n",
    "df_test['cor'] = df_test['cor'].replace(['Dourado', 'Verde', 'Vermelho', 'Azul'], 'Outras')\n",
    "df_test['regiao'] = df_test['estado_vendedor'].map(regioes)"
   ]
  },
  {
   "cell_type": "code",
   "execution_count": 80,
   "metadata": {},
   "outputs": [],
   "source": [
    "variaveis_modelo_externo = ['marca', 'modelo', 'faixa_de_anos', 'hodometro', 'cambio', 'tipo', 'blindado', 'cor',\n",
    "                    'tipo_vendedor', 'troca', 'dono_aceita_troca',\n",
    "                    'veiculo_único_dono', 'revisoes_concessionaria', 'veiculo_licenciado', 'ipva_pago',\n",
    "                    'garantia_de_fábrica', 'revisoes_dentro_agenda', 'regiao']\n",
    "\n",
    "df_test = df_test[variaveis_modelo_externo].copy()"
   ]
  },
  {
   "cell_type": "code",
   "execution_count": 81,
   "metadata": {},
   "outputs": [
    {
     "data": {
      "text/html": [
       "<div>\n",
       "<style scoped>\n",
       "    .dataframe tbody tr th:only-of-type {\n",
       "        vertical-align: middle;\n",
       "    }\n",
       "\n",
       "    .dataframe tbody tr th {\n",
       "        vertical-align: top;\n",
       "    }\n",
       "\n",
       "    .dataframe thead th {\n",
       "        text-align: right;\n",
       "    }\n",
       "</style>\n",
       "<table border=\"1\" class=\"dataframe\">\n",
       "  <thead>\n",
       "    <tr style=\"text-align: right;\">\n",
       "      <th></th>\n",
       "      <th>marca</th>\n",
       "      <th>modelo</th>\n",
       "      <th>faixa_de_anos</th>\n",
       "      <th>hodometro</th>\n",
       "      <th>cambio</th>\n",
       "      <th>tipo</th>\n",
       "      <th>blindado</th>\n",
       "      <th>cor</th>\n",
       "      <th>tipo_vendedor</th>\n",
       "      <th>troca</th>\n",
       "      <th>dono_aceita_troca</th>\n",
       "      <th>veiculo_único_dono</th>\n",
       "      <th>revisoes_concessionaria</th>\n",
       "      <th>veiculo_licenciado</th>\n",
       "      <th>ipva_pago</th>\n",
       "      <th>garantia_de_fábrica</th>\n",
       "      <th>revisoes_dentro_agenda</th>\n",
       "      <th>regiao</th>\n",
       "    </tr>\n",
       "  </thead>\n",
       "  <tbody>\n",
       "    <tr>\n",
       "      <th>0</th>\n",
       "      <td>NISSAN</td>\n",
       "      <td>Outras</td>\n",
       "      <td>2020-2022</td>\n",
       "      <td>20258.0</td>\n",
       "      <td>Manual</td>\n",
       "      <td>Hatchback</td>\n",
       "      <td>N</td>\n",
       "      <td>Branco</td>\n",
       "      <td>PF</td>\n",
       "      <td>False</td>\n",
       "      <td>Sim</td>\n",
       "      <td>Não</td>\n",
       "      <td>Não</td>\n",
       "      <td>Sim</td>\n",
       "      <td>Sim</td>\n",
       "      <td>Sim</td>\n",
       "      <td>Não</td>\n",
       "      <td>Sudeste</td>\n",
       "    </tr>\n",
       "  </tbody>\n",
       "</table>\n",
       "</div>"
      ],
      "text/plain": [
       "    marca  modelo faixa_de_anos  hodometro  cambio       tipo blindado  \\\n",
       "0  NISSAN  Outras     2020-2022    20258.0  Manual  Hatchback        N   \n",
       "\n",
       "      cor tipo_vendedor  troca dono_aceita_troca veiculo_único_dono  \\\n",
       "0  Branco            PF  False               Sim                Não   \n",
       "\n",
       "  revisoes_concessionaria veiculo_licenciado ipva_pago garantia_de_fábrica  \\\n",
       "0                     Não                Sim       Sim                 Sim   \n",
       "\n",
       "  revisoes_dentro_agenda   regiao  \n",
       "0                    Não  Sudeste  "
      ]
     },
     "execution_count": 81,
     "metadata": {},
     "output_type": "execute_result"
    }
   ],
   "source": [
    "df_test.head(1)"
   ]
  },
  {
   "cell_type": "code",
   "execution_count": 82,
   "metadata": {},
   "outputs": [],
   "source": [
    "# Aplicar pd.get_dummies\n",
    "colunas_objeto = df_test.select_dtypes(include=['object', 'category']).columns\n",
    "df_test_encoded = pd.get_dummies(df_test, columns=colunas_objeto)\n",
    "\n",
    "# Realizar a previsão\n",
    "y_pred = xgb.predict(df_test_encoded)\n",
    "\n",
    "# Criar DataFrame com as previsões\n",
    "predictions = pd.DataFrame({'id': df_teste['id'], 'preco': y_pred})\n",
    "\n",
    "# Salvar as previsões em um arquivo CSV\n",
    "predictions.to_csv('predicted.csv', index=False)"
   ]
  },
  {
   "cell_type": "markdown",
   "metadata": {},
   "source": [
    "#### Conclusões\n",
    "\n",
    "- Não foi possível obter uma previsão tão boa com os modelos testados;\n",
    "    - Deve se discutir com o cliente se há necessidade de melhorar mais a performance utilizando modelos mais robustos com otimização de hiperparâmetros;\n",
    "        - Testes iniciais realizados não mostraram efeito positivo; \n",
    "    - Possíveis melhorias incluem uma seleção de variável mais detalhada utilizando-se de validação cruzada; "
   ]
  }
 ],
 "metadata": {
  "kernelspec": {
   "display_name": "Python 3",
   "language": "python",
   "name": "python3"
  },
  "language_info": {
   "codemirror_mode": {
    "name": "ipython",
    "version": 3
   },
   "file_extension": ".py",
   "mimetype": "text/x-python",
   "name": "python",
   "nbconvert_exporter": "python",
   "pygments_lexer": "ipython3",
   "version": "3.8.10"
  },
  "orig_nbformat": 4
 },
 "nbformat": 4,
 "nbformat_minor": 2
}
