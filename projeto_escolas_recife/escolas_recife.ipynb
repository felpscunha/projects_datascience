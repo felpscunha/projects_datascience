{
 "cells": [
  {
   "cell_type": "markdown",
   "id": "dc1d31bc",
   "metadata": {},
   "source": [
    "# Estudo sobre as instituições da área de educação do Recife\n",
    "\n",
    "## O objetivo desse estudo é realizar uma análise exploratória a partir dos dados sobre as escolas e creches da rede municipal da cidade de Recife - PE.\n",
    "\n",
    "### Os dados estão disponíveis no portal http://dados.recife.pe.gov.br/\n",
    "##### *Os dados foram atualizados em 19 de outubro de 2021."
   ]
  },
  {
   "cell_type": "code",
   "execution_count": 1,
   "id": "d8f0455b",
   "metadata": {},
   "outputs": [],
   "source": [
    "# importanto bibliotecas \n",
    "import pandas as pd\n",
    "import numpy as np\n",
    "import matplotlib.pyplot as plt\n",
    "import seaborn as sns"
   ]
  },
  {
   "cell_type": "code",
   "execution_count": 2,
   "id": "844ce52b",
   "metadata": {},
   "outputs": [],
   "source": [
    "df_escolas_total = pd.read_csv('info_unidadesensino_07102021.csv', sep=';') # lendo o arquivo csv baixado"
   ]
  },
  {
   "cell_type": "code",
   "execution_count": 3,
   "id": "dc863575",
   "metadata": {
    "scrolled": false
   },
   "outputs": [
    {
     "data": {
      "text/html": [
       "<div>\n",
       "<style scoped>\n",
       "    .dataframe tbody tr th:only-of-type {\n",
       "        vertical-align: middle;\n",
       "    }\n",
       "\n",
       "    .dataframe tbody tr th {\n",
       "        vertical-align: top;\n",
       "    }\n",
       "\n",
       "    .dataframe thead th {\n",
       "        text-align: right;\n",
       "    }\n",
       "</style>\n",
       "<table border=\"1\" class=\"dataframe\">\n",
       "  <thead>\n",
       "    <tr style=\"text-align: right;\">\n",
       "      <th></th>\n",
       "      <th>rpa</th>\n",
       "      <th>tipo_cod</th>\n",
       "      <th>tipo</th>\n",
       "      <th>cod_escola</th>\n",
       "      <th>escola</th>\n",
       "      <th>inep</th>\n",
       "      <th>rua</th>\n",
       "      <th>numero</th>\n",
       "      <th>cod_bairro</th>\n",
       "      <th>bairro</th>\n",
       "      <th>...</th>\n",
       "      <th>qtd_professores</th>\n",
       "      <th>escola_climatizada</th>\n",
       "      <th>data_visita</th>\n",
       "      <th>quadra_coberta</th>\n",
       "      <th>quadra_descoberta</th>\n",
       "      <th>biblioteca</th>\n",
       "      <th>sala_recurso</th>\n",
       "      <th>gestor</th>\n",
       "      <th>longitude</th>\n",
       "      <th>latitude</th>\n",
       "    </tr>\n",
       "  </thead>\n",
       "  <tbody>\n",
       "    <tr>\n",
       "      <th>0</th>\n",
       "      <td>1</td>\n",
       "      <td>1</td>\n",
       "      <td>ESCOLA MUNICIPAL</td>\n",
       "      <td>90</td>\n",
       "      <td>ALMIRANTE SOARES DUTRA</td>\n",
       "      <td>26120658.0</td>\n",
       "      <td>CAMUTANGA</td>\n",
       "      <td>180</td>\n",
       "      <td>51</td>\n",
       "      <td>CABANGA</td>\n",
       "      <td>...</td>\n",
       "      <td>12</td>\n",
       "      <td>SIM</td>\n",
       "      <td>27/2/2018</td>\n",
       "      <td>NÃO</td>\n",
       "      <td>NÃO</td>\n",
       "      <td>SIM</td>\n",
       "      <td>SIM</td>\n",
       "      <td>VERONICA MARIA LIMA</td>\n",
       "      <td>-34.89535</td>\n",
       "      <td>-8.07895</td>\n",
       "    </tr>\n",
       "  </tbody>\n",
       "</table>\n",
       "<p>1 rows × 23 columns</p>\n",
       "</div>"
      ],
      "text/plain": [
       "   rpa  tipo_cod              tipo  cod_escola                  escola  \\\n",
       "0    1         1  ESCOLA MUNICIPAL          90  ALMIRANTE SOARES DUTRA   \n",
       "\n",
       "         inep        rua numero  cod_bairro   bairro  ... qtd_professores  \\\n",
       "0  26120658.0  CAMUTANGA    180          51  CABANGA  ...              12   \n",
       "\n",
       "   escola_climatizada  data_visita  quadra_coberta quadra_descoberta  \\\n",
       "0                 SIM    27/2/2018             NÃO               NÃO   \n",
       "\n",
       "  biblioteca sala_recurso               gestor longitude latitude  \n",
       "0        SIM          SIM  VERONICA MARIA LIMA -34.89535 -8.07895  \n",
       "\n",
       "[1 rows x 23 columns]"
      ]
     },
     "execution_count": 3,
     "metadata": {},
     "output_type": "execute_result"
    }
   ],
   "source": [
    "df_escolas_total.head(1) # observação da primeira linha do conjunto de dados"
   ]
  },
  {
   "cell_type": "markdown",
   "id": "861eaa49",
   "metadata": {},
   "source": [
    "# Análise Exploratória dos Dados \n",
    "### Análise Geral das informações contidas no conjunto de dados \n",
    "### Limpeza de variáveis irrelevantes e tratamento dos dados faltantes"
   ]
  },
  {
   "cell_type": "code",
   "execution_count": 4,
   "id": "cced23f3",
   "metadata": {},
   "outputs": [
    {
     "name": "stdout",
     "output_type": "stream",
     "text": [
      "<class 'pandas.core.frame.DataFrame'>\n",
      "RangeIndex: 351 entries, 0 to 350\n",
      "Data columns (total 23 columns):\n",
      " #   Column              Non-Null Count  Dtype  \n",
      "---  ------              --------------  -----  \n",
      " 0   rpa                 351 non-null    int64  \n",
      " 1   tipo_cod            351 non-null    int64  \n",
      " 2   tipo                351 non-null    object \n",
      " 3   cod_escola          351 non-null    int64  \n",
      " 4   escola              351 non-null    object \n",
      " 5   inep                349 non-null    float64\n",
      " 6   rua                 345 non-null    object \n",
      " 7   numero              351 non-null    object \n",
      " 8   cod_bairro          351 non-null    int64  \n",
      " 9   bairro              351 non-null    object \n",
      " 10  metragem            312 non-null    object \n",
      " 11  qtd_alunos          351 non-null    int64  \n",
      " 12  qtd_turmas          351 non-null    int64  \n",
      " 13  qtd_professores     351 non-null    int64  \n",
      " 14  escola_climatizada  351 non-null    object \n",
      " 15  data_visita         125 non-null    object \n",
      " 16  quadra_coberta      351 non-null    object \n",
      " 17  quadra_descoberta   351 non-null    object \n",
      " 18  biblioteca          351 non-null    object \n",
      " 19  sala_recurso        351 non-null    object \n",
      " 20  gestor              322 non-null    object \n",
      " 21  longitude           345 non-null    float64\n",
      " 22  latitude            345 non-null    float64\n",
      "dtypes: float64(3), int64(7), object(13)\n",
      "memory usage: 63.2+ KB\n"
     ]
    }
   ],
   "source": [
    "df_escolas_total.info() # informação geral dos dados"
   ]
  },
  {
   "cell_type": "markdown",
   "id": "908986ba",
   "metadata": {},
   "source": [
    "#### Percebe-se que as variáveis inep, data_visita, gestor e metragem não são interessantes para modelagem dos dados ou estão com muitos dados faltantes. Essas variáveis serão excluídas das análises posteriores."
   ]
  },
  {
   "cell_type": "code",
   "execution_count": 5,
   "id": "e506c0f4",
   "metadata": {},
   "outputs": [],
   "source": [
    "df_escolas = df_escolas_total.drop(columns=['inep', 'data_visita', 'gestor', 'metragem']) # retirando variáveis irrelevantes para análise"
   ]
  },
  {
   "cell_type": "code",
   "execution_count": 6,
   "id": "a8bec4a4",
   "metadata": {},
   "outputs": [
    {
     "data": {
      "text/html": [
       "<div>\n",
       "<style scoped>\n",
       "    .dataframe tbody tr th:only-of-type {\n",
       "        vertical-align: middle;\n",
       "    }\n",
       "\n",
       "    .dataframe tbody tr th {\n",
       "        vertical-align: top;\n",
       "    }\n",
       "\n",
       "    .dataframe thead th {\n",
       "        text-align: right;\n",
       "    }\n",
       "</style>\n",
       "<table border=\"1\" class=\"dataframe\">\n",
       "  <thead>\n",
       "    <tr style=\"text-align: right;\">\n",
       "      <th></th>\n",
       "      <th>rpa</th>\n",
       "      <th>tipo_cod</th>\n",
       "      <th>tipo</th>\n",
       "      <th>cod_escola</th>\n",
       "      <th>escola</th>\n",
       "      <th>rua</th>\n",
       "      <th>numero</th>\n",
       "      <th>cod_bairro</th>\n",
       "      <th>bairro</th>\n",
       "      <th>qtd_alunos</th>\n",
       "      <th>qtd_turmas</th>\n",
       "      <th>qtd_professores</th>\n",
       "      <th>escola_climatizada</th>\n",
       "      <th>quadra_coberta</th>\n",
       "      <th>quadra_descoberta</th>\n",
       "      <th>biblioteca</th>\n",
       "      <th>sala_recurso</th>\n",
       "      <th>longitude</th>\n",
       "      <th>latitude</th>\n",
       "    </tr>\n",
       "  </thead>\n",
       "  <tbody>\n",
       "    <tr>\n",
       "      <th>24</th>\n",
       "      <td>1</td>\n",
       "      <td>8</td>\n",
       "      <td>CRECHE ESC.RECIFE</td>\n",
       "      <td>35</td>\n",
       "      <td>PORTO DIGITAL DO RECIFE</td>\n",
       "      <td>NaN</td>\n",
       "      <td>050</td>\n",
       "      <td>19</td>\n",
       "      <td>RECIFE</td>\n",
       "      <td>82</td>\n",
       "      <td>5</td>\n",
       "      <td>4</td>\n",
       "      <td>NÂO</td>\n",
       "      <td>NÃO</td>\n",
       "      <td>NÃO</td>\n",
       "      <td>NÃO</td>\n",
       "      <td>NÃO</td>\n",
       "      <td>-34.87260</td>\n",
       "      <td>-8.06456</td>\n",
       "    </tr>\n",
       "    <tr>\n",
       "      <th>148</th>\n",
       "      <td>3</td>\n",
       "      <td>8</td>\n",
       "      <td>CRECHE ESC.RECIFE</td>\n",
       "      <td>43</td>\n",
       "      <td>CRECHE ESCOLA RECIFE ALTO DO MANDU</td>\n",
       "      <td>NaN</td>\n",
       "      <td>S/N</td>\n",
       "      <td>485</td>\n",
       "      <td>MONTEIRO</td>\n",
       "      <td>158</td>\n",
       "      <td>7</td>\n",
       "      <td>8</td>\n",
       "      <td>NÂO</td>\n",
       "      <td>NÃO</td>\n",
       "      <td>SIM</td>\n",
       "      <td>NÃO</td>\n",
       "      <td>NÃO</td>\n",
       "      <td>NaN</td>\n",
       "      <td>NaN</td>\n",
       "    </tr>\n",
       "    <tr>\n",
       "      <th>152</th>\n",
       "      <td>3</td>\n",
       "      <td>8</td>\n",
       "      <td>CRECHE ESC.RECIFE</td>\n",
       "      <td>494</td>\n",
       "      <td>PROFESSOR ARIANO VILAR SUASSUNA</td>\n",
       "      <td>DON MANUEL DE MEDEIROS</td>\n",
       "      <td>S/N</td>\n",
       "      <td>590</td>\n",
       "      <td>DOIS IRMAOS</td>\n",
       "      <td>146</td>\n",
       "      <td>7</td>\n",
       "      <td>6</td>\n",
       "      <td>NÂO</td>\n",
       "      <td>NÃO</td>\n",
       "      <td>NÃO</td>\n",
       "      <td>SIM</td>\n",
       "      <td>NÃO</td>\n",
       "      <td>NaN</td>\n",
       "      <td>NaN</td>\n",
       "    </tr>\n",
       "    <tr>\n",
       "      <th>156</th>\n",
       "      <td>4</td>\n",
       "      <td>1</td>\n",
       "      <td>ESCOLA MUNICIPAL</td>\n",
       "      <td>36</td>\n",
       "      <td>CREUSA DE FREITAS CAVALCANTI</td>\n",
       "      <td>EPAMINONDAS CRISTOVAO DE OLIVEIRA</td>\n",
       "      <td>S/N</td>\n",
       "      <td>701</td>\n",
       "      <td>TORROES</td>\n",
       "      <td>633</td>\n",
       "      <td>27</td>\n",
       "      <td>20</td>\n",
       "      <td>NÂO</td>\n",
       "      <td>NÃO</td>\n",
       "      <td>NÃO</td>\n",
       "      <td>SIM</td>\n",
       "      <td>NÃO</td>\n",
       "      <td>NaN</td>\n",
       "      <td>NaN</td>\n",
       "    </tr>\n",
       "    <tr>\n",
       "      <th>206</th>\n",
       "      <td>4</td>\n",
       "      <td>8</td>\n",
       "      <td>CRECHE ESC.RECIFE</td>\n",
       "      <td>74</td>\n",
       "      <td>ASSOCIACAO CRISTA FEMININA</td>\n",
       "      <td>NaN</td>\n",
       "      <td>68</td>\n",
       "      <td>655</td>\n",
       "      <td>TORRE</td>\n",
       "      <td>163</td>\n",
       "      <td>8</td>\n",
       "      <td>7</td>\n",
       "      <td>NÂO</td>\n",
       "      <td>NÃO</td>\n",
       "      <td>NÃO</td>\n",
       "      <td>NÃO</td>\n",
       "      <td>NÃO</td>\n",
       "      <td>-34.90905</td>\n",
       "      <td>-8.04210</td>\n",
       "    </tr>\n",
       "    <tr>\n",
       "      <th>209</th>\n",
       "      <td>4</td>\n",
       "      <td>8</td>\n",
       "      <td>CRECHE ESC.RECIFE</td>\n",
       "      <td>8</td>\n",
       "      <td>MIGUEL ARRAES RODA DE FOGO</td>\n",
       "      <td>NaN</td>\n",
       "      <td>S/N</td>\n",
       "      <td>701</td>\n",
       "      <td>TORROES</td>\n",
       "      <td>233</td>\n",
       "      <td>10</td>\n",
       "      <td>8</td>\n",
       "      <td>NÂO</td>\n",
       "      <td>NÃO</td>\n",
       "      <td>NÃO</td>\n",
       "      <td>SIM</td>\n",
       "      <td>NÃO</td>\n",
       "      <td>NaN</td>\n",
       "      <td>NaN</td>\n",
       "    </tr>\n",
       "    <tr>\n",
       "      <th>271</th>\n",
       "      <td>6</td>\n",
       "      <td>1</td>\n",
       "      <td>ESCOLA MUNICIPAL</td>\n",
       "      <td>37</td>\n",
       "      <td>CLARICE LISPECTOR</td>\n",
       "      <td>NaN</td>\n",
       "      <td>S/N</td>\n",
       "      <td>213</td>\n",
       "      <td>IPSEP</td>\n",
       "      <td>288</td>\n",
       "      <td>17</td>\n",
       "      <td>9</td>\n",
       "      <td>NÂO</td>\n",
       "      <td>SIM</td>\n",
       "      <td>NÃO</td>\n",
       "      <td>SIM</td>\n",
       "      <td>SIM</td>\n",
       "      <td>-34.92542</td>\n",
       "      <td>-8.10370</td>\n",
       "    </tr>\n",
       "    <tr>\n",
       "      <th>330</th>\n",
       "      <td>6</td>\n",
       "      <td>2</td>\n",
       "      <td>CRECHE MUNICIPAL</td>\n",
       "      <td>117</td>\n",
       "      <td>CRECHE CRISTO REI JORDAO ALTO</td>\n",
       "      <td>NaN</td>\n",
       "      <td>200</td>\n",
       "      <td>221</td>\n",
       "      <td>JORDAO</td>\n",
       "      <td>67</td>\n",
       "      <td>4</td>\n",
       "      <td>4</td>\n",
       "      <td>NÂO</td>\n",
       "      <td>NÃO</td>\n",
       "      <td>NÃO</td>\n",
       "      <td>NÃO</td>\n",
       "      <td>NÃO</td>\n",
       "      <td>NaN</td>\n",
       "      <td>NaN</td>\n",
       "    </tr>\n",
       "    <tr>\n",
       "      <th>350</th>\n",
       "      <td>6</td>\n",
       "      <td>8</td>\n",
       "      <td>CRECHE ESC.RECIFE</td>\n",
       "      <td>492</td>\n",
       "      <td>MAURICEIA DA SILVA DIAS</td>\n",
       "      <td>PRESIDENTE MEDICI</td>\n",
       "      <td>SN</td>\n",
       "      <td>876</td>\n",
       "      <td>BARRO</td>\n",
       "      <td>182</td>\n",
       "      <td>8</td>\n",
       "      <td>6</td>\n",
       "      <td>NÂO</td>\n",
       "      <td>NÃO</td>\n",
       "      <td>NÃO</td>\n",
       "      <td>SIM</td>\n",
       "      <td>NÃO</td>\n",
       "      <td>NaN</td>\n",
       "      <td>NaN</td>\n",
       "    </tr>\n",
       "  </tbody>\n",
       "</table>\n",
       "</div>"
      ],
      "text/plain": [
       "     rpa  tipo_cod               tipo  cod_escola  \\\n",
       "24     1         8  CRECHE ESC.RECIFE          35   \n",
       "148    3         8  CRECHE ESC.RECIFE          43   \n",
       "152    3         8  CRECHE ESC.RECIFE         494   \n",
       "156    4         1   ESCOLA MUNICIPAL          36   \n",
       "206    4         8  CRECHE ESC.RECIFE          74   \n",
       "209    4         8  CRECHE ESC.RECIFE           8   \n",
       "271    6         1   ESCOLA MUNICIPAL          37   \n",
       "330    6         2   CRECHE MUNICIPAL         117   \n",
       "350    6         8  CRECHE ESC.RECIFE         492   \n",
       "\n",
       "                                 escola                                rua  \\\n",
       "24              PORTO DIGITAL DO RECIFE                                NaN   \n",
       "148  CRECHE ESCOLA RECIFE ALTO DO MANDU                                NaN   \n",
       "152     PROFESSOR ARIANO VILAR SUASSUNA             DON MANUEL DE MEDEIROS   \n",
       "156        CREUSA DE FREITAS CAVALCANTI  EPAMINONDAS CRISTOVAO DE OLIVEIRA   \n",
       "206          ASSOCIACAO CRISTA FEMININA                                NaN   \n",
       "209          MIGUEL ARRAES RODA DE FOGO                                NaN   \n",
       "271                   CLARICE LISPECTOR                                NaN   \n",
       "330       CRECHE CRISTO REI JORDAO ALTO                                NaN   \n",
       "350             MAURICEIA DA SILVA DIAS                  PRESIDENTE MEDICI   \n",
       "\n",
       "    numero  cod_bairro       bairro  qtd_alunos  qtd_turmas  qtd_professores  \\\n",
       "24     050          19       RECIFE          82           5                4   \n",
       "148    S/N         485     MONTEIRO         158           7                8   \n",
       "152    S/N         590  DOIS IRMAOS         146           7                6   \n",
       "156    S/N         701      TORROES         633          27               20   \n",
       "206     68         655        TORRE         163           8                7   \n",
       "209    S/N         701      TORROES         233          10                8   \n",
       "271    S/N         213        IPSEP         288          17                9   \n",
       "330    200         221       JORDAO          67           4                4   \n",
       "350     SN         876        BARRO         182           8                6   \n",
       "\n",
       "    escola_climatizada quadra_coberta quadra_descoberta biblioteca  \\\n",
       "24                 NÂO            NÃO               NÃO        NÃO   \n",
       "148                NÂO            NÃO               SIM        NÃO   \n",
       "152                NÂO            NÃO               NÃO        SIM   \n",
       "156                NÂO            NÃO               NÃO        SIM   \n",
       "206                NÂO            NÃO               NÃO        NÃO   \n",
       "209                NÂO            NÃO               NÃO        SIM   \n",
       "271                NÂO            SIM               NÃO        SIM   \n",
       "330                NÂO            NÃO               NÃO        NÃO   \n",
       "350                NÂO            NÃO               NÃO        SIM   \n",
       "\n",
       "    sala_recurso  longitude  latitude  \n",
       "24           NÃO  -34.87260  -8.06456  \n",
       "148          NÃO        NaN       NaN  \n",
       "152          NÃO        NaN       NaN  \n",
       "156          NÃO        NaN       NaN  \n",
       "206          NÃO  -34.90905  -8.04210  \n",
       "209          NÃO        NaN       NaN  \n",
       "271          SIM  -34.92542  -8.10370  \n",
       "330          NÃO        NaN       NaN  \n",
       "350          NÃO        NaN       NaN  "
      ]
     },
     "execution_count": 6,
     "metadata": {},
     "output_type": "execute_result"
    }
   ],
   "source": [
    "null_data = df_escolas[df_escolas.isnull().any(axis=1)] # observando quais dados estão faltando no dataset\n",
    "null_data"
   ]
  },
  {
   "cell_type": "markdown",
   "id": "04ab2020",
   "metadata": {},
   "source": [
    "### Tratamento dos dados faltantes a partir de informações obtidas no Google."
   ]
  },
  {
   "cell_type": "code",
   "execution_count": 7,
   "id": "d01af7f9",
   "metadata": {},
   "outputs": [],
   "source": [
    "df_escolas.iloc[148, 5] = 'SEGUNDA TRAVESSA SIRIJI'\n",
    "df_escolas.loc[148, 'longitude'] = -34.929303146908495\n",
    "df_escolas.loc[148, 'latitude'] = -8.02363956625748\n",
    "\n",
    "df_escolas.iloc[24, 5] = 'RIO BRANCO'\n",
    "df_escolas.iloc[24, 6] = 193\n",
    "df_escolas.loc[24, 'longitude'] = -34.873220778790056\n",
    "df_escolas.loc[24, 'latitude'] = -8.062652409100485\n",
    "\n",
    "df_escolas.loc[152, 'longitude'] = -34.9491789712016\n",
    "df_escolas.loc[152, 'latitude'] = -8.01114823612617\n",
    "\n",
    "df_escolas.loc[156, 'longitude'] = -34.93563747880213\n",
    "df_escolas.loc[156, 'latitude'] = -8.061464930355546\n",
    "\n",
    "df_escolas.iloc[206, 5] = 'RUA VERMELHA'\n",
    "\n",
    "df_escolas.iloc[209, 5] = 'PINTOR HÉLIO FEIJÓ'\n",
    "df_escolas.iloc[209, 6] = 2\n",
    "df_escolas.loc[209, 'longitude'] = -34.93720507353493\n",
    "df_escolas.loc[209, 'latitude'] = -8.059600088934724\n",
    "\n",
    "df_escolas.iloc[271, 5] = 'AUSTRO COSTA'\n",
    "\n",
    "df_escolas.iloc[330, 5] = 'SERTÂNIA'\n",
    "df_escolas.loc[330, 'longitude'] = -34.94504608864826\n",
    "df_escolas.loc[330, 'latitude'] = -8.135660714997003\n",
    "\n",
    "df_escolas.iloc[350, 5] = 'ANDRÉ VIDAL DE MEDEIROS'\n",
    "df_escolas.loc[350, 'longitude'] = -34.9572674256219\n",
    "df_escolas.loc[350, 'latitude'] = -8.107105212723406"
   ]
  },
  {
   "cell_type": "code",
   "execution_count": 8,
   "id": "747ceda2",
   "metadata": {},
   "outputs": [
    {
     "name": "stdout",
     "output_type": "stream",
     "text": [
      "<class 'pandas.core.frame.DataFrame'>\n",
      "RangeIndex: 351 entries, 0 to 350\n",
      "Data columns (total 19 columns):\n",
      " #   Column              Non-Null Count  Dtype  \n",
      "---  ------              --------------  -----  \n",
      " 0   rpa                 351 non-null    int64  \n",
      " 1   tipo_cod            351 non-null    int64  \n",
      " 2   tipo                351 non-null    object \n",
      " 3   cod_escola          351 non-null    int64  \n",
      " 4   escola              351 non-null    object \n",
      " 5   rua                 351 non-null    object \n",
      " 6   numero              351 non-null    object \n",
      " 7   cod_bairro          351 non-null    int64  \n",
      " 8   bairro              351 non-null    object \n",
      " 9   qtd_alunos          351 non-null    int64  \n",
      " 10  qtd_turmas          351 non-null    int64  \n",
      " 11  qtd_professores     351 non-null    int64  \n",
      " 12  escola_climatizada  351 non-null    object \n",
      " 13  quadra_coberta      351 non-null    object \n",
      " 14  quadra_descoberta   351 non-null    object \n",
      " 15  biblioteca          351 non-null    object \n",
      " 16  sala_recurso        351 non-null    object \n",
      " 17  longitude           351 non-null    float64\n",
      " 18  latitude            351 non-null    float64\n",
      "dtypes: float64(2), int64(7), object(10)\n",
      "memory usage: 52.2+ KB\n"
     ]
    }
   ],
   "source": [
    "df_escolas.info()"
   ]
  },
  {
   "cell_type": "code",
   "execution_count": 9,
   "id": "27ff679d",
   "metadata": {},
   "outputs": [
    {
     "name": "stdout",
     "output_type": "stream",
     "text": [
      "Há um total de \u001b[1m95288 alunos matriculados\u001b[0m em instituições escolares na cidade de Recife.\n",
      "Em relação aos professores, tem-se um total de \u001b[1m3992 professores\u001b[0m cadastrados em instituições escolares na cidade de Recife.\n",
      "Por fim, há um total de \u001b[1m4648 turmas\u001b[0m cadastradas.\n"
     ]
    }
   ],
   "source": [
    "# Análise geral com o cálculo do número total de alunos matriculados, professores e turmas cadastradas.\n",
    "total_alunos = df_escolas['qtd_alunos'].sum()\n",
    "total_professores = df_escolas['qtd_professores'].sum()\n",
    "total_turmas = df_escolas['qtd_turmas'].sum()\n",
    "print(f'Há um total de \\033[1m{total_alunos} alunos matriculados\\033[0m em instituições escolares na cidade de Recife.')\n",
    "print(f'Em relação aos professores, tem-se um total de \\033[1m{total_professores} professores\\033[0m cadastrados em instituições escolares na cidade de Recife.')\n",
    "print(f'Por fim, há um total de \\033[1m{total_turmas} turmas\\033[0m cadastradas.')\n"
   ]
  },
  {
   "cell_type": "code",
   "execution_count": 54,
   "id": "9c1f8bcc",
   "metadata": {},
   "outputs": [
    {
     "data": {
      "image/png": "[encoded data removed]",
      "text/plain": [
       "<Figure size 640x480 with 1 Axes>"
      ]
     },
     "metadata": {},
     "output_type": "display_data"
    }
   ],
   "source": [
    "# Observando a distribuição dos tipos de institução de ensino que estão presentes no conjunto de dados\n",
    "ax = sns.countplot(y='tipo', \n",
    "              data=df_escolas, \n",
    "              order=['ESCOLA MUNICIPAL', 'CRECHE MUNICIPAL', 'CRECHE ESC.RECIFE', 'CMEI'],\n",
    "                  )\n",
    "ax.set_xlabel('Número de Unidades', fontsize=15)\n",
    "ax.set_ylabel('Tipo de Unidade', fontsize=15)\n",
    "ax.set_title('Distribuição geral da quantidade de instituições em relação ao seu tipo.')\n",
    "plt.show()"
   ]
  },
  {
   "cell_type": "markdown",
   "id": "62559418",
   "metadata": {},
   "source": [
    "### Percebe-se que há cerca de 250 escolas municipais espalhadas pelos bairros da cidade do Recife. \n",
    "### Há cerca de 15 Centros Municipal de Educação Infantil (CMEI)."
   ]
  },
  {
   "cell_type": "code",
   "execution_count": 59,
   "id": "aa3cefd9",
   "metadata": {},
   "outputs": [],
   "source": [
    "# Agrupando os dados em função dos bairros para verificar a distribuição de algumas variáveis.\n",
    "df_agrupado = df_escolas.groupby('bairro')[['qtd_alunos', 'qtd_turmas', 'qtd_professores']].sum().sort_values(by='qtd_alunos', ascending=False).head(10)"
   ]
  },
  {
   "cell_type": "code",
   "execution_count": 60,
   "id": "f297dc7e",
   "metadata": {},
   "outputs": [
    {
     "data": {
      "text/html": [
       "<div>\n",
       "<style scoped>\n",
       "    .dataframe tbody tr th:only-of-type {\n",
       "        vertical-align: middle;\n",
       "    }\n",
       "\n",
       "    .dataframe tbody tr th {\n",
       "        vertical-align: top;\n",
       "    }\n",
       "\n",
       "    .dataframe thead th {\n",
       "        text-align: right;\n",
       "    }\n",
       "</style>\n",
       "<table border=\"1\" class=\"dataframe\">\n",
       "  <thead>\n",
       "    <tr style=\"text-align: right;\">\n",
       "      <th></th>\n",
       "      <th>qtd_alunos</th>\n",
       "      <th>qtd_turmas</th>\n",
       "      <th>qtd_professores</th>\n",
       "      <th>alunos_p_turmas</th>\n",
       "    </tr>\n",
       "    <tr>\n",
       "      <th>bairro</th>\n",
       "      <th></th>\n",
       "      <th></th>\n",
       "      <th></th>\n",
       "      <th></th>\n",
       "    </tr>\n",
       "  </thead>\n",
       "  <tbody>\n",
       "    <tr>\n",
       "      <th>COHAB</th>\n",
       "      <td>7725</td>\n",
       "      <td>362</td>\n",
       "      <td>296</td>\n",
       "      <td>21.339779</td>\n",
       "    </tr>\n",
       "    <tr>\n",
       "      <th>IBURA</th>\n",
       "      <td>4737</td>\n",
       "      <td>227</td>\n",
       "      <td>192</td>\n",
       "      <td>20.867841</td>\n",
       "    </tr>\n",
       "    <tr>\n",
       "      <th>VARZEA</th>\n",
       "      <td>4247</td>\n",
       "      <td>194</td>\n",
       "      <td>178</td>\n",
       "      <td>21.891753</td>\n",
       "    </tr>\n",
       "    <tr>\n",
       "      <th>NOVA DESCOBERTA</th>\n",
       "      <td>3652</td>\n",
       "      <td>178</td>\n",
       "      <td>139</td>\n",
       "      <td>20.516854</td>\n",
       "    </tr>\n",
       "    <tr>\n",
       "      <th>IPUTINGA</th>\n",
       "      <td>3596</td>\n",
       "      <td>171</td>\n",
       "      <td>159</td>\n",
       "      <td>21.029240</td>\n",
       "    </tr>\n",
       "    <tr>\n",
       "      <th>AGUA FRIA</th>\n",
       "      <td>3428</td>\n",
       "      <td>176</td>\n",
       "      <td>147</td>\n",
       "      <td>19.477273</td>\n",
       "    </tr>\n",
       "    <tr>\n",
       "      <th>VASCO DA GAMA</th>\n",
       "      <td>3246</td>\n",
       "      <td>148</td>\n",
       "      <td>132</td>\n",
       "      <td>21.932432</td>\n",
       "    </tr>\n",
       "    <tr>\n",
       "      <th>IMBIRIBEIRA</th>\n",
       "      <td>3117</td>\n",
       "      <td>187</td>\n",
       "      <td>149</td>\n",
       "      <td>16.668449</td>\n",
       "    </tr>\n",
       "    <tr>\n",
       "      <th>PINA</th>\n",
       "      <td>3024</td>\n",
       "      <td>146</td>\n",
       "      <td>124</td>\n",
       "      <td>20.712329</td>\n",
       "    </tr>\n",
       "    <tr>\n",
       "      <th>SANTO AMARO</th>\n",
       "      <td>2630</td>\n",
       "      <td>141</td>\n",
       "      <td>118</td>\n",
       "      <td>18.652482</td>\n",
       "    </tr>\n",
       "  </tbody>\n",
       "</table>\n",
       "</div>"
      ],
      "text/plain": [
       "                 qtd_alunos  qtd_turmas  qtd_professores  alunos_p_turmas\n",
       "bairro                                                                   \n",
       "COHAB                  7725         362              296        21.339779\n",
       "IBURA                  4737         227              192        20.867841\n",
       "VARZEA                 4247         194              178        21.891753\n",
       "NOVA DESCOBERTA        3652         178              139        20.516854\n",
       "IPUTINGA               3596         171              159        21.029240\n",
       "AGUA FRIA              3428         176              147        19.477273\n",
       "VASCO DA GAMA          3246         148              132        21.932432\n",
       "IMBIRIBEIRA            3117         187              149        16.668449\n",
       "PINA                   3024         146              124        20.712329\n",
       "SANTO AMARO            2630         141              118        18.652482"
      ]
     },
     "execution_count": 60,
     "metadata": {},
     "output_type": "execute_result"
    }
   ],
   "source": [
    "# Criando uma nova variável que é a quantidade de alunos por turma. \n",
    "df_agrupado['alunos_p_turmas'] = df_agrupado['qtd_alunos'] / df_agrupado['qtd_turmas']\n",
    "df_agrupado"
   ]
  },
  {
   "cell_type": "code",
   "execution_count": 14,
   "id": "eccb0818",
   "metadata": {},
   "outputs": [
    {
     "data": {
      "text/html": [
       "<div>\n",
       "<style scoped>\n",
       "    .dataframe tbody tr th:only-of-type {\n",
       "        vertical-align: middle;\n",
       "    }\n",
       "\n",
       "    .dataframe tbody tr th {\n",
       "        vertical-align: top;\n",
       "    }\n",
       "\n",
       "    .dataframe thead th {\n",
       "        text-align: right;\n",
       "    }\n",
       "</style>\n",
       "<table border=\"1\" class=\"dataframe\">\n",
       "  <thead>\n",
       "    <tr style=\"text-align: right;\">\n",
       "      <th></th>\n",
       "      <th>qtd_alunos</th>\n",
       "      <th>qtd_turmas</th>\n",
       "      <th>qtd_professores</th>\n",
       "      <th>alunos_p_turmas</th>\n",
       "    </tr>\n",
       "  </thead>\n",
       "  <tbody>\n",
       "    <tr>\n",
       "      <th>count</th>\n",
       "      <td>10.000000</td>\n",
       "      <td>10.000000</td>\n",
       "      <td>10.000000</td>\n",
       "      <td>10.000000</td>\n",
       "    </tr>\n",
       "    <tr>\n",
       "      <th>mean</th>\n",
       "      <td>3940.200000</td>\n",
       "      <td>193.000000</td>\n",
       "      <td>163.400000</td>\n",
       "      <td>20.308843</td>\n",
       "    </tr>\n",
       "    <tr>\n",
       "      <th>std</th>\n",
       "      <td>1461.856795</td>\n",
       "      <td>64.713042</td>\n",
       "      <td>51.966228</td>\n",
       "      <td>1.630593</td>\n",
       "    </tr>\n",
       "    <tr>\n",
       "      <th>min</th>\n",
       "      <td>2630.000000</td>\n",
       "      <td>141.000000</td>\n",
       "      <td>118.000000</td>\n",
       "      <td>16.668449</td>\n",
       "    </tr>\n",
       "    <tr>\n",
       "      <th>25%</th>\n",
       "      <td>3149.250000</td>\n",
       "      <td>153.750000</td>\n",
       "      <td>133.750000</td>\n",
       "      <td>19.737168</td>\n",
       "    </tr>\n",
       "    <tr>\n",
       "      <th>50%</th>\n",
       "      <td>3512.000000</td>\n",
       "      <td>177.000000</td>\n",
       "      <td>148.000000</td>\n",
       "      <td>20.790085</td>\n",
       "    </tr>\n",
       "    <tr>\n",
       "      <th>75%</th>\n",
       "      <td>4098.250000</td>\n",
       "      <td>192.250000</td>\n",
       "      <td>173.250000</td>\n",
       "      <td>21.262144</td>\n",
       "    </tr>\n",
       "    <tr>\n",
       "      <th>max</th>\n",
       "      <td>7725.000000</td>\n",
       "      <td>362.000000</td>\n",
       "      <td>296.000000</td>\n",
       "      <td>21.932432</td>\n",
       "    </tr>\n",
       "  </tbody>\n",
       "</table>\n",
       "</div>"
      ],
      "text/plain": [
       "        qtd_alunos  qtd_turmas  qtd_professores  alunos_p_turmas\n",
       "count    10.000000   10.000000        10.000000        10.000000\n",
       "mean   3940.200000  193.000000       163.400000        20.308843\n",
       "std    1461.856795   64.713042        51.966228         1.630593\n",
       "min    2630.000000  141.000000       118.000000        16.668449\n",
       "25%    3149.250000  153.750000       133.750000        19.737168\n",
       "50%    3512.000000  177.000000       148.000000        20.790085\n",
       "75%    4098.250000  192.250000       173.250000        21.262144\n",
       "max    7725.000000  362.000000       296.000000        21.932432"
      ]
     },
     "execution_count": 14,
     "metadata": {},
     "output_type": "execute_result"
    }
   ],
   "source": [
    "df_agrupado.describe() "
   ]
  },
  {
   "cell_type": "code",
   "execution_count": 15,
   "id": "e5d98a88",
   "metadata": {},
   "outputs": [
    {
     "data": {
      "text/plain": [
       "58.64956762656368"
      ]
     },
     "execution_count": 15,
     "metadata": {},
     "output_type": "execute_result"
    }
   ],
   "source": [
    "top10_qtd_alunos = df_agrupado['qtd_alunos'].sum() # quantos alunos estão matriculados nas escolas dos 10 bairros citados anteriormente.\n",
    "parcial_alunos_top10 = (total_alunos - top10_qtd_alunos)/total_alunos \n",
    "parcial_alunos_top10*100"
   ]
  },
  {
   "cell_type": "markdown",
   "id": "14990780",
   "metadata": {},
   "source": [
    "## Os 10 bairros com maior número de alunos na cidade do Recife\n",
    "\n",
    "- Analisando-se os 10 bairros com maior quantidade de alunos percebe-se que há uma média de 20 alunos por turma.\n",
    "    - Esse fator é interessante pois está de acordo com o **PL 4731/12 (tramitando no congresso)** que limita o número máximo de alunos em sala de aula a até 25 alunos na pré-escola (PE) e nos 2 primeiros anos do ensino fundamental (EF) e a 35 alunos em turmas do resto do EF e ensino médio (EM).\n",
    "- Esses bairros **concentram cerca de 59% dos alunos matriculados**. \n",
    "- Deve-se levar em consideração que para uma medida mais precisa seria necessário analisar o perfil de cada turma em diferentes níveis de ensino (PE, EF e EM)."
   ]
  },
  {
   "cell_type": "code",
   "execution_count": 21,
   "id": "ce4e3d5f",
   "metadata": {},
   "outputs": [
    {
     "data": {
      "text/plain": [
       "NÂO    0.74359\n",
       "SIM    0.25641\n",
       "Name: escola_climatizada, dtype: float64"
      ]
     },
     "execution_count": 21,
     "metadata": {},
     "output_type": "execute_result"
    }
   ],
   "source": [
    "# Aqui inicio uma breve analise sobre a estrutura encontrada nas escolas e creches \n",
    "df_escolas['escola_climatizada'].value_counts(normalize=True)"
   ]
  },
  {
   "cell_type": "code",
   "execution_count": 61,
   "id": "c4f9ee7a",
   "metadata": {},
   "outputs": [
    {
     "data": {
      "text/plain": [
       "NÂO    0.713178\n",
       "SIM    0.286822\n",
       "Name: escola_climatizada, dtype: float64"
      ]
     },
     "execution_count": 61,
     "metadata": {},
     "output_type": "execute_result"
    }
   ],
   "source": [
    "# Escolas municipais climatizadas\n",
    "df_escolas[df_escolas['tipo'] == 'ESCOLA MUNICIPAL']['escola_climatizada'].value_counts(normalize=True)"
   ]
  },
  {
   "cell_type": "code",
   "execution_count": 36,
   "id": "4e6bec31",
   "metadata": {},
   "outputs": [
    {
     "data": {
      "text/plain": [
       "NÃO    0.883721\n",
       "SIM    0.116279\n",
       "Name: quadra_coberta, dtype: float64"
      ]
     },
     "execution_count": 36,
     "metadata": {},
     "output_type": "execute_result"
    }
   ],
   "source": [
    "# Em relação as quadras cobertas e descobertas faz mais sentido analisar apenas as escolas municipais. \n",
    "df_escolas[df_escolas['tipo'] == 'ESCOLA MUNICIPAL']['quadra_coberta'].value_counts(normalize=True)"
   ]
  },
  {
   "cell_type": "code",
   "execution_count": 37,
   "id": "8b824996",
   "metadata": {},
   "outputs": [
    {
     "data": {
      "text/plain": [
       "NÃO    0.891473\n",
       "SIM    0.108527\n",
       "Name: quadra_descoberta, dtype: float64"
      ]
     },
     "execution_count": 37,
     "metadata": {},
     "output_type": "execute_result"
    }
   ],
   "source": [
    "df_escolas[df_escolas['tipo'] == 'ESCOLA MUNICIPAL']['quadra_descoberta'].value_counts(normalize=True)"
   ]
  },
  {
   "cell_type": "code",
   "execution_count": 25,
   "id": "10389af1",
   "metadata": {},
   "outputs": [
    {
     "data": {
      "text/plain": [
       "SIM    0.512821\n",
       "NÃO    0.487179\n",
       "Name: biblioteca, dtype: float64"
      ]
     },
     "execution_count": 25,
     "metadata": {},
     "output_type": "execute_result"
    }
   ],
   "source": [
    "df_escolas['biblioteca'].value_counts(normalize=True) # número geral de instituições com biblioteca."
   ]
  },
  {
   "cell_type": "code",
   "execution_count": 38,
   "id": "90da849f",
   "metadata": {},
   "outputs": [
    {
     "data": {
      "text/plain": [
       "SIM    0.593023\n",
       "NÃO    0.406977\n",
       "Name: biblioteca, dtype: float64"
      ]
     },
     "execution_count": 38,
     "metadata": {},
     "output_type": "execute_result"
    }
   ],
   "source": [
    "df_escolas[df_escolas['tipo'] == 'ESCOLA MUNICIPAL']['biblioteca'].value_counts(normalize=True) # apenas escolas municipais"
   ]
  },
  {
   "cell_type": "markdown",
   "id": "d80755f4",
   "metadata": {},
   "source": [
    "### Um breve estudo sobre a estrutura das instituições de ensino do Recife\n",
    "- Quase 75% não possui climatização.\n",
    "- Pouco mais de 10% não possuem quadra para a prática de esportes.\n",
    "- Pouco mais da metade (51%) possui biblioteca. \n",
    "    - Quando se fala em escolas municipais, o número sobe um pouco para cerca de 60%."
   ]
  },
  {
   "cell_type": "markdown",
   "id": "3532528b",
   "metadata": {},
   "source": [
    "# Conclusões\n",
    "\n",
    "### - O estudo mostra que há um número adequado de alunos distribuidos nas turmas entre as escolas dos 10 principais bairros da cidade do Recife em termos de alunos matriculados.\n",
    "\n",
    "### - Percebe-se que há uma deficiência grande em questões básicas como climatização das salas de aula e demais estruturas do colégio. \n",
    "\n",
    "### - Quanto a prática esportiva, percebe-se também uma deficiência grande na estrutura dessas instituições de ensino.\n"
   ]
  },
  {
   "cell_type": "code",
   "execution_count": null,
   "id": "70710fdb",
   "metadata": {},
   "outputs": [],
   "source": []
  }
 ],
 "metadata": {
  "kernelspec": {
   "display_name": "Python 3",
   "language": "python",
   "name": "python3"
  },
  "language_info": {
   "codemirror_mode": {
    "name": "ipython",
    "version": 3
   },
   "file_extension": ".py",
   "mimetype": "text/x-python",
   "name": "python",
   "nbconvert_exporter": "python",
   "pygments_lexer": "ipython3",
   "version": "3.8.8"
  }
 },
 "nbformat": 4,
 "nbformat_minor": 5
}
