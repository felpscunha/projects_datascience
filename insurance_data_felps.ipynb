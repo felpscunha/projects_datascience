{
 "cells": [
  {
   "cell_type": "markdown",
   "metadata": {
    "id": "kq5h6Q8rqnc_"
   },
   "source": [
    "# Import Libraries\n",
    "You can import all the libraries required here or you can import the libraries wherever you require on the go."
   ]
  },
  {
   "cell_type": "code",
   "execution_count": 1,
   "metadata": {
    "id": "KaQOijO8pAUT"
   },
   "outputs": [],
   "source": [
    "# Importing libraries \n",
    "\n",
    "import pandas as pd \n",
    "import numpy as np\n",
    "import matplotlib.pyplot as plt\n",
    "import seaborn as sns"
   ]
  },
  {
   "cell_type": "markdown",
   "metadata": {
    "id": "oUB78Mpzq6XS"
   },
   "source": [
    "# Load the Dataset\n",
    "Load the required train or test datasets here."
   ]
  },
  {
   "cell_type": "code",
   "execution_count": 2,
   "metadata": {
    "id": "JmG_p6kLrAuy"
   },
   "outputs": [
    {
     "data": {
      "text/html": [
       "<div>\n",
       "<style scoped>\n",
       "    .dataframe tbody tr th:only-of-type {\n",
       "        vertical-align: middle;\n",
       "    }\n",
       "\n",
       "    .dataframe tbody tr th {\n",
       "        vertical-align: top;\n",
       "    }\n",
       "\n",
       "    .dataframe thead th {\n",
       "        text-align: right;\n",
       "    }\n",
       "</style>\n",
       "<table border=\"1\" class=\"dataframe\">\n",
       "  <thead>\n",
       "    <tr style=\"text-align: right;\">\n",
       "      <th></th>\n",
       "      <th>age</th>\n",
       "      <th>job_type</th>\n",
       "      <th>marital_status</th>\n",
       "      <th>education_level</th>\n",
       "      <th>default_or_not</th>\n",
       "      <th>balance_amt</th>\n",
       "      <th>household_insurance</th>\n",
       "      <th>car_loan</th>\n",
       "      <th>communication</th>\n",
       "      <th>last_contact_day</th>\n",
       "      <th>last_contact_month</th>\n",
       "      <th>no_of_contacts</th>\n",
       "      <th>days_passed</th>\n",
       "      <th>prev_attempts</th>\n",
       "      <th>Outcome</th>\n",
       "      <th>call_start</th>\n",
       "      <th>call_end</th>\n",
       "      <th>car_insurance</th>\n",
       "    </tr>\n",
       "  </thead>\n",
       "  <tbody>\n",
       "    <tr>\n",
       "      <th>0</th>\n",
       "      <td>47.000000</td>\n",
       "      <td>blue-collar</td>\n",
       "      <td>married</td>\n",
       "      <td>primary</td>\n",
       "      <td>0</td>\n",
       "      <td>1112.000000</td>\n",
       "      <td>1</td>\n",
       "      <td>0</td>\n",
       "      <td>cellular</td>\n",
       "      <td>13</td>\n",
       "      <td>may</td>\n",
       "      <td>1</td>\n",
       "      <td>-1</td>\n",
       "      <td>0</td>\n",
       "      <td>NaN</td>\n",
       "      <td>10:22:20</td>\n",
       "      <td>10:24:29</td>\n",
       "      <td>0</td>\n",
       "    </tr>\n",
       "    <tr>\n",
       "      <th>1</th>\n",
       "      <td>46.031442</td>\n",
       "      <td>management</td>\n",
       "      <td>married</td>\n",
       "      <td>tertiary</td>\n",
       "      <td>0</td>\n",
       "      <td>1.312372</td>\n",
       "      <td>0</td>\n",
       "      <td>1</td>\n",
       "      <td>cellular</td>\n",
       "      <td>15</td>\n",
       "      <td>may</td>\n",
       "      <td>3</td>\n",
       "      <td>219</td>\n",
       "      <td>1</td>\n",
       "      <td>other</td>\n",
       "      <td>09:06:30</td>\n",
       "      <td>13:59:48</td>\n",
       "      <td>1</td>\n",
       "    </tr>\n",
       "    <tr>\n",
       "      <th>2</th>\n",
       "      <td>36.000000</td>\n",
       "      <td>services</td>\n",
       "      <td>single</td>\n",
       "      <td>NaN</td>\n",
       "      <td>0</td>\n",
       "      <td>281.000000</td>\n",
       "      <td>1</td>\n",
       "      <td>0</td>\n",
       "      <td>NaN</td>\n",
       "      <td>16</td>\n",
       "      <td>may</td>\n",
       "      <td>1</td>\n",
       "      <td>-1</td>\n",
       "      <td>0</td>\n",
       "      <td>NaN</td>\n",
       "      <td>13:18:41</td>\n",
       "      <td>13:27:16</td>\n",
       "      <td>1</td>\n",
       "    </tr>\n",
       "    <tr>\n",
       "      <th>3</th>\n",
       "      <td>32.000000</td>\n",
       "      <td>technician</td>\n",
       "      <td>single</td>\n",
       "      <td>secondary</td>\n",
       "      <td>0</td>\n",
       "      <td>540.000000</td>\n",
       "      <td>0</td>\n",
       "      <td>1</td>\n",
       "      <td>cellular</td>\n",
       "      <td>29</td>\n",
       "      <td>jan</td>\n",
       "      <td>1</td>\n",
       "      <td>-1</td>\n",
       "      <td>0</td>\n",
       "      <td>NaN</td>\n",
       "      <td>10:09:18</td>\n",
       "      <td>10:21:48</td>\n",
       "      <td>1</td>\n",
       "    </tr>\n",
       "    <tr>\n",
       "      <th>4</th>\n",
       "      <td>30.000000</td>\n",
       "      <td>admin.</td>\n",
       "      <td>single</td>\n",
       "      <td>secondary</td>\n",
       "      <td>0</td>\n",
       "      <td>315.000000</td>\n",
       "      <td>1</td>\n",
       "      <td>0</td>\n",
       "      <td>cellular</td>\n",
       "      <td>14</td>\n",
       "      <td>may</td>\n",
       "      <td>3</td>\n",
       "      <td>346</td>\n",
       "      <td>4</td>\n",
       "      <td>failure</td>\n",
       "      <td>12:12:30</td>\n",
       "      <td>12:27:14</td>\n",
       "      <td>1</td>\n",
       "    </tr>\n",
       "  </tbody>\n",
       "</table>\n",
       "</div>"
      ],
      "text/plain": [
       "         age     job_type marital_status education_level  default_or_not  \\\n",
       "0  47.000000  blue-collar        married         primary               0   \n",
       "1  46.031442   management        married        tertiary               0   \n",
       "2  36.000000     services         single             NaN               0   \n",
       "3  32.000000   technician         single       secondary               0   \n",
       "4  30.000000       admin.         single       secondary               0   \n",
       "\n",
       "   balance_amt  household_insurance  car_loan communication  last_contact_day  \\\n",
       "0  1112.000000                    1         0      cellular                13   \n",
       "1     1.312372                    0         1      cellular                15   \n",
       "2   281.000000                    1         0           NaN                16   \n",
       "3   540.000000                    0         1      cellular                29   \n",
       "4   315.000000                    1         0      cellular                14   \n",
       "\n",
       "  last_contact_month  no_of_contacts  days_passed  prev_attempts  Outcome  \\\n",
       "0                may               1           -1              0      NaN   \n",
       "1                may               3          219              1    other   \n",
       "2                may               1           -1              0      NaN   \n",
       "3                jan               1           -1              0      NaN   \n",
       "4                may               3          346              4  failure   \n",
       "\n",
       "  call_start  call_end  car_insurance  \n",
       "0   10:22:20  10:24:29              0  \n",
       "1   09:06:30  13:59:48              1  \n",
       "2   13:18:41  13:27:16              1  \n",
       "3   10:09:18  10:21:48              1  \n",
       "4   12:12:30  12:27:14              1  "
      ]
     },
     "execution_count": 2,
     "metadata": {},
     "output_type": "execute_result"
    }
   ],
   "source": [
    "# Loading training data\n",
    "\n",
    "path = 'C:\\\\Users\\\\felip\\\\OneDrive - Universidade Federal de Pernambuco\\\\Python\\\\DPHI Iniciação em Data Science\\\\Train_data.csv'\n",
    "insurance_df = pd.read_csv(path)\n",
    "insurance_df.head()"
   ]
  },
  {
   "cell_type": "markdown",
   "metadata": {
    "id": "mLUotaSkrBjN"
   },
   "source": [
    "# Exploratory Data Analysis (EDA)\n",
    "Perform all the exploratory data analysis steps here."
   ]
  },
  {
   "cell_type": "code",
   "execution_count": 3,
   "metadata": {
    "id": "98wP1Ex_rIY0"
   },
   "outputs": [
    {
     "name": "stdout",
     "output_type": "stream",
     "text": [
      "<class 'pandas.core.frame.DataFrame'>\n",
      "RangeIndex: 3102 entries, 0 to 3101\n",
      "Data columns (total 18 columns):\n",
      " #   Column               Non-Null Count  Dtype  \n",
      "---  ------               --------------  -----  \n",
      " 0   age                  3102 non-null   float64\n",
      " 1   job_type             3091 non-null   object \n",
      " 2   marital_status       3102 non-null   object \n",
      " 3   education_level      2989 non-null   object \n",
      " 4   default_or_not       3102 non-null   int64  \n",
      " 5   balance_amt          3102 non-null   float64\n",
      " 6   household_insurance  3102 non-null   int64  \n",
      " 7   car_loan             3102 non-null   int64  \n",
      " 8   communication        2559 non-null   object \n",
      " 9   last_contact_day     3102 non-null   int64  \n",
      " 10  last_contact_month   3102 non-null   object \n",
      " 11  no_of_contacts       3102 non-null   int64  \n",
      " 12  days_passed          3102 non-null   int64  \n",
      " 13  prev_attempts        3102 non-null   int64  \n",
      " 14  Outcome              751 non-null    object \n",
      " 15  call_start           3102 non-null   object \n",
      " 16  call_end             3102 non-null   object \n",
      " 17  car_insurance        3102 non-null   int64  \n",
      "dtypes: float64(2), int64(8), object(8)\n",
      "memory usage: 436.3+ KB\n"
     ]
    }
   ],
   "source": [
    "insurance_df.info()"
   ]
  },
  {
   "cell_type": "markdown",
   "metadata": {
    "id": "6ShPmXR7rJN3"
   },
   "source": [
    "#### 3102 entries and 17 features \n",
    "#### Some categorical features have null values"
   ]
  },
  {
   "cell_type": "code",
   "execution_count": 4,
   "metadata": {
    "id": "i7haAUoBrJ0q"
   },
   "outputs": [
    {
     "data": {
      "text/plain": [
       "1    1760\n",
       "0    1342\n",
       "Name: car_insurance, dtype: int64"
      ]
     },
     "execution_count": 4,
     "metadata": {},
     "output_type": "execute_result"
    }
   ],
   "source": [
    "insurance_df['car_insurance'].value_counts() "
   ]
  },
  {
   "cell_type": "code",
   "execution_count": 15,
   "metadata": {},
   "outputs": [
    {
     "name": "stdout",
     "output_type": "stream",
     "text": [
      "There are 1760 people who bought the car insurance, or 56.74 %.\n",
      "And 1342 people who did not buy car insurance, or 43.26 %.\n"
     ]
    }
   ],
   "source": [
    "print(f'There are 1760 people who bought the car insurance, or {(1760/(1760 + 1342))*100:.2f} %.')\n",
    "print(f'And 1342 people who did not buy car insurance, or {(1342/(1760 + 1342))*100:.2f} %.')"
   ]
  },
  {
   "cell_type": "markdown",
   "metadata": {
    "id": "fGnUSIBcrKXR"
   },
   "source": [
    "# Data Cleaning and Data Preprocessing\n",
    "Perform all the data cleaning and data preprocessing steps here."
   ]
  },
  {
   "cell_type": "code",
   "execution_count": 5,
   "metadata": {
    "id": "0T_VjJ2trSEh"
   },
   "outputs": [
    {
     "data": {
      "text/plain": [
       "management       724\n",
       "blue-collar      544\n",
       "technician       526\n",
       "admin.           346\n",
       "services         231\n",
       "retired          193\n",
       "unemployed       146\n",
       "student          119\n",
       "self-employed    106\n",
       "housemaid         80\n",
       "entrepreneur      76\n",
       "Name: job_type, dtype: int64"
      ]
     },
     "execution_count": 5,
     "metadata": {},
     "output_type": "execute_result"
    }
   ],
   "source": [
    "insurance_df['job_type'].value_counts()"
   ]
  },
  {
   "cell_type": "code",
   "execution_count": 6,
   "metadata": {
    "id": "G2TkdKS7rU7C"
   },
   "outputs": [],
   "source": [
    "# handling NaN values in dataframe\n",
    "insurance_df['job_type'] = insurance_df['job_type'].fillna('management')\n",
    "insurance_df['education_level'] = insurance_df['education_level'].fillna('secondary')\n",
    "insurance_df['communication'] = insurance_df['communication'].fillna('cellular')"
   ]
  },
  {
   "cell_type": "code",
   "execution_count": 7,
   "metadata": {
    "id": "QQdkwkJOrVSg"
   },
   "outputs": [],
   "source": [
    "# Too much null values, better to del this collumn.\n",
    "del insurance_df['Outcome']"
   ]
  },
  {
   "cell_type": "code",
   "execution_count": 21,
   "metadata": {},
   "outputs": [],
   "source": [
    "# Handling date data, firstly transforming the type of the columns to datetime type\n",
    "insurance_df['call_start'] = pd.to_datetime(insurance_df['call_start'])\n",
    "insurance_df['call_end'] = pd.to_datetime(insurance_df['call_end'])\n",
    "# Creating a new column relative to the time of the call\n",
    "insurance_df['calltime'] = insurance_df['call_end'] - insurance_df['call_start']\n",
    "\n",
    "# transforming the time to seconds\n",
    "time = []\n",
    "for val in insurance_df['calltime']:\n",
    "    time.append(val.seconds)\n",
    "\n",
    "# assigning the values of times list to the new column created in dataframe\n",
    "insurance_df['calltime'] = time\n",
    "del insurance_df['call_start'] # deleting old columns relative to the start and end of the call\n",
    "del insurance_df['call_end']"
   ]
  },
  {
   "cell_type": "code",
   "execution_count": 22,
   "metadata": {},
   "outputs": [
    {
     "data": {
      "text/html": [
       "<div>\n",
       "<style scoped>\n",
       "    .dataframe tbody tr th:only-of-type {\n",
       "        vertical-align: middle;\n",
       "    }\n",
       "\n",
       "    .dataframe tbody tr th {\n",
       "        vertical-align: top;\n",
       "    }\n",
       "\n",
       "    .dataframe thead th {\n",
       "        text-align: right;\n",
       "    }\n",
       "</style>\n",
       "<table border=\"1\" class=\"dataframe\">\n",
       "  <thead>\n",
       "    <tr style=\"text-align: right;\">\n",
       "      <th></th>\n",
       "      <th>age</th>\n",
       "      <th>job_type</th>\n",
       "      <th>marital_status</th>\n",
       "      <th>education_level</th>\n",
       "      <th>default_or_not</th>\n",
       "      <th>balance_amt</th>\n",
       "      <th>household_insurance</th>\n",
       "      <th>car_loan</th>\n",
       "      <th>communication</th>\n",
       "      <th>last_contact_day</th>\n",
       "      <th>last_contact_month</th>\n",
       "      <th>no_of_contacts</th>\n",
       "      <th>days_passed</th>\n",
       "      <th>prev_attempts</th>\n",
       "      <th>car_insurance</th>\n",
       "      <th>calltime</th>\n",
       "    </tr>\n",
       "  </thead>\n",
       "  <tbody>\n",
       "    <tr>\n",
       "      <th>0</th>\n",
       "      <td>47.0</td>\n",
       "      <td>blue-collar</td>\n",
       "      <td>married</td>\n",
       "      <td>primary</td>\n",
       "      <td>0</td>\n",
       "      <td>1112.0</td>\n",
       "      <td>1</td>\n",
       "      <td>0</td>\n",
       "      <td>cellular</td>\n",
       "      <td>13</td>\n",
       "      <td>may</td>\n",
       "      <td>1</td>\n",
       "      <td>-1</td>\n",
       "      <td>0</td>\n",
       "      <td>0</td>\n",
       "      <td>129</td>\n",
       "    </tr>\n",
       "  </tbody>\n",
       "</table>\n",
       "</div>"
      ],
      "text/plain": [
       "    age     job_type marital_status education_level  default_or_not  \\\n",
       "0  47.0  blue-collar        married         primary               0   \n",
       "\n",
       "   balance_amt  household_insurance  car_loan communication  last_contact_day  \\\n",
       "0       1112.0                    1         0      cellular                13   \n",
       "\n",
       "  last_contact_month  no_of_contacts  days_passed  prev_attempts  \\\n",
       "0                may               1           -1              0   \n",
       "\n",
       "   car_insurance  calltime  \n",
       "0              0       129  "
      ]
     },
     "execution_count": 22,
     "metadata": {},
     "output_type": "execute_result"
    }
   ],
   "source": [
    "insurance_df.head(1) "
   ]
  },
  {
   "cell_type": "code",
   "execution_count": 23,
   "metadata": {},
   "outputs": [
    {
     "data": {
      "text/html": [
       "<div>\n",
       "<style scoped>\n",
       "    .dataframe tbody tr th:only-of-type {\n",
       "        vertical-align: middle;\n",
       "    }\n",
       "\n",
       "    .dataframe tbody tr th {\n",
       "        vertical-align: top;\n",
       "    }\n",
       "\n",
       "    .dataframe thead th {\n",
       "        text-align: right;\n",
       "    }\n",
       "</style>\n",
       "<table border=\"1\" class=\"dataframe\">\n",
       "  <thead>\n",
       "    <tr style=\"text-align: right;\">\n",
       "      <th></th>\n",
       "      <th>age</th>\n",
       "      <th>balance_amt</th>\n",
       "      <th>last_contact_day</th>\n",
       "      <th>no_of_contacts</th>\n",
       "      <th>days_passed</th>\n",
       "      <th>prev_attempts</th>\n",
       "      <th>car_insurance</th>\n",
       "      <th>calltime</th>\n",
       "      <th>job_type_admin.</th>\n",
       "      <th>job_type_blue-collar</th>\n",
       "      <th>...</th>\n",
       "      <th>last_contact_month_dec</th>\n",
       "      <th>last_contact_month_feb</th>\n",
       "      <th>last_contact_month_jan</th>\n",
       "      <th>last_contact_month_jul</th>\n",
       "      <th>last_contact_month_jun</th>\n",
       "      <th>last_contact_month_mar</th>\n",
       "      <th>last_contact_month_may</th>\n",
       "      <th>last_contact_month_nov</th>\n",
       "      <th>last_contact_month_oct</th>\n",
       "      <th>last_contact_month_sep</th>\n",
       "    </tr>\n",
       "  </thead>\n",
       "  <tbody>\n",
       "    <tr>\n",
       "      <th>0</th>\n",
       "      <td>47.0</td>\n",
       "      <td>1112.0</td>\n",
       "      <td>13</td>\n",
       "      <td>1</td>\n",
       "      <td>-1</td>\n",
       "      <td>0</td>\n",
       "      <td>0</td>\n",
       "      <td>129</td>\n",
       "      <td>0</td>\n",
       "      <td>1</td>\n",
       "      <td>...</td>\n",
       "      <td>0</td>\n",
       "      <td>0</td>\n",
       "      <td>0</td>\n",
       "      <td>0</td>\n",
       "      <td>0</td>\n",
       "      <td>0</td>\n",
       "      <td>1</td>\n",
       "      <td>0</td>\n",
       "      <td>0</td>\n",
       "      <td>0</td>\n",
       "    </tr>\n",
       "  </tbody>\n",
       "</table>\n",
       "<p>1 rows × 45 columns</p>\n",
       "</div>"
      ],
      "text/plain": [
       "    age  balance_amt  last_contact_day  no_of_contacts  days_passed  \\\n",
       "0  47.0       1112.0                13               1           -1   \n",
       "\n",
       "   prev_attempts  car_insurance  calltime  job_type_admin.  \\\n",
       "0              0              0       129                0   \n",
       "\n",
       "   job_type_blue-collar  ...  last_contact_month_dec  last_contact_month_feb  \\\n",
       "0                     1  ...                       0                       0   \n",
       "\n",
       "   last_contact_month_jan  last_contact_month_jul  last_contact_month_jun  \\\n",
       "0                       0                       0                       0   \n",
       "\n",
       "   last_contact_month_mar  last_contact_month_may  last_contact_month_nov  \\\n",
       "0                       0                       1                       0   \n",
       "\n",
       "   last_contact_month_oct  last_contact_month_sep  \n",
       "0                       0                       0  \n",
       "\n",
       "[1 rows x 45 columns]"
      ]
     },
     "execution_count": 23,
     "metadata": {},
     "output_type": "execute_result"
    }
   ],
   "source": [
    "cat_cols = ['default_or_not', 'household_insurance', 'car_loan'] # Category columns to transform in object type\n",
    "for values in cat_cols:\n",
    "    insurance_df[cat_cols] = insurance_df[cat_cols].astype('object')\n",
    "\n",
    "cat_cols_total = insurance_df.select_dtypes(include = 'object').columns # selectin object columns in dataframe\n",
    "insurance_df = pd.get_dummies(insurance_df, columns=cat_cols_total) # getting dummies\n",
    "insurance_df.head(1)"
   ]
  },
  {
   "cell_type": "code",
   "execution_count": 25,
   "metadata": {},
   "outputs": [],
   "source": [
    "# splitting the data in dependet variables and independent variable.\n",
    "X = insurance_df.drop(columns = ['car_insurance'])\n",
    "y = insurance_df['car_insurance']\n",
    "\n",
    "# running the train_test_split to construc the train and test datasets\n",
    "from sklearn.model_selection import train_test_split\n",
    "\n",
    "X_train, X_test, y_train, y_test = train_test_split(X, y, test_size=.33, random_state=5)"
   ]
  },
  {
   "cell_type": "markdown",
   "metadata": {
    "id": "gUbtKo3BrVpO"
   },
   "source": [
    "# Build Machine Learning Model & Evaluate it\n",
    "Build your all the machine learning model and check their performance on the validation dataset (i.e. the test dataset that you splitted using ***train_test_split***) here."
   ]
  },
  {
   "cell_type": "markdown",
   "metadata": {},
   "source": [
    "### Building a Random Forest model\n",
    "##### (I tried a Logistic Regression Model, but Random Forest had the best performance)"
   ]
  },
  {
   "cell_type": "code",
   "execution_count": 29,
   "metadata": {
    "id": "URtMdFS_rmXI"
   },
   "outputs": [],
   "source": [
    "# Importing RandomForestClassifier from sklearn.ensemble\n",
    "\n",
    "from sklearn.ensemble import RandomForestClassifier"
   ]
  },
  {
   "cell_type": "markdown",
   "metadata": {},
   "source": [
    "### Hyper parameter tunning"
   ]
  },
  {
   "cell_type": "code",
   "execution_count": 35,
   "metadata": {
    "id": "5wcyVEccrvCg"
   },
   "outputs": [
    {
     "data": {
      "text/plain": [
       "{'criterion': ['gini', 'entropy'],\n",
       " 'n_estimators': [100, 200, 300],\n",
       " 'max_features': ['auto', 'sqrt'],\n",
       " 'max_depth': [10, 20, None]}"
      ]
     },
     "execution_count": 35,
     "metadata": {},
     "output_type": "execute_result"
    }
   ],
   "source": [
    "# Different parameters in random forest\n",
    "\n",
    "criterion = ['gini', 'entropy']        # what criteria to consider\n",
    "\n",
    "n_estimators = [100, 200, 300]       # Number of trees in random forest\n",
    "\n",
    "max_features = ['auto', 'sqrt']       # Number of features to consider at every split\n",
    "\n",
    "max_depth = [10, 20]      # Maximum number of levels in tree. Hope you remember linspace function from numpy session\n",
    "\n",
    "max_depth.append(None)     # also appendin 'None' in max_depth i.e. no maximum depth to be considered.\n",
    "\n",
    "params = {'criterion': criterion,\n",
    "          'n_estimators': n_estimators,\n",
    "          'max_features': max_features,\n",
    "          'max_depth': max_depth}\n",
    "params"
   ]
  },
  {
   "cell_type": "code",
   "execution_count": 33,
   "metadata": {
    "id": "Gj8YKn7mrvaw"
   },
   "outputs": [
    {
     "data": {
      "text/plain": [
       "GridSearchCV(estimator=RandomForestClassifier(), n_jobs=2,\n",
       "             param_grid={'criterion': ['gini', 'entropy'],\n",
       "                         'max_depth': [10, 20, None],\n",
       "                         'max_features': ['auto', 'sqrt'],\n",
       "                         'n_estimators': [100, 200, 300]})"
      ]
     },
     "execution_count": 33,
     "metadata": {},
     "output_type": "execute_result"
    }
   ],
   "source": [
    "from sklearn.model_selection import GridSearchCV\n",
    "\n",
    "gs = GridSearchCV(rfc, param_grid=params, n_jobs=2)\n",
    "gs.fit(X_train, y_train)"
   ]
  },
  {
   "cell_type": "code",
   "execution_count": 34,
   "metadata": {},
   "outputs": [
    {
     "data": {
      "text/plain": [
       "{'criterion': 'entropy',\n",
       " 'max_depth': None,\n",
       " 'max_features': 'auto',\n",
       " 'n_estimators': 300}"
      ]
     },
     "execution_count": 34,
     "metadata": {},
     "output_type": "execute_result"
    }
   ],
   "source": [
    "gs.best_params_ # The best parameters to put into the model"
   ]
  },
  {
   "cell_type": "code",
   "execution_count": 37,
   "metadata": {},
   "outputs": [],
   "source": [
    "# Loading the model with the best parameters\n",
    "rfc = RandomForestClassifier(criterion='entropy', max_depth=None, max_features='auto', n_estimators=300) "
   ]
  },
  {
   "cell_type": "code",
   "execution_count": 38,
   "metadata": {},
   "outputs": [
    {
     "data": {
      "text/plain": [
       "RandomForestClassifier(criterion='entropy', n_estimators=300)"
      ]
     },
     "execution_count": 38,
     "metadata": {},
     "output_type": "execute_result"
    }
   ],
   "source": [
    "# fitting training data\n",
    "rfc.fit(X_train, y_train)"
   ]
  },
  {
   "cell_type": "code",
   "execution_count": 39,
   "metadata": {},
   "outputs": [
    {
     "data": {
      "text/plain": [
       "0.873046875"
      ]
     },
     "execution_count": 39,
     "metadata": {},
     "output_type": "execute_result"
    }
   ],
   "source": [
    "# Looking to the performance of the model using internal test dataset\n",
    "rfc.score(X_test, y_test)"
   ]
  },
  {
   "cell_type": "code",
   "execution_count": 40,
   "metadata": {},
   "outputs": [],
   "source": [
    "# creating a variable with the predicted data\n",
    "y_pred = rfc.predict(X_test)"
   ]
  },
  {
   "cell_type": "code",
   "execution_count": 41,
   "metadata": {},
   "outputs": [
    {
     "data": {
      "text/plain": [
       "<AxesSubplot:>"
      ]
     },
     "execution_count": 41,
     "metadata": {},
     "output_type": "execute_result"
    },
    {
     "data": {
      "image/png": "[encoded data removed]",
      "text/plain": [
       "<Figure size 576x360 with 2 Axes>"
      ]
     },
     "metadata": {
      "needs_background": "light"
     },
     "output_type": "display_data"
    }
   ],
   "source": [
    "# The Confusion Matrix\n",
    "from sklearn.metrics import confusion_matrix\n",
    "\n",
    "confusion_m = confusion_matrix(y_test,y_pred)\n",
    "conf_matrix = pd.DataFrame(data=confusion_m, columns=['Predicted:0', 'Predicted:1'], index=['Actual:0', 'Actual:1'])\n",
    "plt.figure(figsize = (8,5))\n",
    "sns.heatmap(conf_matrix, annot=True, fmt='d', cmap=\"YlGnBu\")"
   ]
  },
  {
   "cell_type": "code",
   "execution_count": 42,
   "metadata": {},
   "outputs": [],
   "source": [
    "# creating variables with each entrie of the confusion matrix\n",
    "TN = confusion_m[0, 0]\n",
    "TP = confusion_m[1, 1]\n",
    "FN = confusion_m[1, 0]\n",
    "FP = confusion_m[0, 1]\n",
    "sensitivity = TP/float(TP + FN)\n",
    "specificity = TN/float(TN + FP)"
   ]
  },
  {
   "cell_type": "code",
   "execution_count": 43,
   "metadata": {},
   "outputs": [
    {
     "name": "stdout",
     "output_type": "stream",
     "text": [
      "The acuuracy of the model = TP+TN/(TP+TN+FP+FN) =  0.873046875\n"
     ]
    }
   ],
   "source": [
    "print('The acuuracy of the model = TP+TN/(TP+TN+FP+FN) = ',(TP+TN)/float(TP+TN+FP+FN))"
   ]
  },
  {
   "cell_type": "markdown",
   "metadata": {
    "id": "wnk1aSlGrwB4"
   },
   "source": [
    "# Prediction for Test Dataset (Provided by DPhi)\n",
    "Predict if the customer would buy the car insurance or not on the test data provided by DPhi here.\n"
   ]
  },
  {
   "cell_type": "code",
   "execution_count": 44,
   "metadata": {
    "id": "HofM00_osRut"
   },
   "outputs": [
    {
     "data": {
      "text/html": [
       "<div>\n",
       "<style scoped>\n",
       "    .dataframe tbody tr th:only-of-type {\n",
       "        vertical-align: middle;\n",
       "    }\n",
       "\n",
       "    .dataframe tbody tr th {\n",
       "        vertical-align: top;\n",
       "    }\n",
       "\n",
       "    .dataframe thead th {\n",
       "        text-align: right;\n",
       "    }\n",
       "</style>\n",
       "<table border=\"1\" class=\"dataframe\">\n",
       "  <thead>\n",
       "    <tr style=\"text-align: right;\">\n",
       "      <th></th>\n",
       "      <th>age</th>\n",
       "      <th>job_type</th>\n",
       "      <th>marital_status</th>\n",
       "      <th>education_level</th>\n",
       "      <th>default_or_not</th>\n",
       "      <th>balance_amt</th>\n",
       "      <th>household_insurance</th>\n",
       "      <th>car_loan</th>\n",
       "      <th>communication</th>\n",
       "      <th>last_contact_day</th>\n",
       "      <th>last_contact_month</th>\n",
       "      <th>no_of_contacts</th>\n",
       "      <th>days_passed</th>\n",
       "      <th>prev_attempts</th>\n",
       "      <th>Outcome</th>\n",
       "      <th>call_start</th>\n",
       "      <th>call_end</th>\n",
       "    </tr>\n",
       "  </thead>\n",
       "  <tbody>\n",
       "    <tr>\n",
       "      <th>0</th>\n",
       "      <td>65.0</td>\n",
       "      <td>retired</td>\n",
       "      <td>married</td>\n",
       "      <td>secondary</td>\n",
       "      <td>0</td>\n",
       "      <td>20806.0</td>\n",
       "      <td>0</td>\n",
       "      <td>0</td>\n",
       "      <td>telephone</td>\n",
       "      <td>8</td>\n",
       "      <td>apr</td>\n",
       "      <td>2</td>\n",
       "      <td>-1</td>\n",
       "      <td>0</td>\n",
       "      <td>NaN</td>\n",
       "      <td>12:22:13</td>\n",
       "      <td>12:30:56</td>\n",
       "    </tr>\n",
       "  </tbody>\n",
       "</table>\n",
       "</div>"
      ],
      "text/plain": [
       "    age job_type marital_status education_level  default_or_not  balance_amt  \\\n",
       "0  65.0  retired        married       secondary               0      20806.0   \n",
       "\n",
       "   household_insurance  car_loan communication  last_contact_day  \\\n",
       "0                    0         0     telephone                 8   \n",
       "\n",
       "  last_contact_month  no_of_contacts  days_passed  prev_attempts Outcome  \\\n",
       "0                apr               2           -1              0     NaN   \n",
       "\n",
       "  call_start  call_end  \n",
       "0   12:22:13  12:30:56  "
      ]
     },
     "execution_count": 44,
     "metadata": {},
     "output_type": "execute_result"
    }
   ],
   "source": [
    "# In this section I will do all the steps to handle with the train data\n",
    "path2 = 'C:\\\\Users\\\\felip\\\\OneDrive - Universidade Federal de Pernambuco\\\\Python\\\\DPHI Iniciação em Data Science\\\\Test_data.csv'\n",
    "new_test_data = pd.read_csv(path2)\n",
    "new_test_data.head(1)"
   ]
  },
  {
   "cell_type": "code",
   "execution_count": 45,
   "metadata": {},
   "outputs": [
    {
     "name": "stdout",
     "output_type": "stream",
     "text": [
      "<class 'pandas.core.frame.DataFrame'>\n",
      "RangeIndex: 935 entries, 0 to 934\n",
      "Data columns (total 17 columns):\n",
      " #   Column               Non-Null Count  Dtype          \n",
      "---  ------               --------------  -----          \n",
      " 0   age                  935 non-null    float64        \n",
      " 1   job_type             935 non-null    object         \n",
      " 2   marital_status       935 non-null    object         \n",
      " 3   education_level      935 non-null    object         \n",
      " 4   default_or_not       935 non-null    int64          \n",
      " 5   balance_amt          935 non-null    float64        \n",
      " 6   household_insurance  935 non-null    int64          \n",
      " 7   car_loan             935 non-null    int64          \n",
      " 8   communication        935 non-null    object         \n",
      " 9   last_contact_day     935 non-null    int64          \n",
      " 10  last_contact_month   935 non-null    object         \n",
      " 11  no_of_contacts       935 non-null    int64          \n",
      " 12  days_passed          935 non-null    int64          \n",
      " 13  prev_attempts        935 non-null    int64          \n",
      " 14  call_start           935 non-null    datetime64[ns] \n",
      " 15  call_end             935 non-null    datetime64[ns] \n",
      " 16  calltime             935 non-null    timedelta64[ns]\n",
      "dtypes: datetime64[ns](2), float64(2), int64(7), object(5), timedelta64[ns](1)\n",
      "memory usage: 124.3+ KB\n"
     ]
    }
   ],
   "source": [
    "new_test_data['job_type'] = new_test_data['job_type'].fillna('management')\n",
    "new_test_data['education_level'] = new_test_data['education_level'].fillna('secondary')\n",
    "new_test_data['communication'] = new_test_data['communication'].fillna('cellular')\n",
    "del new_test_data['Outcome']\n",
    "new_test_data['call_start'] = pd.to_datetime(new_test_data['call_start'])\n",
    "new_test_data['call_end'] = pd.to_datetime(new_test_data['call_end'])\n",
    "new_test_data['calltime'] = new_test_data['call_end'] - new_test_data['call_start']\n"
   ]
  },
  {
   "cell_type": "code",
   "execution_count": 47,
   "metadata": {},
   "outputs": [
    {
     "name": "stdout",
     "output_type": "stream",
     "text": [
      "<class 'pandas.core.frame.DataFrame'>\n",
      "RangeIndex: 935 entries, 0 to 934\n",
      "Data columns (total 15 columns):\n",
      " #   Column               Non-Null Count  Dtype  \n",
      "---  ------               --------------  -----  \n",
      " 0   age                  935 non-null    float64\n",
      " 1   job_type             935 non-null    object \n",
      " 2   marital_status       935 non-null    object \n",
      " 3   education_level      935 non-null    object \n",
      " 4   default_or_not       935 non-null    int64  \n",
      " 5   balance_amt          935 non-null    float64\n",
      " 6   household_insurance  935 non-null    int64  \n",
      " 7   car_loan             935 non-null    int64  \n",
      " 8   communication        935 non-null    object \n",
      " 9   last_contact_day     935 non-null    int64  \n",
      " 10  last_contact_month   935 non-null    object \n",
      " 11  no_of_contacts       935 non-null    int64  \n",
      " 12  days_passed          935 non-null    int64  \n",
      " 13  prev_attempts        935 non-null    int64  \n",
      " 14  calltime             935 non-null    int64  \n",
      "dtypes: float64(2), int64(8), object(5)\n",
      "memory usage: 109.7+ KB\n"
     ]
    }
   ],
   "source": [
    "time2 = []\n",
    "for val in new_test_data['calltime']:\n",
    "    time2.append(val.seconds)\n",
    "\n",
    "new_test_data['calltime'] = time2\n",
    "del new_test_data['call_start']\n",
    "del new_test_data['call_end']\n",
    "new_test_data.info()"
   ]
  },
  {
   "cell_type": "code",
   "execution_count": 48,
   "metadata": {},
   "outputs": [
    {
     "data": {
      "text/html": [
       "<div>\n",
       "<style scoped>\n",
       "    .dataframe tbody tr th:only-of-type {\n",
       "        vertical-align: middle;\n",
       "    }\n",
       "\n",
       "    .dataframe tbody tr th {\n",
       "        vertical-align: top;\n",
       "    }\n",
       "\n",
       "    .dataframe thead th {\n",
       "        text-align: right;\n",
       "    }\n",
       "</style>\n",
       "<table border=\"1\" class=\"dataframe\">\n",
       "  <thead>\n",
       "    <tr style=\"text-align: right;\">\n",
       "      <th></th>\n",
       "      <th>age</th>\n",
       "      <th>balance_amt</th>\n",
       "      <th>last_contact_day</th>\n",
       "      <th>no_of_contacts</th>\n",
       "      <th>days_passed</th>\n",
       "      <th>prev_attempts</th>\n",
       "      <th>calltime</th>\n",
       "      <th>job_type_admin.</th>\n",
       "      <th>job_type_blue-collar</th>\n",
       "      <th>job_type_entrepreneur</th>\n",
       "      <th>...</th>\n",
       "      <th>last_contact_month_dec</th>\n",
       "      <th>last_contact_month_feb</th>\n",
       "      <th>last_contact_month_jan</th>\n",
       "      <th>last_contact_month_jul</th>\n",
       "      <th>last_contact_month_jun</th>\n",
       "      <th>last_contact_month_mar</th>\n",
       "      <th>last_contact_month_may</th>\n",
       "      <th>last_contact_month_nov</th>\n",
       "      <th>last_contact_month_oct</th>\n",
       "      <th>last_contact_month_sep</th>\n",
       "    </tr>\n",
       "  </thead>\n",
       "  <tbody>\n",
       "    <tr>\n",
       "      <th>0</th>\n",
       "      <td>65.0</td>\n",
       "      <td>20806.0</td>\n",
       "      <td>8</td>\n",
       "      <td>2</td>\n",
       "      <td>-1</td>\n",
       "      <td>0</td>\n",
       "      <td>523</td>\n",
       "      <td>0</td>\n",
       "      <td>0</td>\n",
       "      <td>0</td>\n",
       "      <td>...</td>\n",
       "      <td>0</td>\n",
       "      <td>0</td>\n",
       "      <td>0</td>\n",
       "      <td>0</td>\n",
       "      <td>0</td>\n",
       "      <td>0</td>\n",
       "      <td>0</td>\n",
       "      <td>0</td>\n",
       "      <td>0</td>\n",
       "      <td>0</td>\n",
       "    </tr>\n",
       "  </tbody>\n",
       "</table>\n",
       "<p>1 rows × 44 columns</p>\n",
       "</div>"
      ],
      "text/plain": [
       "    age  balance_amt  last_contact_day  no_of_contacts  days_passed  \\\n",
       "0  65.0      20806.0                 8               2           -1   \n",
       "\n",
       "   prev_attempts  calltime  job_type_admin.  job_type_blue-collar  \\\n",
       "0              0       523                0                     0   \n",
       "\n",
       "   job_type_entrepreneur  ...  last_contact_month_dec  last_contact_month_feb  \\\n",
       "0                      0  ...                       0                       0   \n",
       "\n",
       "   last_contact_month_jan  last_contact_month_jul  last_contact_month_jun  \\\n",
       "0                       0                       0                       0   \n",
       "\n",
       "   last_contact_month_mar  last_contact_month_may  last_contact_month_nov  \\\n",
       "0                       0                       0                       0   \n",
       "\n",
       "   last_contact_month_oct  last_contact_month_sep  \n",
       "0                       0                       0  \n",
       "\n",
       "[1 rows x 44 columns]"
      ]
     },
     "execution_count": 48,
     "metadata": {},
     "output_type": "execute_result"
    }
   ],
   "source": [
    "cat_cols = ['default_or_not', 'household_insurance', 'car_loan']\n",
    "for values in cat_cols:\n",
    "    new_test_data[cat_cols] = new_test_data[cat_cols].astype('object')\n",
    "    \n",
    "cat_cols_total = new_test_data.select_dtypes(include = 'object').columns\n",
    "new_test_data = pd.get_dummies(new_test_data, columns=cat_cols_total)\n",
    "new_test_data.head(1)"
   ]
  },
  {
   "cell_type": "code",
   "execution_count": 49,
   "metadata": {},
   "outputs": [],
   "source": [
    "predictions = rfc.predict(new_test_data)"
   ]
  },
  {
   "cell_type": "markdown",
   "metadata": {
    "id": "qz-bZ_EDsTH0"
   },
   "source": [
    "# Saving Prediction File"
   ]
  },
  {
   "cell_type": "markdown",
   "metadata": {
    "id": "-MzX4muyuN9c"
   },
   "source": [
    "### Save prediciton results locally via jupyter notebook\n",
    "If you are working on Jupyter notebook, execute below block of codes. A file named 'prediction_results.csv' will be created in your current working directory."
   ]
  },
  {
   "cell_type": "code",
   "execution_count": 50,
   "metadata": {
    "id": "j6pQIImzsScy"
   },
   "outputs": [],
   "source": [
    "res = pd.DataFrame(predictions) #preditcions are nothing but the final predictions of your model on input features of your new unseen test data\n",
    "res.index = new_test_data.index # its important for comparison. Here \"test_new\" is your new test dataset\n",
    "res.columns = [\"prediction\"]\n",
    "res.to_csv(\"prediction_results.csv\", index = False)      # the csv file will be saved locally on the same location where this notebook is located."
   ]
  }
 ],
 "metadata": {
  "colab": {
   "name": "Template Notebook: Getting Started With Data Science Bootcamp: Final Assignment.ipynb",
   "provenance": []
  },
  "kernelspec": {
   "display_name": "Python 3",
   "language": "python",
   "name": "python3"
  },
  "language_info": {
   "codemirror_mode": {
    "name": "ipython",
    "version": 3
   },
   "file_extension": ".py",
   "mimetype": "text/x-python",
   "name": "python",
   "nbconvert_exporter": "python",
   "pygments_lexer": "ipython3",
   "version": "3.8.5"
  }
 },
 "nbformat": 4,
 "nbformat_minor": 1
}
