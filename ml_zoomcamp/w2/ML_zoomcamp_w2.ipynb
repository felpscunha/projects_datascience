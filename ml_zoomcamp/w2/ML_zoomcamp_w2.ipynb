{
  "cells": [
    {
      "cell_type": "markdown",
      "metadata": {
        "id": "DuyC4a34apIM"
      },
      "source": [
        "# Machine Learning Zoomcamp Homework Week 2\n",
        "\n",
        "#### Por Felipe Cunha\n"
      ]
    },
    {
      "cell_type": "code",
      "execution_count": 1,
      "metadata": {
        "id": "GwddimxtUmOw"
      },
      "outputs": [],
      "source": [
        "# importando bibliotecas\n",
        "import pandas as pd\n",
        "import numpy as np"
      ]
    },
    {
      "cell_type": "markdown",
      "metadata": {},
      "source": [
        "### O Conjunto de dados utilizado foi o de preços de casas na california disponível no Kaggle."
      ]
    },
    {
      "cell_type": "code",
      "execution_count": 2,
      "metadata": {
        "colab": {
          "base_uri": "https://localhost:8080/",
          "height": 206
        },
        "id": "1PMMK25oUrD5",
        "outputId": "289f9d9f-b5f3-43a7-d691-72ac54946f83"
      },
      "outputs": [
        {
          "data": {
            "text/html": [
              "<div>\n",
              "<style scoped>\n",
              "    .dataframe tbody tr th:only-of-type {\n",
              "        vertical-align: middle;\n",
              "    }\n",
              "\n",
              "    .dataframe tbody tr th {\n",
              "        vertical-align: top;\n",
              "    }\n",
              "\n",
              "    .dataframe thead th {\n",
              "        text-align: right;\n",
              "    }\n",
              "</style>\n",
              "<table border=\"1\" class=\"dataframe\">\n",
              "  <thead>\n",
              "    <tr style=\"text-align: right;\">\n",
              "      <th></th>\n",
              "      <th>longitude</th>\n",
              "      <th>latitude</th>\n",
              "      <th>housing_median_age</th>\n",
              "      <th>total_rooms</th>\n",
              "      <th>total_bedrooms</th>\n",
              "      <th>population</th>\n",
              "      <th>households</th>\n",
              "      <th>median_income</th>\n",
              "      <th>median_house_value</th>\n",
              "      <th>ocean_proximity</th>\n",
              "    </tr>\n",
              "  </thead>\n",
              "  <tbody>\n",
              "    <tr>\n",
              "      <th>0</th>\n",
              "      <td>-122.23</td>\n",
              "      <td>37.88</td>\n",
              "      <td>41.0</td>\n",
              "      <td>880.0</td>\n",
              "      <td>129.0</td>\n",
              "      <td>322.0</td>\n",
              "      <td>126.0</td>\n",
              "      <td>8.3252</td>\n",
              "      <td>452600.0</td>\n",
              "      <td>NEAR BAY</td>\n",
              "    </tr>\n",
              "    <tr>\n",
              "      <th>1</th>\n",
              "      <td>-122.22</td>\n",
              "      <td>37.86</td>\n",
              "      <td>21.0</td>\n",
              "      <td>7099.0</td>\n",
              "      <td>1106.0</td>\n",
              "      <td>2401.0</td>\n",
              "      <td>1138.0</td>\n",
              "      <td>8.3014</td>\n",
              "      <td>358500.0</td>\n",
              "      <td>NEAR BAY</td>\n",
              "    </tr>\n",
              "    <tr>\n",
              "      <th>2</th>\n",
              "      <td>-122.24</td>\n",
              "      <td>37.85</td>\n",
              "      <td>52.0</td>\n",
              "      <td>1467.0</td>\n",
              "      <td>190.0</td>\n",
              "      <td>496.0</td>\n",
              "      <td>177.0</td>\n",
              "      <td>7.2574</td>\n",
              "      <td>352100.0</td>\n",
              "      <td>NEAR BAY</td>\n",
              "    </tr>\n",
              "    <tr>\n",
              "      <th>3</th>\n",
              "      <td>-122.25</td>\n",
              "      <td>37.85</td>\n",
              "      <td>52.0</td>\n",
              "      <td>1274.0</td>\n",
              "      <td>235.0</td>\n",
              "      <td>558.0</td>\n",
              "      <td>219.0</td>\n",
              "      <td>5.6431</td>\n",
              "      <td>341300.0</td>\n",
              "      <td>NEAR BAY</td>\n",
              "    </tr>\n",
              "    <tr>\n",
              "      <th>4</th>\n",
              "      <td>-122.25</td>\n",
              "      <td>37.85</td>\n",
              "      <td>52.0</td>\n",
              "      <td>1627.0</td>\n",
              "      <td>280.0</td>\n",
              "      <td>565.0</td>\n",
              "      <td>259.0</td>\n",
              "      <td>3.8462</td>\n",
              "      <td>342200.0</td>\n",
              "      <td>NEAR BAY</td>\n",
              "    </tr>\n",
              "  </tbody>\n",
              "</table>\n",
              "</div>"
            ],
            "text/plain": [
              "   longitude  latitude  housing_median_age  total_rooms  total_bedrooms  \\\n",
              "0    -122.23     37.88                41.0        880.0           129.0   \n",
              "1    -122.22     37.86                21.0       7099.0          1106.0   \n",
              "2    -122.24     37.85                52.0       1467.0           190.0   \n",
              "3    -122.25     37.85                52.0       1274.0           235.0   \n",
              "4    -122.25     37.85                52.0       1627.0           280.0   \n",
              "\n",
              "   population  households  median_income  median_house_value ocean_proximity  \n",
              "0       322.0       126.0         8.3252            452600.0        NEAR BAY  \n",
              "1      2401.0      1138.0         8.3014            358500.0        NEAR BAY  \n",
              "2       496.0       177.0         7.2574            352100.0        NEAR BAY  \n",
              "3       558.0       219.0         5.6431            341300.0        NEAR BAY  \n",
              "4       565.0       259.0         3.8462            342200.0        NEAR BAY  "
            ]
          },
          "execution_count": 2,
          "metadata": {},
          "output_type": "execute_result"
        }
      ],
      "source": [
        "df = pd.read_csv('https://raw.githubusercontent.com/alexeygrigorev/datasets/master/housing.csv') # carregamento dos dados\n",
        "df.head() # Visão geral dos dados"
      ]
    },
    {
      "cell_type": "markdown",
      "metadata": {},
      "source": [
        "# Exploratory Data Analysis (EDA)\n",
        "#### Primeiro uma visualização da distribuição de valores na variável alvo, no caso a \"median_house_value\""
      ]
    },
    {
      "cell_type": "code",
      "execution_count": 3,
      "metadata": {
        "colab": {
          "base_uri": "https://localhost:8080/",
          "height": 282
        },
        "id": "zL-1IPrdVcQb",
        "outputId": "0186cac8-869c-4597-8ec1-846e3af6a6db"
      },
      "outputs": [
        {
          "data": {
            "text/plain": [
              "<AxesSubplot:>"
            ]
          },
          "execution_count": 3,
          "metadata": {},
          "output_type": "execute_result"
        },
        {
          "data": {
            "image/png": "[encoded data removed]",
            "text/plain": [
              "<Figure size 432x288 with 1 Axes>"
            ]
          },
          "metadata": {
            "needs_background": "light"
          },
          "output_type": "display_data"
        }
      ],
      "source": [
        "df['median_house_value'].hist(bins=25)"
      ]
    },
    {
      "cell_type": "markdown",
      "metadata": {},
      "source": [
        "- It's look like we have a long tail in the right side of distribution as we can see in Histogram above;\n",
        "- Percebe-se que há uma cauda longa a direita da distribuição"
      ]
    },
    {
      "cell_type": "code",
      "execution_count": 57,
      "metadata": {},
      "outputs": [
        {
          "data": {
            "text/plain": [
              "count     20640.000000\n",
              "mean     206855.816909\n",
              "std      115395.615874\n",
              "min       14999.000000\n",
              "25%      119600.000000\n",
              "50%      179700.000000\n",
              "75%      264725.000000\n",
              "max      500001.000000\n",
              "Name: median_house_value, dtype: float64"
            ]
          },
          "execution_count": 57,
          "metadata": {},
          "output_type": "execute_result"
        }
      ],
      "source": [
        "df['median_house_value'].describe() # breve descrição relativo ao preço das casas."
      ]
    },
    {
      "cell_type": "markdown",
      "metadata": {},
      "source": [
        "#### Só serão utilizados os dados em que os valores da variável \"ocean_proximity\" sejam iguais a \"<1H OCEAN\" ou \"INLAND\""
      ]
    },
    {
      "cell_type": "code",
      "execution_count": 4,
      "metadata": {
        "colab": {
          "base_uri": "https://localhost:8080/",
          "height": 206
        },
        "id": "KJ4Qa7pGVoxd",
        "outputId": "5646cf18-d0d4-415b-ab0b-b510d007094f"
      },
      "outputs": [
        {
          "data": {
            "text/html": [
              "<div>\n",
              "<style scoped>\n",
              "    .dataframe tbody tr th:only-of-type {\n",
              "        vertical-align: middle;\n",
              "    }\n",
              "\n",
              "    .dataframe tbody tr th {\n",
              "        vertical-align: top;\n",
              "    }\n",
              "\n",
              "    .dataframe thead th {\n",
              "        text-align: right;\n",
              "    }\n",
              "</style>\n",
              "<table border=\"1\" class=\"dataframe\">\n",
              "  <thead>\n",
              "    <tr style=\"text-align: right;\">\n",
              "      <th></th>\n",
              "      <th>longitude</th>\n",
              "      <th>latitude</th>\n",
              "      <th>housing_median_age</th>\n",
              "      <th>total_rooms</th>\n",
              "      <th>total_bedrooms</th>\n",
              "      <th>population</th>\n",
              "      <th>households</th>\n",
              "      <th>median_income</th>\n",
              "      <th>median_house_value</th>\n",
              "      <th>ocean_proximity</th>\n",
              "    </tr>\n",
              "  </thead>\n",
              "  <tbody>\n",
              "    <tr>\n",
              "      <th>701</th>\n",
              "      <td>-121.97</td>\n",
              "      <td>37.64</td>\n",
              "      <td>32.0</td>\n",
              "      <td>1283.0</td>\n",
              "      <td>194.0</td>\n",
              "      <td>485.0</td>\n",
              "      <td>171.0</td>\n",
              "      <td>6.0574</td>\n",
              "      <td>431000.0</td>\n",
              "      <td>&lt;1H OCEAN</td>\n",
              "    </tr>\n",
              "    <tr>\n",
              "      <th>830</th>\n",
              "      <td>-121.99</td>\n",
              "      <td>37.61</td>\n",
              "      <td>9.0</td>\n",
              "      <td>3666.0</td>\n",
              "      <td>711.0</td>\n",
              "      <td>2341.0</td>\n",
              "      <td>703.0</td>\n",
              "      <td>4.6458</td>\n",
              "      <td>217000.0</td>\n",
              "      <td>&lt;1H OCEAN</td>\n",
              "    </tr>\n",
              "    <tr>\n",
              "      <th>859</th>\n",
              "      <td>-121.97</td>\n",
              "      <td>37.57</td>\n",
              "      <td>21.0</td>\n",
              "      <td>4342.0</td>\n",
              "      <td>783.0</td>\n",
              "      <td>2172.0</td>\n",
              "      <td>789.0</td>\n",
              "      <td>4.6146</td>\n",
              "      <td>247600.0</td>\n",
              "      <td>&lt;1H OCEAN</td>\n",
              "    </tr>\n",
              "    <tr>\n",
              "      <th>860</th>\n",
              "      <td>-121.96</td>\n",
              "      <td>37.58</td>\n",
              "      <td>15.0</td>\n",
              "      <td>3575.0</td>\n",
              "      <td>597.0</td>\n",
              "      <td>1777.0</td>\n",
              "      <td>559.0</td>\n",
              "      <td>5.7192</td>\n",
              "      <td>283500.0</td>\n",
              "      <td>&lt;1H OCEAN</td>\n",
              "    </tr>\n",
              "    <tr>\n",
              "      <th>861</th>\n",
              "      <td>-121.98</td>\n",
              "      <td>37.58</td>\n",
              "      <td>20.0</td>\n",
              "      <td>4126.0</td>\n",
              "      <td>1031.0</td>\n",
              "      <td>2079.0</td>\n",
              "      <td>975.0</td>\n",
              "      <td>3.6832</td>\n",
              "      <td>216900.0</td>\n",
              "      <td>&lt;1H OCEAN</td>\n",
              "    </tr>\n",
              "  </tbody>\n",
              "</table>\n",
              "</div>"
            ],
            "text/plain": [
              "     longitude  latitude  housing_median_age  total_rooms  total_bedrooms  \\\n",
              "701    -121.97     37.64                32.0       1283.0           194.0   \n",
              "830    -121.99     37.61                 9.0       3666.0           711.0   \n",
              "859    -121.97     37.57                21.0       4342.0           783.0   \n",
              "860    -121.96     37.58                15.0       3575.0           597.0   \n",
              "861    -121.98     37.58                20.0       4126.0          1031.0   \n",
              "\n",
              "     population  households  median_income  median_house_value ocean_proximity  \n",
              "701       485.0       171.0         6.0574            431000.0       <1H OCEAN  \n",
              "830      2341.0       703.0         4.6458            217000.0       <1H OCEAN  \n",
              "859      2172.0       789.0         4.6146            247600.0       <1H OCEAN  \n",
              "860      1777.0       559.0         5.7192            283500.0       <1H OCEAN  \n",
              "861      2079.0       975.0         3.6832            216900.0       <1H OCEAN  "
            ]
          },
          "execution_count": 4,
          "metadata": {},
          "output_type": "execute_result"
        }
      ],
      "source": [
        "df_work = df[(df['ocean_proximity'] == '<1H OCEAN') | (df['ocean_proximity'] == 'INLAND')]\n",
        "df_work.drop('ocean_proximity', axis=1, inplace=True)\n",
        "df_work.head()"
      ]
    },
    {
      "cell_type": "markdown",
      "metadata": {
        "id": "rD8QWVwEWDeB"
      },
      "source": [
        "### Questão 1\n",
        "- Encontre uma variável que tenha valores faltando. Qual é?"
      ]
    },
    {
      "cell_type": "code",
      "execution_count": 6,
      "metadata": {
        "colab": {
          "base_uri": "https://localhost:8080/"
        },
        "id": "LlMaigjyV4_b",
        "outputId": "740f78ba-998d-4e9e-82d3-cd25eb71846d"
      },
      "outputs": [
        {
          "data": {
            "text/plain": [
              "longitude               0\n",
              "latitude                0\n",
              "housing_median_age      0\n",
              "total_rooms             0\n",
              "total_bedrooms        157\n",
              "population              0\n",
              "households              0\n",
              "median_income           0\n",
              "median_house_value      0\n",
              "dtype: int64"
            ]
          },
          "execution_count": 6,
          "metadata": {},
          "output_type": "execute_result"
        }
      ],
      "source": [
        "df_work.isnull().sum()"
      ]
    },
    {
      "cell_type": "markdown",
      "metadata": {
        "id": "tID0vVRmWQyC"
      },
      "source": [
        "Total_bedrooms have missing values. 157 missing values. \n",
        "- A única variável que tem dados faltando é o total de quartos nas casas com 157 valores faltando."
      ]
    },
    {
      "cell_type": "markdown",
      "metadata": {
        "id": "NR9IOzv6WiAr"
      },
      "source": [
        "### Questão 2 \n",
        "\n",
        "- Qual a mediana (50% percentil) para a variável 'population'?"
      ]
    },
    {
      "cell_type": "code",
      "execution_count": 7,
      "metadata": {
        "colab": {
          "base_uri": "https://localhost:8080/"
        },
        "id": "DR3QMzm6WNF0",
        "outputId": "0cc26bc3-3303-4d3a-ed12-2e5a7ff74e09"
      },
      "outputs": [
        {
          "data": {
            "text/plain": [
              "count    15687.000000\n",
              "mean      1466.317205\n",
              "std       1180.389908\n",
              "min          3.000000\n",
              "25%        802.000000\n",
              "50%       1195.000000\n",
              "75%       1777.000000\n",
              "max      35682.000000\n",
              "Name: population, dtype: float64"
            ]
          },
          "execution_count": 7,
          "metadata": {},
          "output_type": "execute_result"
        }
      ],
      "source": [
        "df_work['population'].describe()"
      ]
    },
    {
      "cell_type": "markdown",
      "metadata": {
        "id": "p1X3Ujy1W5hP"
      },
      "source": [
        "50% percentil (MEDIANA) = 1195"
      ]
    },
    {
      "cell_type": "markdown",
      "metadata": {
        "id": "mmFUHHj8bidZ"
      },
      "source": [
        "### Questão 3 "
      ]
    },
    {
      "cell_type": "markdown",
      "metadata": {},
      "source": [
        "- Embaralhe o conjunto de dados (o filtrado que você criou acima), use a \"semente\" 42.\n",
        "- Separe seus dados em conjuntos de treino, validação e teste na proporção de 60%/20%/20%.\n",
        "- Aplique a transformação logarítmica na variável \"median_house_value\" usand a função np.log1p()."
      ]
    },
    {
      "cell_type": "code",
      "execution_count": 8,
      "metadata": {
        "id": "bfjxdmYzb4k6"
      },
      "outputs": [
        {
          "name": "stdout",
          "output_type": "stream",
          "text": [
            "n = 15687, n_val = 3137, n_test = 3137, n_train = 9413.\n"
          ]
        }
      ],
      "source": [
        "# Verificando o tamanho total do conjunto de dados e calculando o número de amostras que teremos em cada conjunto\n",
        "n = len(df_work)\n",
        "n_val = int(n * 0.2)\n",
        "n_test = int(n * 0.2)\n",
        "n_train = n - n_val - n_test\n",
        "\n",
        "print(f'n = {n}, n_val = {n_val}, n_test = {n_test}, n_train = {n_train}.')"
      ]
    },
    {
      "cell_type": "code",
      "execution_count": 9,
      "metadata": {
        "id": "SURsA3vyWxfj"
      },
      "outputs": [],
      "source": [
        "# Escolhendo o seed e embaralhando os dados em função dos índices criados \n",
        "idx = np.arange(n) # criando novos índices\n",
        "np.random.seed(42) # escolhendo o seed (semente), garantia dos resultados serem iguais para o mesmo seed\n",
        "np.random.shuffle(idx) # embaralhando os índices"
      ]
    },
    {
      "cell_type": "code",
      "execution_count": 10,
      "metadata": {
        "id": "a6t5zBZ_cQ0g"
      },
      "outputs": [
        {
          "data": {
            "text/plain": [
              "(9413, 3137, 3137)"
            ]
          },
          "execution_count": 10,
          "metadata": {},
          "output_type": "execute_result"
        }
      ],
      "source": [
        "# Criação dos conjuntos de dados de treino, validação e teste com as amostras embaralhadas pelo índice em função da semente escolhida. \n",
        "df_train = df_work.iloc[idx[:n_train]]\n",
        "df_val = df_work.iloc[idx[n_train:n_train+n_val]]\n",
        "df_test = df_work.iloc[idx[n_train+n_val:]]\n",
        "\n",
        "len(df_train), len(df_test), len(df_val)"
      ]
    },
    {
      "cell_type": "code",
      "execution_count": 11,
      "metadata": {
        "colab": {
          "base_uri": "https://localhost:8080/",
          "height": 206
        },
        "id": "HIRIkhZScmTI",
        "outputId": "90abee2d-de11-4a84-eef8-5656239af34c"
      },
      "outputs": [
        {
          "data": {
            "text/html": [
              "<div>\n",
              "<style scoped>\n",
              "    .dataframe tbody tr th:only-of-type {\n",
              "        vertical-align: middle;\n",
              "    }\n",
              "\n",
              "    .dataframe tbody tr th {\n",
              "        vertical-align: top;\n",
              "    }\n",
              "\n",
              "    .dataframe thead th {\n",
              "        text-align: right;\n",
              "    }\n",
              "</style>\n",
              "<table border=\"1\" class=\"dataframe\">\n",
              "  <thead>\n",
              "    <tr style=\"text-align: right;\">\n",
              "      <th></th>\n",
              "      <th>longitude</th>\n",
              "      <th>latitude</th>\n",
              "      <th>housing_median_age</th>\n",
              "      <th>total_rooms</th>\n",
              "      <th>total_bedrooms</th>\n",
              "      <th>population</th>\n",
              "      <th>households</th>\n",
              "      <th>median_income</th>\n",
              "      <th>median_house_value</th>\n",
              "    </tr>\n",
              "  </thead>\n",
              "  <tbody>\n",
              "    <tr>\n",
              "      <th>19963</th>\n",
              "      <td>-119.14</td>\n",
              "      <td>36.23</td>\n",
              "      <td>22.0</td>\n",
              "      <td>2935.0</td>\n",
              "      <td>523.0</td>\n",
              "      <td>1927.0</td>\n",
              "      <td>530.0</td>\n",
              "      <td>2.5875</td>\n",
              "      <td>70400.0</td>\n",
              "    </tr>\n",
              "    <tr>\n",
              "      <th>5929</th>\n",
              "      <td>-117.79</td>\n",
              "      <td>34.12</td>\n",
              "      <td>16.0</td>\n",
              "      <td>2426.0</td>\n",
              "      <td>426.0</td>\n",
              "      <td>1319.0</td>\n",
              "      <td>446.0</td>\n",
              "      <td>4.8125</td>\n",
              "      <td>224500.0</td>\n",
              "    </tr>\n",
              "    <tr>\n",
              "      <th>11377</th>\n",
              "      <td>-117.97</td>\n",
              "      <td>33.68</td>\n",
              "      <td>26.0</td>\n",
              "      <td>3653.0</td>\n",
              "      <td>568.0</td>\n",
              "      <td>1930.0</td>\n",
              "      <td>585.0</td>\n",
              "      <td>5.7301</td>\n",
              "      <td>260900.0</td>\n",
              "    </tr>\n",
              "    <tr>\n",
              "      <th>6443</th>\n",
              "      <td>-118.03</td>\n",
              "      <td>34.10</td>\n",
              "      <td>32.0</td>\n",
              "      <td>2668.0</td>\n",
              "      <td>609.0</td>\n",
              "      <td>1512.0</td>\n",
              "      <td>541.0</td>\n",
              "      <td>2.9422</td>\n",
              "      <td>233100.0</td>\n",
              "    </tr>\n",
              "    <tr>\n",
              "      <th>17546</th>\n",
              "      <td>-121.87</td>\n",
              "      <td>37.34</td>\n",
              "      <td>39.0</td>\n",
              "      <td>2479.0</td>\n",
              "      <td>541.0</td>\n",
              "      <td>1990.0</td>\n",
              "      <td>506.0</td>\n",
              "      <td>2.4306</td>\n",
              "      <td>289100.0</td>\n",
              "    </tr>\n",
              "  </tbody>\n",
              "</table>\n",
              "</div>"
            ],
            "text/plain": [
              "       longitude  latitude  housing_median_age  total_rooms  total_bedrooms  \\\n",
              "19963    -119.14     36.23                22.0       2935.0           523.0   \n",
              "5929     -117.79     34.12                16.0       2426.0           426.0   \n",
              "11377    -117.97     33.68                26.0       3653.0           568.0   \n",
              "6443     -118.03     34.10                32.0       2668.0           609.0   \n",
              "17546    -121.87     37.34                39.0       2479.0           541.0   \n",
              "\n",
              "       population  households  median_income  median_house_value  \n",
              "19963      1927.0       530.0         2.5875             70400.0  \n",
              "5929       1319.0       446.0         4.8125            224500.0  \n",
              "11377      1930.0       585.0         5.7301            260900.0  \n",
              "6443       1512.0       541.0         2.9422            233100.0  \n",
              "17546      1990.0       506.0         2.4306            289100.0  "
            ]
          },
          "execution_count": 11,
          "metadata": {},
          "output_type": "execute_result"
        }
      ],
      "source": [
        "df_train.head() # verificando os dados de treino"
      ]
    },
    {
      "cell_type": "code",
      "execution_count": 12,
      "metadata": {
        "id": "PQJaBfxCdWJu"
      },
      "outputs": [],
      "source": [
        "# resetando os valores do índice \n",
        "\n",
        "df_train = df_train.reset_index(drop=True)\n",
        "df_test = df_test.reset_index(drop=True)\n",
        "df_val = df_val.reset_index(drop=True)"
      ]
    },
    {
      "cell_type": "code",
      "execution_count": 13,
      "metadata": {
        "colab": {
          "base_uri": "https://localhost:8080/",
          "height": 424
        },
        "id": "PQAfMqDBcoA2",
        "outputId": "08d1faa7-b6df-4458-8581-d17e96947fa4"
      },
      "outputs": [
        {
          "data": {
            "text/html": [
              "<div>\n",
              "<style scoped>\n",
              "    .dataframe tbody tr th:only-of-type {\n",
              "        vertical-align: middle;\n",
              "    }\n",
              "\n",
              "    .dataframe tbody tr th {\n",
              "        vertical-align: top;\n",
              "    }\n",
              "\n",
              "    .dataframe thead th {\n",
              "        text-align: right;\n",
              "    }\n",
              "</style>\n",
              "<table border=\"1\" class=\"dataframe\">\n",
              "  <thead>\n",
              "    <tr style=\"text-align: right;\">\n",
              "      <th></th>\n",
              "      <th>longitude</th>\n",
              "      <th>latitude</th>\n",
              "      <th>housing_median_age</th>\n",
              "      <th>total_rooms</th>\n",
              "      <th>total_bedrooms</th>\n",
              "      <th>population</th>\n",
              "      <th>households</th>\n",
              "      <th>median_income</th>\n",
              "    </tr>\n",
              "  </thead>\n",
              "  <tbody>\n",
              "    <tr>\n",
              "      <th>0</th>\n",
              "      <td>-119.14</td>\n",
              "      <td>36.23</td>\n",
              "      <td>22.0</td>\n",
              "      <td>2935.0</td>\n",
              "      <td>523.0</td>\n",
              "      <td>1927.0</td>\n",
              "      <td>530.0</td>\n",
              "      <td>2.5875</td>\n",
              "    </tr>\n",
              "    <tr>\n",
              "      <th>1</th>\n",
              "      <td>-117.79</td>\n",
              "      <td>34.12</td>\n",
              "      <td>16.0</td>\n",
              "      <td>2426.0</td>\n",
              "      <td>426.0</td>\n",
              "      <td>1319.0</td>\n",
              "      <td>446.0</td>\n",
              "      <td>4.8125</td>\n",
              "    </tr>\n",
              "    <tr>\n",
              "      <th>2</th>\n",
              "      <td>-117.97</td>\n",
              "      <td>33.68</td>\n",
              "      <td>26.0</td>\n",
              "      <td>3653.0</td>\n",
              "      <td>568.0</td>\n",
              "      <td>1930.0</td>\n",
              "      <td>585.0</td>\n",
              "      <td>5.7301</td>\n",
              "    </tr>\n",
              "    <tr>\n",
              "      <th>3</th>\n",
              "      <td>-118.03</td>\n",
              "      <td>34.10</td>\n",
              "      <td>32.0</td>\n",
              "      <td>2668.0</td>\n",
              "      <td>609.0</td>\n",
              "      <td>1512.0</td>\n",
              "      <td>541.0</td>\n",
              "      <td>2.9422</td>\n",
              "    </tr>\n",
              "    <tr>\n",
              "      <th>4</th>\n",
              "      <td>-121.87</td>\n",
              "      <td>37.34</td>\n",
              "      <td>39.0</td>\n",
              "      <td>2479.0</td>\n",
              "      <td>541.0</td>\n",
              "      <td>1990.0</td>\n",
              "      <td>506.0</td>\n",
              "      <td>2.4306</td>\n",
              "    </tr>\n",
              "    <tr>\n",
              "      <th>...</th>\n",
              "      <td>...</td>\n",
              "      <td>...</td>\n",
              "      <td>...</td>\n",
              "      <td>...</td>\n",
              "      <td>...</td>\n",
              "      <td>...</td>\n",
              "      <td>...</td>\n",
              "      <td>...</td>\n",
              "    </tr>\n",
              "    <tr>\n",
              "      <th>9408</th>\n",
              "      <td>-119.15</td>\n",
              "      <td>34.44</td>\n",
              "      <td>33.0</td>\n",
              "      <td>2005.0</td>\n",
              "      <td>392.0</td>\n",
              "      <td>1043.0</td>\n",
              "      <td>351.0</td>\n",
              "      <td>5.3080</td>\n",
              "    </tr>\n",
              "    <tr>\n",
              "      <th>9409</th>\n",
              "      <td>-119.13</td>\n",
              "      <td>36.13</td>\n",
              "      <td>28.0</td>\n",
              "      <td>1673.0</td>\n",
              "      <td>385.0</td>\n",
              "      <td>1434.0</td>\n",
              "      <td>371.0</td>\n",
              "      <td>2.0586</td>\n",
              "    </tr>\n",
              "    <tr>\n",
              "      <th>9410</th>\n",
              "      <td>-118.08</td>\n",
              "      <td>34.13</td>\n",
              "      <td>46.0</td>\n",
              "      <td>1238.0</td>\n",
              "      <td>147.0</td>\n",
              "      <td>377.0</td>\n",
              "      <td>145.0</td>\n",
              "      <td>8.4546</td>\n",
              "    </tr>\n",
              "    <tr>\n",
              "      <th>9411</th>\n",
              "      <td>-118.46</td>\n",
              "      <td>34.29</td>\n",
              "      <td>24.0</td>\n",
              "      <td>3668.0</td>\n",
              "      <td>890.0</td>\n",
              "      <td>3151.0</td>\n",
              "      <td>810.0</td>\n",
              "      <td>3.0526</td>\n",
              "    </tr>\n",
              "    <tr>\n",
              "      <th>9412</th>\n",
              "      <td>-118.41</td>\n",
              "      <td>34.00</td>\n",
              "      <td>18.0</td>\n",
              "      <td>1307.0</td>\n",
              "      <td>441.0</td>\n",
              "      <td>884.0</td>\n",
              "      <td>456.0</td>\n",
              "      <td>2.9338</td>\n",
              "    </tr>\n",
              "  </tbody>\n",
              "</table>\n",
              "<p>9413 rows × 8 columns</p>\n",
              "</div>"
            ],
            "text/plain": [
              "      longitude  latitude  housing_median_age  total_rooms  total_bedrooms  \\\n",
              "0       -119.14     36.23                22.0       2935.0           523.0   \n",
              "1       -117.79     34.12                16.0       2426.0           426.0   \n",
              "2       -117.97     33.68                26.0       3653.0           568.0   \n",
              "3       -118.03     34.10                32.0       2668.0           609.0   \n",
              "4       -121.87     37.34                39.0       2479.0           541.0   \n",
              "...         ...       ...                 ...          ...             ...   \n",
              "9408    -119.15     34.44                33.0       2005.0           392.0   \n",
              "9409    -119.13     36.13                28.0       1673.0           385.0   \n",
              "9410    -118.08     34.13                46.0       1238.0           147.0   \n",
              "9411    -118.46     34.29                24.0       3668.0           890.0   \n",
              "9412    -118.41     34.00                18.0       1307.0           441.0   \n",
              "\n",
              "      population  households  median_income  \n",
              "0         1927.0       530.0         2.5875  \n",
              "1         1319.0       446.0         4.8125  \n",
              "2         1930.0       585.0         5.7301  \n",
              "3         1512.0       541.0         2.9422  \n",
              "4         1990.0       506.0         2.4306  \n",
              "...          ...         ...            ...  \n",
              "9408      1043.0       351.0         5.3080  \n",
              "9409      1434.0       371.0         2.0586  \n",
              "9410       377.0       145.0         8.4546  \n",
              "9411      3151.0       810.0         3.0526  \n",
              "9412       884.0       456.0         2.9338  \n",
              "\n",
              "[9413 rows x 8 columns]"
            ]
          },
          "execution_count": 13,
          "metadata": {},
          "output_type": "execute_result"
        }
      ],
      "source": [
        "# retirando a variável target dos conjuntos\n",
        "X_train = df_train.iloc[:,:8]\n",
        "X_test = df_test.iloc[:,:8]\n",
        "X_val = df_val.iloc[:,:8]\n",
        "\n",
        "X_train"
      ]
    },
    {
      "cell_type": "code",
      "execution_count": 14,
      "metadata": {
        "colab": {
          "base_uri": "https://localhost:8080/"
        },
        "id": "VLcSFJ40cv_T",
        "outputId": "2821dc10-2c07-495c-e8bb-fb87a751a33b"
      },
      "outputs": [
        {
          "data": {
            "text/plain": [
              "array([11.16196275, 12.32163544, 12.4718963 , ..., 13.12236738,\n",
              "       12.11888489, 12.52924613])"
            ]
          },
          "execution_count": 14,
          "metadata": {},
          "output_type": "execute_result"
        }
      ],
      "source": [
        "# Aplicando o log na variável target\n",
        "y_train = np.log1p(df_train['median_house_value'].values)\n",
        "y_test = np.log1p(df_test['median_house_value'].values)\n",
        "y_val = np.log1p(df_val['median_house_value'].values)\n",
        "\n",
        "y_train"
      ]
    },
    {
      "cell_type": "code",
      "execution_count": 72,
      "metadata": {
        "colab": {
          "base_uri": "https://localhost:8080/"
        },
        "id": "3jZQG2iYdvFA",
        "outputId": "a75b7140-b577-45e7-8c5e-de5623a76fe2"
      },
      "outputs": [],
      "source": [
        "# substituindo dados faltantes por zero nos conjuntos\n",
        "\n",
        "X_train_0 = X_train.fillna(value=0)\n",
        "X_val_0 = X_val.fillna(value=0)\n",
        "X_test_0 = X_test.fillna(value=0)"
      ]
    },
    {
      "cell_type": "code",
      "execution_count": 17,
      "metadata": {
        "id": "uH0xwdSYya8R"
      },
      "outputs": [],
      "source": [
        "# Definindo uma função para modelo por regressão linear \n",
        "\n",
        "def train_linear_regression(X, y):\n",
        "  ones = np.ones(X.shape[0])\n",
        "  X = np.column_stack([ones, X])\n",
        "\n",
        "  XTX = X.T.dot(X)\n",
        "  XTX_inv = np.linalg.inv(XTX)\n",
        "  w_full = XTX_inv.dot(X.T).dot(y)\n",
        "\n",
        "  return w_full[0], w_full[1:]"
      ]
    },
    {
      "cell_type": "code",
      "execution_count": 80,
      "metadata": {
        "id": "Pb1XhosOc9jX"
      },
      "outputs": [],
      "source": [
        "w0, w = train_linear_regression(X_train_0, y_train) # treinando o modelo"
      ]
    },
    {
      "cell_type": "code",
      "execution_count": 81,
      "metadata": {
        "id": "CKEHYdyXdw3E"
      },
      "outputs": [],
      "source": [
        "y_pred = w0 + X_val_0.dot(w) # realizando as predições para o conjunto de validação"
      ]
    },
    {
      "cell_type": "code",
      "execution_count": 82,
      "metadata": {
        "id": "nAmjUlBveiPq"
      },
      "outputs": [],
      "source": [
        "def rmse(y, y_pred):\n",
        "  se = (y - y_pred) ** 2\n",
        "  mse = se.mean()\n",
        "  return np.sqrt(mse)"
      ]
    },
    {
      "cell_type": "code",
      "execution_count": 83,
      "metadata": {
        "colab": {
          "base_uri": "https://localhost:8080/"
        },
        "id": "LPKWcqnne9xy",
        "outputId": "85de685b-cf6b-4c17-f243-6667d3d4437d"
      },
      "outputs": [
        {
          "data": {
            "text/plain": [
              "0.33"
            ]
          },
          "execution_count": 83,
          "metadata": {},
          "output_type": "execute_result"
        }
      ],
      "source": [
        "round(rmse(y_val, y_pred),2)"
      ]
    },
    {
      "cell_type": "code",
      "execution_count": 85,
      "metadata": {
        "colab": {
          "base_uri": "https://localhost:8080/"
        },
        "id": "Rqhk3nwYfFnz",
        "outputId": "2385bb73-88a4-433e-e19b-16fe191668a7"
      },
      "outputs": [],
      "source": [
        "X_train_mean = X_train.fillna(value=X_train['total_bedrooms'].mean())\n",
        "X_val_mean = X_val.fillna(value=X_val['total_bedrooms'].mean())\n",
        "X_test_mean = X_test.fillna(value=X_test['total_bedrooms'].mean())"
      ]
    },
    {
      "cell_type": "code",
      "execution_count": 86,
      "metadata": {
        "id": "iVe_lS35ffTn"
      },
      "outputs": [],
      "source": [
        "w0, w = train_linear_regression(X_train_mean, y_train)\n",
        "y_pred = w0 + X_val_mean.dot(w)"
      ]
    },
    {
      "cell_type": "code",
      "execution_count": 88,
      "metadata": {
        "colab": {
          "base_uri": "https://localhost:8080/"
        },
        "id": "kgEOaRXdfzmJ",
        "outputId": "06e12bc6-dec4-42e0-c59b-4ae889780edc"
      },
      "outputs": [
        {
          "data": {
            "text/plain": [
              "0.33"
            ]
          },
          "execution_count": 88,
          "metadata": {},
          "output_type": "execute_result"
        }
      ],
      "source": [
        "round(rmse(y_val, y_pred),2)"
      ]
    },
    {
      "cell_type": "markdown",
      "metadata": {
        "id": "bx2WV7cEgZCe"
      },
      "source": [
        "- Both era equally good! 0.33 vs 033\n",
        "- Como pode-se observar, substituindo os valores que estão faltando por 0 ou pela média, resultaram no mesmo erro ao final da modelagem."
      ]
    },
    {
      "cell_type": "markdown",
      "metadata": {
        "id": "1x3Qn2f7girO"
      },
      "source": [
        "### Questão 4"
      ]
    },
    {
      "cell_type": "markdown",
      "metadata": {},
      "source": [
        "- Agora iremos treinar um modelo de regressão linear com regularização.\n",
        "- Para essa questão, substitua os valores faltantes por 0.\n",
        "- Tente diferentes valores de r de acordo com a lista: [0, 0.000001, 0.0001, 0.001, 0.01, 0.1, 1, 5, 10].\n",
        "- Use RMSE para avaliar o modelo com o conjunto de validação.\n",
        "- Arredonde os valores de RMSE para duas casas decimais.\n",
        "- Qual valor de r nos dá o melhor RMSE?"
      ]
    },
    {
      "cell_type": "code",
      "execution_count": 27,
      "metadata": {
        "id": "4imi7JfogYWH"
      },
      "outputs": [],
      "source": [
        "def train_linear_regression_reg(X, y, r=0.001):\n",
        "  ones = np.ones(X.shape[0])\n",
        "  X = np.column_stack([ones, X])\n",
        "\n",
        "  XTX = X.T.dot(X)\n",
        "  XTX = XTX + r * np.eye(XTX.shape[0])\n",
        "\n",
        "\n",
        "  XTX_inv = np.linalg.inv(XTX)\n",
        "  w_full = XTX_inv.dot(X.T).dot(y)\n",
        "\n",
        "  return w_full[0], w_full[1:]"
      ]
    },
    {
      "cell_type": "code",
      "execution_count": 35,
      "metadata": {},
      "outputs": [],
      "source": [
        "def prepare_X(df):\n",
        "    df_num = df.copy()\n",
        "    df_num = df_num.fillna(0)\n",
        "    X = df_num.values\n",
        "    return X\n",
        "\n",
        "X_train_reg = prepare_X(X_train)\n",
        "X_val_reg = prepare_X(X_val)"
      ]
    },
    {
      "cell_type": "code",
      "execution_count": 43,
      "metadata": {},
      "outputs": [
        {
          "name": "stdout",
          "output_type": "stream",
          "text": [
            "r=0: RMSE=0.34\n",
            "r=1e-06: RMSE=0.34\n",
            "r=0.0001: RMSE=0.34\n",
            "r=0.001: RMSE=0.34\n",
            "r=0.01: RMSE=0.34\n",
            "r=0.1: RMSE=0.34\n",
            "r=1: RMSE=0.34\n",
            "r=5: RMSE=0.35\n",
            "r=10: RMSE=0.35\n"
          ]
        }
      ],
      "source": [
        "# Lista de valores de r\n",
        "r_values = [0, 0.000001, 0.0001, 0.001, 0.01, 0.1, 1, 5, 10]\n",
        "\n",
        "for r in r_values:\n",
        "    w0, w = train_linear_regression_reg(X_train_reg, y_train, r)\n",
        "    y_pred = w0 + X_val_reg.dot(w)\n",
        "    rmse_value = rmse(y_val, y_pred)\n",
        "    print(f'r={r}: RMSE={round(rmse_value,2)}')"
      ]
    },
    {
      "cell_type": "markdown",
      "metadata": {},
      "source": [
        "- O melhor RMSE foi para r=0, já que é preferível usar valores menores de r para quando tivermos valores iguais de RMSE.\n",
        "- The best \"r\" is r = 0."
      ]
    },
    {
      "cell_type": "markdown",
      "metadata": {},
      "source": [
        "# Questão 5\n",
        "\n",
        "- Usamos a semente (seed) 42 para dividir os dados. Vamos descobrir como a seleção da semente (seed) influencia a nossa pontuação.\n",
        "- Teste diferentes valores de semente (seed): [0, 1, 2, 3, 4, 5, 6, 7, 8, 9].\n",
        "- Para cada valor, faça a separação dos conjuntos em train/validation/test com proporções de 60%/20%/20%.\n",
        "- Preencha os valores faltantes com 0 e treine um modelo sem regularização.\n",
        "- Para cada semente, avalie o modelo no conjunto de dados de validação e colete os valores de RMSE.\n",
        "- **Qual é o desvio padrão de todas as pontuações?** Para calcular o desvio padrão, use np.std.\n",
        "- Arredonde o resultado para 3 dígitos decimais (round(std, 3))"
      ]
    },
    {
      "cell_type": "code",
      "execution_count": 50,
      "metadata": {},
      "outputs": [
        {
          "name": "stdout",
          "output_type": "stream",
          "text": [
            "Seed 0: RMSE = 0.338\n",
            "Seed 1: RMSE = 0.338\n",
            "Seed 2: RMSE = 0.338\n",
            "Seed 3: RMSE = 0.332\n",
            "Seed 4: RMSE = 0.339\n",
            "Seed 5: RMSE = 0.343\n",
            "Seed 6: RMSE = 0.339\n",
            "Seed 7: RMSE = 0.347\n",
            "Seed 8: RMSE = 0.351\n",
            "Seed 9: RMSE = 0.334\n",
            "Desvio Padrão dos Valores de RMSE: 0.005\n"
          ]
        }
      ],
      "source": [
        "import numpy as np\n",
        "import pandas as pd\n",
        "from sklearn.metrics import mean_squared_error\n",
        "\n",
        "# Função para preparar os dados\n",
        "def prepare_data(df_work, seed_value):\n",
        "    n = len(df_work)\n",
        "    n_val = int(n * 0.2)\n",
        "    n_test = int(n * 0.2)\n",
        "    n_train = n - n_val - n_test\n",
        "    \n",
        "    idx = np.arange(n)\n",
        "    np.random.seed(seed_value)\n",
        "    np.random.shuffle(idx)\n",
        "\n",
        "    df_train = df_work.iloc[idx[:n_train]].reset_index(drop=True)\n",
        "    df_val = df_work.iloc[idx[n_train:n_train+n_val]].reset_index(drop=True)\n",
        "    df_test = df_work.iloc[idx[n_train+n_val:]].reset_index(drop=True)\n",
        "\n",
        "    X_train = df_train.iloc[:, :8]\n",
        "    X_val = df_val.iloc[:, :8]\n",
        "    X_test = df_test.iloc[:, :8]\n",
        "\n",
        "    y_train = np.log1p(df_train['median_house_value'].values)\n",
        "    y_val = np.log1p(df_val['median_house_value'].values)\n",
        "    y_test = np.log1p(df_test['median_house_value'].values)\n",
        "\n",
        "    return X_train, y_train, X_val, y_val, X_test, y_test\n",
        "\n",
        "# Valores de seed a serem testados\n",
        "seed_values = [0, 1, 2, 3, 4, 5, 6, 7, 8, 9]\n",
        "\n",
        "rmse_values = []  # Lista para armazenar os valores de RMSE\n",
        "\n",
        "for seed_value in seed_values:\n",
        "    X_train, y_train, X_val, y_val, X_test, y_test = prepare_data(df_work, seed_value)\n",
        "    \n",
        "    X_train = prepare_X(X_train)\n",
        "    X_val = prepare_X(X_val)\n",
        "\n",
        "    w0, w = train_linear_regression(X_train, y_train)\n",
        "    y_pred = w0 + X_val.dot(w)\n",
        "    \n",
        "    rmse_value = round(rmse(y_val, y_pred), 3)\n",
        "    rmse_values.append(rmse_value)\n",
        "\n",
        "    print(f'Seed {seed_value}: RMSE = {rmse_value}')    \n",
        "\n",
        "std_rmse = np.std(rmse_values)    \n",
        "print(f\"Desvio Padrão dos Valores de RMSE: {std_rmse:.3f}\")\n"
      ]
    },
    {
      "cell_type": "markdown",
      "metadata": {},
      "source": [
        "# Questão 6\n",
        "\n",
        "- Divida o conjunto de dados como anteriormente, use a semente 9.\n",
        "- Combine conjuntos de dados de treinamento e validação.\n",
        "- Preencha os valores ausentes com 0 e treine um modelo com r=0,001.\n",
        "- **Qual é o RMSE no conjunto de dados de teste?**"
      ]
    },
    {
      "cell_type": "code",
      "execution_count": 56,
      "metadata": {},
      "outputs": [
        {
          "name": "stdout",
          "output_type": "stream",
          "text": [
            "RMSE=0.33\n"
          ]
        }
      ],
      "source": [
        "X_train, y_train, X_val, y_val, X_test, y_test = prepare_data(df_work, 9) # separando o conjunto de dados usando seed 9\n",
        "\n",
        "X_combined = pd.concat([X_train, X_val], axis=0) # combinando o conjunto de treino com o de validação\n",
        "y_combined = np.concatenate([y_train, y_val], axis=0) # combinando os valores de y \n",
        "\n",
        "# substituindo valores nulos por zeros nos conjuntos de dados:\n",
        "\n",
        "X_combined_0 = prepare_X(X_combined)\n",
        "X_test_0 = prepare_X(X_test)\n",
        "\n",
        "train_linear_regression_reg(X_combined_0, y_combined) # treinando o modelo\n",
        "\n",
        "y_pred = w0 + X_test_0.dot(w)\n",
        "rmse_value = rmse(y_test, y_pred)\n",
        "print(f'RMSE={round(rmse_value,2)}')"
      ]
    },
    {
      "cell_type": "markdown",
      "metadata": {},
      "source": [
        "- RMSE calculado foi de 0.33."
      ]
    },
    {
      "cell_type": "markdown",
      "metadata": {},
      "source": [
        "# Conclusões / Conclusions\n",
        "\n",
        "- Foi possível obter um modelo simples por regressão linear que prevê os valores das casas na california a partir de 8 variáveis. Esse modelo possui um erro médio nas previões de 0.33 dólares o que pode ser considerado excelente.\n",
        "\n",
        "- It was possible to obtain a simple linear regression model that predicts house values ​​in California based on 8 variables. This model has an average prediction error of 0.33 dollars, which can be considered excellent."
      ]
    },
    {
      "cell_type": "markdown",
      "metadata": {},
      "source": []
    }
  ],
  "metadata": {
    "colab": {
      "collapsed_sections": [],
      "provenance": []
    },
    "kernelspec": {
      "display_name": "Python 3",
      "name": "python3"
    },
    "language_info": {
      "codemirror_mode": {
        "name": "ipython",
        "version": 3
      },
      "file_extension": ".py",
      "mimetype": "text/x-python",
      "name": "python",
      "nbconvert_exporter": "python",
      "pygments_lexer": "ipython3",
      "version": "3.8.10"
    }
  },
  "nbformat": 4,
  "nbformat_minor": 0
}
