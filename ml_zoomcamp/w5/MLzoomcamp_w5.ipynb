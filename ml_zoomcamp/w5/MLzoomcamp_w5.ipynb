{
  "cells": [
    {
      "cell_type": "markdown",
      "metadata": {
        "id": "vhaMeI3-lcEh"
      },
      "source": [
        "# ML Zoomcamp - Homework #5\n",
        "http://mlzoomcamp.com/"
      ]
    },
    {
      "cell_type": "code",
      "execution_count": 1,
      "metadata": {
        "id": "f8yNhSgZa9vn"
      },
      "outputs": [],
      "source": [
        "# importando bibliotecas \n",
        "import numpy as np # matrizes\n",
        "import pandas as pd # tratamento do conjunto de dados\n",
        "\n",
        "from sklearn.model_selection import train_test_split\n",
        "from sklearn.feature_extraction import DictVectorizer\n",
        "from sklearn.model_selection import KFold\n",
        "\n",
        "from sklearn.linear_model import LogisticRegression\n",
        "\n",
        "from sklearn.metrics import roc_auc_score"
      ]
    },
    {
      "cell_type": "code",
      "execution_count": 5,
      "metadata": {},
      "outputs": [],
      "source": [
        "# caminho e carregamento do conjunto de dados que será utilizado no trabalho\n",
        "path = 'https://raw.githubusercontent.com/alexeygrigorev/mlbookcamp-code/master/chapter-02-car-price/data.csv' \n",
        "df = pd.read_csv(path)\n",
        "\n",
        "# uniformizando o estilo das strings\n",
        "df.columns = df.columns.str.replace(' ', '_').str.lower()\n",
        "categorical_columns = list(df.dtypes[df.dtypes == 'object'].index)\n",
        "\n",
        "for col in categorical_columns:\n",
        "    df[col] = df[col].str.lower().str.replace(' ', '_')\n",
        "\n",
        "df.fillna(0, inplace=True)\n",
        "df.rename(columns={'msrp': 'price'}, inplace=True)\n",
        "\n",
        "price_average = df.price.mean()\n",
        "df['above_average'] = df['price'].map(lambda x: 1 if x > price_average else 0)"
      ]
    },
    {
      "cell_type": "code",
      "execution_count": 7,
      "metadata": {},
      "outputs": [],
      "source": [
        "df_full_train, df_test = train_test_split(df, test_size=0.2, random_state=1)"
      ]
    },
    {
      "cell_type": "code",
      "execution_count": 8,
      "metadata": {},
      "outputs": [],
      "source": [
        "numerical = ['year', 'engine_hp', 'engine_cylinders', 'highway_mpg', 'city_mpg']\n",
        "categorical = ['make', 'model', 'transmission_type', 'vehicle_style']"
      ]
    },
    {
      "cell_type": "code",
      "execution_count": 9,
      "metadata": {},
      "outputs": [],
      "source": [
        "def train(df_train, y_train, C=1.0):\n",
        "    dicts = df_train[categorical + numerical].to_dict(orient='records')\n",
        "\n",
        "    dv = DictVectorizer(sparse=False)\n",
        "    X_train = dv.fit_transform(dicts)\n",
        "\n",
        "    model = LogisticRegression(solver='liblinear', C=C, max_iter=1000)\n",
        "    model.fit(X_train, y_train)\n",
        "\n",
        "    return dv, model\n",
        "\n",
        "def predict(df, dv, model):\n",
        "    dicts = df[categorical + numerical].to_dict(orient='records') \n",
        "    X = dv.transform(dicts)\n",
        "    y_pred = model.predict_proba(X)[:, 1]\n",
        "\n",
        "    return y_pred"
      ]
    },
    {
      "cell_type": "code",
      "execution_count": 10,
      "metadata": {},
      "outputs": [],
      "source": [
        "C = 1.0\n",
        "n_splits = 5"
      ]
    },
    {
      "cell_type": "code",
      "execution_count": 11,
      "metadata": {},
      "outputs": [
        {
          "name": "stdout",
          "output_type": "stream",
          "text": [
            "Mean AUC across 5 folds: 0.9797\n",
            "Standard Deviation of AUC across 5 folds: 0.003\n"
          ]
        }
      ],
      "source": [
        "kfold = KFold(n_splits=n_splits, shuffle=True, random_state=1)\n",
        "\n",
        "# Initialize a list to store AUC scores for each fold\n",
        "auc_scores = []\n",
        "\n",
        "# Iterate over different folds\n",
        "for train_index, val_index in kfold.split(df_full_train):\n",
        "    df_train = df_full_train.iloc[train_index]\n",
        "    df_val = df_full_train.iloc[val_index] \n",
        "\n",
        "    y_train = df_train.above_average.values\n",
        "    y_val = df_val.above_average.values\n",
        "\n",
        "    dv, model = train(df_train, y_train)\n",
        "    y_pred = predict(df_val, dv, model)\n",
        "\n",
        "    auc = roc_auc_score(y_val, y_pred)\n",
        "    auc_scores.append(auc)\n",
        "\n",
        "# Calculate the mean and standard deviation of the AUC scores across folds\n",
        "mean_auc = np.mean(auc_scores)\n",
        "std_auc = np.std(auc_scores)\n",
        "\n",
        "print(f\"Mean AUC across {n_splits} folds: {mean_auc:.4f}\")\n",
        "print(f\"Standard Deviation of AUC across {n_splits} folds: {round(std_auc, 3)}\")"
      ]
    },
    {
      "cell_type": "code",
      "execution_count": 13,
      "metadata": {},
      "outputs": [
        {
          "data": {
            "text/plain": [
              "0.9809813376962386"
            ]
          },
          "execution_count": 13,
          "metadata": {},
          "output_type": "execute_result"
        }
      ],
      "source": [
        "dv, model = train(df_full_train, df_full_train.above_average.values, C=1.0)\n",
        "y_pred = predict(df_test, dv, model)\n",
        "\n",
        "y_test = df_test.above_average.values\n",
        "\n",
        "auc = roc_auc_score(y_test, y_pred)\n",
        "auc"
      ]
    },
    {
      "cell_type": "markdown",
      "metadata": {},
      "source": [
        "#### Save the Model"
      ]
    },
    {
      "cell_type": "code",
      "execution_count": 14,
      "metadata": {},
      "outputs": [],
      "source": [
        "import pickle"
      ]
    },
    {
      "cell_type": "code",
      "execution_count": 16,
      "metadata": {},
      "outputs": [
        {
          "data": {
            "text/plain": [
              "'model_C=1.0.bin'"
            ]
          },
          "execution_count": 16,
          "metadata": {},
          "output_type": "execute_result"
        }
      ],
      "source": [
        "output_file = f'model_C={C}.bin' \n",
        "output_file"
      ]
    },
    {
      "cell_type": "code",
      "execution_count": 17,
      "metadata": {},
      "outputs": [],
      "source": [
        "f_out = open(output_file, 'wb')\n",
        "pickle.dump((dv, model), f_out)\n",
        "f_out.close()"
      ]
    },
    {
      "cell_type": "code",
      "execution_count": 18,
      "metadata": {},
      "outputs": [],
      "source": [
        "with open(output_file, 'wb') as f_out:\n",
        "    pickle.dump((dv, model), f_out)"
      ]
    },
    {
      "cell_type": "markdown",
      "metadata": {},
      "source": [
        "#### Load the model"
      ]
    },
    {
      "cell_type": "code",
      "execution_count": 20,
      "metadata": {},
      "outputs": [],
      "source": [
        "with open(output_file, 'rb') as f_in:\n",
        "    pickle.load(f_in)"
      ]
    },
    {
      "cell_type": "code",
      "execution_count": null,
      "metadata": {},
      "outputs": [],
      "source": []
    }
  ],
  "metadata": {
    "colab": {
      "collapsed_sections": [],
      "provenance": []
    },
    "kernelspec": {
      "display_name": "Python 3",
      "name": "python3"
    },
    "language_info": {
      "codemirror_mode": {
        "name": "ipython",
        "version": 3
      },
      "file_extension": ".py",
      "mimetype": "text/x-python",
      "name": "python",
      "nbconvert_exporter": "python",
      "pygments_lexer": "ipython3",
      "version": "3.8.10"
    }
  },
  "nbformat": 4,
  "nbformat_minor": 0
}
