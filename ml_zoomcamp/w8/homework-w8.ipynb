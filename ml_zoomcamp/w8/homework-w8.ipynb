{
 "cells": [
  {
   "cell_type": "markdown",
   "metadata": {},
   "source": [
    "# Machine Learning Zoomcamp - Homework #8\n",
    "\n",
    "## Deep Learning \n",
    "#### Introduction to Neural Networks, Tensorflow and Keras\n",
    "\n",
    "- In this homework I used a modified dataset containng images of bees and wasps. So, the main objective was to predict if a image contain a bee or a wasp using convolutional neural networks (CNN).\n",
    "\n",
    "\n",
    "You can download the dataset for this homework from [here](https://github.com/SVizor42/ML_Zoomcamp/releases/download/bee-wasp-data/data.zip):\n",
    "\n",
    "```bash\n",
    "wget https://github.com/SVizor42/ML_Zoomcamp/releases/download/bee-wasp-data/data.zip\n",
    "unzip data.zip\n",
    "```"
   ]
  },
  {
   "cell_type": "code",
   "execution_count": 2,
   "id": "92db181b-4aca-4853-88fe-ba3b1ee51fd5",
   "metadata": {
    "execution": {
     "iopub.execute_input": "2023-11-16T19:49:38.742501Z",
     "iopub.status.busy": "2023-11-16T19:49:38.742257Z",
     "iopub.status.idle": "2023-11-16T19:49:40.482526Z",
     "shell.execute_reply": "2023-11-16T19:49:40.481932Z",
     "shell.execute_reply.started": "2023-11-16T19:49:38.742478Z"
    },
    "tags": []
   },
   "outputs": [
    {
     "name": "stderr",
     "output_type": "stream",
     "text": [
      "2023-11-16 19:49:38.862599: I tensorflow/core/util/util.cc:169] oneDNN custom operations are on. You may see slightly different numerical results due to floating-point round-off errors from different computation orders. To turn them off, set the environment variable `TF_ENABLE_ONEDNN_OPTS=0`.\n"
     ]
    }
   ],
   "source": [
    "import tensorflow as tf\n",
    "from tensorflow import keras\n",
    "import scipy "
   ]
  },
  {
   "cell_type": "markdown",
   "id": "ecf98d29-1f15-4411-adad-9a00a54f3f8e",
   "metadata": {},
   "source": [
    "## Question 1\n",
    "- Since we have a binary classification problem, what is the best loss function for us?\n",
    "\n",
    "A: Binary Crossentropy"
   ]
  },
  {
   "cell_type": "code",
   "execution_count": 3,
   "id": "d76d950d-4dde-4712-bd4f-23dddcfec05f",
   "metadata": {
    "execution": {
     "iopub.execute_input": "2023-11-16T19:49:40.483895Z",
     "iopub.status.busy": "2023-11-16T19:49:40.483464Z",
     "iopub.status.idle": "2023-11-16T19:49:41.421994Z",
     "shell.execute_reply": "2023-11-16T19:49:41.421232Z",
     "shell.execute_reply.started": "2023-11-16T19:49:40.483866Z"
    },
    "tags": []
   },
   "outputs": [
    {
     "name": "stderr",
     "output_type": "stream",
     "text": [
      "2023-11-16 19:49:40.525499: I tensorflow/stream_executor/cuda/cuda_gpu_executor.cc:975] successful NUMA node read from SysFS had negative value (-1), but there must be at least one NUMA node, so returning NUMA node zero\n",
      "2023-11-16 19:49:40.532097: I tensorflow/stream_executor/cuda/cuda_gpu_executor.cc:975] successful NUMA node read from SysFS had negative value (-1), but there must be at least one NUMA node, so returning NUMA node zero\n",
      "2023-11-16 19:49:40.532320: I tensorflow/stream_executor/cuda/cuda_gpu_executor.cc:975] successful NUMA node read from SysFS had negative value (-1), but there must be at least one NUMA node, so returning NUMA node zero\n",
      "2023-11-16 19:49:40.532778: I tensorflow/core/platform/cpu_feature_guard.cc:193] This TensorFlow binary is optimized with oneAPI Deep Neural Network Library (oneDNN) to use the following CPU instructions in performance-critical operations:  AVX2 AVX512F AVX512_VNNI FMA\n",
      "To enable them in other operations, rebuild TensorFlow with the appropriate compiler flags.\n",
      "2023-11-16 19:49:40.533109: I tensorflow/stream_executor/cuda/cuda_gpu_executor.cc:975] successful NUMA node read from SysFS had negative value (-1), but there must be at least one NUMA node, so returning NUMA node zero\n",
      "2023-11-16 19:49:40.533327: I tensorflow/stream_executor/cuda/cuda_gpu_executor.cc:975] successful NUMA node read from SysFS had negative value (-1), but there must be at least one NUMA node, so returning NUMA node zero\n",
      "2023-11-16 19:49:40.533506: I tensorflow/stream_executor/cuda/cuda_gpu_executor.cc:975] successful NUMA node read from SysFS had negative value (-1), but there must be at least one NUMA node, so returning NUMA node zero\n",
      "2023-11-16 19:49:41.130100: I tensorflow/stream_executor/cuda/cuda_gpu_executor.cc:975] successful NUMA node read from SysFS had negative value (-1), but there must be at least one NUMA node, so returning NUMA node zero\n",
      "2023-11-16 19:49:41.130373: I tensorflow/stream_executor/cuda/cuda_gpu_executor.cc:975] successful NUMA node read from SysFS had negative value (-1), but there must be at least one NUMA node, so returning NUMA node zero\n",
      "2023-11-16 19:49:41.130553: I tensorflow/stream_executor/cuda/cuda_gpu_executor.cc:975] successful NUMA node read from SysFS had negative value (-1), but there must be at least one NUMA node, so returning NUMA node zero\n",
      "2023-11-16 19:49:41.130706: I tensorflow/core/common_runtime/gpu/gpu_device.cc:1532] Created device /job:localhost/replica:0/task:0/device:GPU:0 with 13794 MB memory:  -> device: 0, name: Tesla T4, pci bus id: 0000:00:1e.0, compute capability: 7.5\n"
     ]
    }
   ],
   "source": [
    "from tensorflow.keras.models import Sequential\n",
    "from tensorflow.keras.layers import Conv2D, MaxPooling2D, Flatten, Dense, InputLayer\n",
    "from tensorflow.keras.optimizers import SGD\n",
    "\n",
    "# creating a Sequential Model\n",
    "model = Sequential()\n",
    "\n",
    "# adding the input layer to the model\n",
    "model.add(InputLayer(input_shape=(150, 150, 3)))\n",
    "\n",
    "# Adding a convolutional layer with 32 filters, kernel size (3, 3) and activation 'relu'\n",
    "model.add(Conv2D(32, (3, 3), activation='relu'))\n",
    "\n",
    "# adding a max pooling layer with pooling size (2, 2)\n",
    "model.add(MaxPooling2D((2, 2)))\n",
    "\n",
    "# adding a flatten layer to convert the output to vectors\n",
    "model.add(Flatten())\n",
    "\n",
    "# adding a dense layer with 64 neurons and activation 'relu'\n",
    "model.add(Dense(64, activation='relu'))\n",
    "\n",
    "# adding a dense exit layer with 1 neuron and activation 'sigmoid'\n",
    "model.add(Dense(1, activation='sigmoid'))\n",
    "\n",
    "# Optimzer SGD with lr=0.002 and momentum=0.8\n",
    "optimizer = SGD(learning_rate=0.002, momentum=0.8)\n",
    "\n",
    "# compiling the model with binary crossentropy loss and accuracy metric\n",
    "model.compile(optimizer=optimizer, loss='binary_crossentropy', metrics=['accuracy'])\n"
   ]
  },
  {
   "cell_type": "code",
   "execution_count": 4,
   "id": "132bd309-02c7-47ed-a2a4-b8fabd949ab9",
   "metadata": {
    "execution": {
     "iopub.execute_input": "2023-11-16T19:49:41.423761Z",
     "iopub.status.busy": "2023-11-16T19:49:41.423136Z",
     "iopub.status.idle": "2023-11-16T19:49:41.438809Z",
     "shell.execute_reply": "2023-11-16T19:49:41.438129Z",
     "shell.execute_reply.started": "2023-11-16T19:49:41.423727Z"
    },
    "tags": []
   },
   "outputs": [
    {
     "name": "stdout",
     "output_type": "stream",
     "text": [
      "Model: \"sequential\"\n",
      "_________________________________________________________________\n",
      " Layer (type)                Output Shape              Param #   \n",
      "=================================================================\n",
      " conv2d (Conv2D)             (None, 148, 148, 32)      896       \n",
      "                                                                 \n",
      " max_pooling2d (MaxPooling2D  (None, 74, 74, 32)       0         \n",
      " )                                                               \n",
      "                                                                 \n",
      " flatten (Flatten)           (None, 175232)            0         \n",
      "                                                                 \n",
      " dense (Dense)               (None, 64)                11214912  \n",
      "                                                                 \n",
      " dense_1 (Dense)             (None, 1)                 65        \n",
      "                                                                 \n",
      "=================================================================\n",
      "Total params: 11,215,873\n",
      "Trainable params: 11,215,873\n",
      "Non-trainable params: 0\n",
      "_________________________________________________________________\n"
     ]
    }
   ],
   "source": [
    "# printing the model summary\n",
    "model.summary()"
   ]
  },
  {
   "cell_type": "markdown",
   "id": "e91860ea-9b39-4599-9dc9-528d000054bf",
   "metadata": {},
   "source": [
    "## Question 2\n",
    "- What's the number of parameters in the convolutional layer of our model?\n",
    "\n",
    "A: 11214912 "
   ]
  },
  {
   "cell_type": "code",
   "execution_count": 5,
   "id": "345e6135-b18f-444f-8c30-9f7ab6f3ee10",
   "metadata": {
    "execution": {
     "iopub.execute_input": "2023-11-16T19:49:41.441922Z",
     "iopub.status.busy": "2023-11-16T19:49:41.441300Z",
     "iopub.status.idle": "2023-11-16T19:50:51.442899Z",
     "shell.execute_reply": "2023-11-16T19:50:51.442235Z",
     "shell.execute_reply.started": "2023-11-16T19:49:41.441891Z"
    },
    "tags": []
   },
   "outputs": [
    {
     "name": "stdout",
     "output_type": "stream",
     "text": [
      "Found 2827 images belonging to 2 classes.\n",
      "Found 918 images belonging to 2 classes.\n",
      "Epoch 1/10\n"
     ]
    },
    {
     "name": "stderr",
     "output_type": "stream",
     "text": [
      "2023-11-16 19:49:42.627785: I tensorflow/stream_executor/cuda/cuda_dnn.cc:384] Loaded cuDNN version 8100\n",
      "2023-11-16 19:49:43.235519: I tensorflow/core/platform/default/subprocess.cc:304] Start cannot spawn child process: No such file or directory\n",
      "2023-11-16 19:49:43.236010: I tensorflow/core/platform/default/subprocess.cc:304] Start cannot spawn child process: No such file or directory\n",
      "2023-11-16 19:49:43.236053: W tensorflow/stream_executor/gpu/asm_compiler.cc:80] Couldn't get ptxas version string: INTERNAL: Couldn't invoke ptxas --version\n",
      "2023-11-16 19:49:43.236562: I tensorflow/core/platform/default/subprocess.cc:304] Start cannot spawn child process: No such file or directory\n",
      "2023-11-16 19:49:43.236635: W tensorflow/stream_executor/gpu/redzone_allocator.cc:314] INTERNAL: Failed to launch ptxas\n",
      "Relying on driver to perform ptx compilation. \n",
      "Modify $PATH to customize ptxas location.\n",
      "This message will be only logged once.\n"
     ]
    },
    {
     "name": "stdout",
     "output_type": "stream",
     "text": [
      "142/142 [==============================] - 9s 48ms/step - loss: 0.6783 - accuracy: 0.5738 - val_loss: 0.6492 - val_accuracy: 0.6024\n",
      "Epoch 2/10\n",
      "142/142 [==============================] - 7s 47ms/step - loss: 0.6305 - accuracy: 0.6505 - val_loss: 0.6124 - val_accuracy: 0.6383\n",
      "Epoch 3/10\n",
      "142/142 [==============================] - 7s 47ms/step - loss: 0.5941 - accuracy: 0.6887 - val_loss: 0.5750 - val_accuracy: 0.6950\n",
      "Epoch 4/10\n",
      "142/142 [==============================] - 7s 47ms/step - loss: 0.5716 - accuracy: 0.7043 - val_loss: 0.5638 - val_accuracy: 0.7048\n",
      "Epoch 5/10\n",
      "142/142 [==============================] - 7s 48ms/step - loss: 0.5238 - accuracy: 0.7496 - val_loss: 0.5416 - val_accuracy: 0.7004\n",
      "Epoch 6/10\n",
      "142/142 [==============================] - 7s 47ms/step - loss: 0.4957 - accuracy: 0.7729 - val_loss: 0.5237 - val_accuracy: 0.7505\n",
      "Epoch 7/10\n",
      "142/142 [==============================] - 7s 47ms/step - loss: 0.4690 - accuracy: 0.7863 - val_loss: 0.5312 - val_accuracy: 0.7375\n",
      "Epoch 8/10\n",
      "142/142 [==============================] - 7s 47ms/step - loss: 0.4388 - accuracy: 0.8125 - val_loss: 0.5007 - val_accuracy: 0.7593\n",
      "Epoch 9/10\n",
      "142/142 [==============================] - 7s 48ms/step - loss: 0.4139 - accuracy: 0.8245 - val_loss: 0.4962 - val_accuracy: 0.7571\n",
      "Epoch 10/10\n",
      "142/142 [==============================] - 7s 47ms/step - loss: 0.3822 - accuracy: 0.8401 - val_loss: 0.5650 - val_accuracy: 0.7233\n"
     ]
    }
   ],
   "source": [
    "from tensorflow.keras.preprocessing.image import ImageDataGenerator\n",
    "import scipy \n",
    "import numpy as np\n",
    "# Create ImageDataGenerator for data augmentation and rescaling\n",
    "datagen = ImageDataGenerator(rescale=1./255)\n",
    "\n",
    "# Specify the paths to your training and test datasets\n",
    "train_data_dir = 'train/'\n",
    "test_data_dir = 'test/'\n",
    "\n",
    "# specify the classes\n",
    "desired_classes = ['bee', 'wasp']\n",
    "\n",
    "# Set batch size\n",
    "batch_size = 20\n",
    "\n",
    "# Create generators for training and test data\n",
    "train_generator = datagen.flow_from_directory(\n",
    "    train_data_dir,\n",
    "    target_size=(150, 150),\n",
    "    batch_size=batch_size,\n",
    "    class_mode='binary',  # for binary classification\n",
    "    classes=desired_classes,\n",
    "    shuffle=True\n",
    ")\n",
    "\n",
    "test_generator = datagen.flow_from_directory(\n",
    "    test_data_dir,\n",
    "    target_size=(150, 150),\n",
    "    batch_size=batch_size,\n",
    "    class_mode='binary',  # for binary classification\n",
    "    classes=desired_classes,\n",
    "    shuffle=True\n",
    ")\n",
    "\n",
    "# Train the model for 10 epochs\n",
    "history = model.fit(\n",
    "    train_generator,\n",
    "    epochs=10,\n",
    "    validation_data=test_generator\n",
    ")"
   ]
  },
  {
   "cell_type": "code",
   "execution_count": 6,
   "id": "433cd376-b3c7-403a-bd3e-6541ac307b24",
   "metadata": {
    "execution": {
     "iopub.execute_input": "2023-11-16T19:50:51.444574Z",
     "iopub.status.busy": "2023-11-16T19:50:51.444183Z",
     "iopub.status.idle": "2023-11-16T19:50:51.451944Z",
     "shell.execute_reply": "2023-11-16T19:50:51.451225Z",
     "shell.execute_reply.started": "2023-11-16T19:50:51.444539Z"
    },
    "tags": []
   },
   "outputs": [
    {
     "data": {
      "text/plain": [
       "{'bee': 0, 'wasp': 1}"
      ]
     },
     "execution_count": 6,
     "metadata": {},
     "output_type": "execute_result"
    }
   ],
   "source": [
    "# confirm the class indices\n",
    "train_generator.class_indices"
   ]
  },
  {
   "cell_type": "markdown",
   "id": "120b2d83-ecad-4c92-b872-bd9cf0995a76",
   "metadata": {},
   "source": [
    "## Questions 3 and 4\n",
    "- What is the median of training accuracy for all the epochs for this model?\n",
    "- What is the standard deviation of training loss for all the epochs for this model?"
   ]
  },
  {
   "cell_type": "code",
   "execution_count": 7,
   "id": "deb94c31-0386-4db1-883c-7d8482d8a88d",
   "metadata": {
    "execution": {
     "iopub.execute_input": "2023-11-16T19:50:51.453437Z",
     "iopub.status.busy": "2023-11-16T19:50:51.452913Z",
     "iopub.status.idle": "2023-11-16T19:50:51.457446Z",
     "shell.execute_reply": "2023-11-16T19:50:51.456825Z",
     "shell.execute_reply.started": "2023-11-16T19:50:51.453415Z"
    },
    "tags": []
   },
   "outputs": [
    {
     "name": "stdout",
     "output_type": "stream",
     "text": [
      "The mean of accuracy was 0.74 and the standard deviation of loss was 0.092\n"
     ]
    }
   ],
   "source": [
    "# assign the train loss and accuracy to variables adn print them\n",
    "\n",
    "train_loss = history.history['loss']\n",
    "accuracy = history.history['accuracy']\n",
    "\n",
    "print(f'The mean of accuracy was {round(np.mean(accuracy),2)} and the standard deviation of loss was {round(np.std(train_loss),3)}')"
   ]
  },
  {
   "cell_type": "code",
   "execution_count": 8,
   "id": "b9b07f81-dad0-425f-b931-ad8037878be0",
   "metadata": {
    "execution": {
     "iopub.execute_input": "2023-11-16T19:50:51.458584Z",
     "iopub.status.busy": "2023-11-16T19:50:51.458336Z",
     "iopub.status.idle": "2023-11-16T19:50:51.526286Z",
     "shell.execute_reply": "2023-11-16T19:50:51.525537Z",
     "shell.execute_reply.started": "2023-11-16T19:50:51.458565Z"
    },
    "tags": []
   },
   "outputs": [
    {
     "name": "stdout",
     "output_type": "stream",
     "text": [
      "Found 2827 images belonging to 2 classes.\n"
     ]
    }
   ],
   "source": [
    "# data augmentation on training data\n",
    "\n",
    "# Augmentations\n",
    "train_datagen_aug = ImageDataGenerator(\n",
    "    rescale=1./255,\n",
    "    rotation_range=50,\n",
    "    width_shift_range=0.1,\n",
    "    height_shift_range=0.1,\n",
    "    zoom_range=0.1,\n",
    "    horizontal_flip=True,\n",
    "    fill_mode='nearest'\n",
    ")\n",
    "\n",
    "# Create ImageDataGenerator for training with augmentations\n",
    "train_aug_generator = train_datagen_aug.flow_from_directory(\n",
    "    train_data_dir,\n",
    "    target_size=(150, 150),\n",
    "    batch_size=20,\n",
    "    class_mode='binary',  \n",
    "    classes=desired_classes,\n",
    "    shuffle=True\n",
    ")"
   ]
  },
  {
   "cell_type": "code",
   "execution_count": 9,
   "id": "035672ae-c9c4-4240-9125-f4feab68795b",
   "metadata": {
    "execution": {
     "iopub.execute_input": "2023-11-16T19:50:51.527877Z",
     "iopub.status.busy": "2023-11-16T19:50:51.527250Z",
     "iopub.status.idle": "2023-11-16T19:53:51.918315Z",
     "shell.execute_reply": "2023-11-16T19:53:51.917549Z",
     "shell.execute_reply.started": "2023-11-16T19:50:51.527846Z"
    },
    "tags": []
   },
   "outputs": [
    {
     "name": "stdout",
     "output_type": "stream",
     "text": [
      "Epoch 1/10\n",
      "142/142 [==============================] - 18s 127ms/step - loss: 0.4967 - accuracy: 0.7634 - val_loss: 0.4756 - val_accuracy: 0.7756\n",
      "Epoch 2/10\n",
      "142/142 [==============================] - 18s 126ms/step - loss: 0.4886 - accuracy: 0.7768 - val_loss: 0.5854 - val_accuracy: 0.7113\n",
      "Epoch 3/10\n",
      "142/142 [==============================] - 18s 126ms/step - loss: 0.4801 - accuracy: 0.7754 - val_loss: 0.4712 - val_accuracy: 0.7810\n",
      "Epoch 4/10\n",
      "142/142 [==============================] - 18s 128ms/step - loss: 0.4751 - accuracy: 0.7825 - val_loss: 0.4980 - val_accuracy: 0.7691\n",
      "Epoch 5/10\n",
      "142/142 [==============================] - 18s 127ms/step - loss: 0.4642 - accuracy: 0.7913 - val_loss: 0.4741 - val_accuracy: 0.7865\n",
      "Epoch 6/10\n",
      "142/142 [==============================] - 18s 127ms/step - loss: 0.4582 - accuracy: 0.7927 - val_loss: 0.4855 - val_accuracy: 0.7647\n",
      "Epoch 7/10\n",
      "142/142 [==============================] - 18s 126ms/step - loss: 0.4539 - accuracy: 0.7885 - val_loss: 0.4796 - val_accuracy: 0.7745\n",
      "Epoch 8/10\n",
      "142/142 [==============================] - 18s 127ms/step - loss: 0.4503 - accuracy: 0.7902 - val_loss: 0.4520 - val_accuracy: 0.7854\n",
      "Epoch 9/10\n",
      "142/142 [==============================] - 18s 127ms/step - loss: 0.4474 - accuracy: 0.7895 - val_loss: 0.4608 - val_accuracy: 0.7843\n",
      "Epoch 10/10\n",
      "142/142 [==============================] - 18s 127ms/step - loss: 0.4411 - accuracy: 0.7998 - val_loss: 0.4526 - val_accuracy: 0.7908\n"
     ]
    }
   ],
   "source": [
    "# training the model with augmented data\n",
    "aug_model = model.fit(\n",
    "    train_aug_generator,\n",
    "    epochs=10,\n",
    "    validation_data=test_generator\n",
    ")"
   ]
  },
  {
   "cell_type": "markdown",
   "id": "0e5c3a3b-23e3-4222-b4f4-bd0eb2a1be42",
   "metadata": {},
   "source": [
    "## Question 5\n",
    "\n",
    "- What is the mean of test loss for all the epochs for the model trained with augmentations?"
   ]
  },
  {
   "cell_type": "code",
   "execution_count": 10,
   "id": "fc9d7f01-0969-4dc4-bbd3-062aa12538c0",
   "metadata": {
    "execution": {
     "iopub.execute_input": "2023-11-16T19:53:51.919634Z",
     "iopub.status.busy": "2023-11-16T19:53:51.919307Z",
     "iopub.status.idle": "2023-11-16T19:53:51.923340Z",
     "shell.execute_reply": "2023-11-16T19:53:51.922773Z",
     "shell.execute_reply.started": "2023-11-16T19:53:51.919614Z"
    }
   },
   "outputs": [
    {
     "name": "stdout",
     "output_type": "stream",
     "text": [
      "The mean of test set loss was 0.556\n"
     ]
    }
   ],
   "source": [
    "# assign the test loss to a variable and print it\n",
    "val_loss = history.history['val_loss']\n",
    "\n",
    "print(f'The mean of test set loss was {round(np.mean(val_loss),3)}')"
   ]
  },
  {
   "cell_type": "markdown",
   "id": "61778f01-a50c-4927-9a6e-1c17aa612f2e",
   "metadata": {},
   "source": [
    "## Question 6\n",
    "\n",
    "- What's the average of test accuracy for the last 5 epochs (from 6 to 10) for the model trained with augmentations?"
   ]
  },
  {
   "cell_type": "code",
   "execution_count": 11,
   "id": "dcc9d8be-623e-4c80-aa96-fbdc53e56278",
   "metadata": {
    "execution": {
     "iopub.execute_input": "2023-11-16T19:53:51.924396Z",
     "iopub.status.busy": "2023-11-16T19:53:51.924114Z",
     "iopub.status.idle": "2023-11-16T19:53:51.930825Z",
     "shell.execute_reply": "2023-11-16T19:53:51.930065Z",
     "shell.execute_reply.started": "2023-11-16T19:53:51.924377Z"
    },
    "tags": []
   },
   "outputs": [
    {
     "name": "stdout",
     "output_type": "stream",
     "text": [
      "Average Accuracy for last 5 epochs on test set: 0.746\n"
     ]
    }
   ],
   "source": [
    "# average accuracy for last 5 epochs on test set\n",
    "last_five_accuracy = history.history['val_accuracy'][-5:]\n",
    "\n",
    "print(\"Average Accuracy for last 5 epochs on test set:\", round(np.average(last_five_accuracy), 3))"
   ]
  }
 ],
 "metadata": {
  "kernelspec": {
   "display_name": "saturn (Python 3)",
   "language": "python",
   "name": "python3"
  },
  "language_info": {
   "codemirror_mode": {
    "name": "ipython",
    "version": 3
   },
   "file_extension": ".py",
   "mimetype": "text/x-python",
   "name": "python",
   "nbconvert_exporter": "python",
   "pygments_lexer": "ipython3",
   "version": "3.9.15"
  }
 },
 "nbformat": 4,
 "nbformat_minor": 5
}
