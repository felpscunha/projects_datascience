{
  "cells": [
    {
      "cell_type": "markdown",
      "metadata": {
        "id": "vhaMeI3-lcEh"
      },
      "source": [
        "# ML Zoomcamp - Homework #1\n",
        "\n",
        "http://mlzoomcamp.com/\n",
        "\n",
        "- All the comments were made in portuguese to contribute with people that do not have too much familiarity with english.\n",
        "- Todos os comentários foram feitos em português para contribuir com o aprendizado de pessoas que não tem tanta familiaridade com a língua inglesa.\n",
        "\n",
        "- I also want to produce some content in portuguese to learners in Brazil and help to divulge this course.\n",
        "- Também desejo produzir conteúdo em português para estudantes no Brasil e ajudar a divulgar esse curso!"
      ]
    },
    {
      "cell_type": "code",
      "execution_count": 2,
      "metadata": {
        "id": "f8yNhSgZa9vn"
      },
      "outputs": [],
      "source": [
        "# importando bibliotecas \n",
        "import numpy as np # matrizes\n",
        "import pandas as pd # tratamento do conjunto de dados"
      ]
    },
    {
      "cell_type": "markdown",
      "metadata": {
        "id": "OkLMmXwfy1IV"
      },
      "source": [
        "## Questão 1\n",
        "\n",
        "- Qual a versão do pandas instalada?"
      ]
    },
    {
      "cell_type": "code",
      "execution_count": 3,
      "metadata": {
        "colab": {
          "base_uri": "https://localhost:8080/",
          "height": 35
        },
        "id": "QeshfLXJbFGB",
        "outputId": "9accd56b-79bd-493f-b664-39a74df65897"
      },
      "outputs": [
        {
          "data": {
            "text/plain": [
              "'1.4.3'"
            ]
          },
          "execution_count": 3,
          "metadata": {},
          "output_type": "execute_result"
        }
      ],
      "source": [
        "pd.__version__ # versão corrente da biblioteca numpy"
      ]
    },
    {
      "cell_type": "code",
      "execution_count": 4,
      "metadata": {
        "id": "MHpbdtBPbGOr"
      },
      "outputs": [],
      "source": [
        "# caminho e carregamento do conjunto de dados que será utilizado no trabalho\n",
        "path = 'https://raw.githubusercontent.com/alexeygrigorev/datasets/master/housing.csv' \n",
        "df = pd.read_csv(path)"
      ]
    },
    {
      "cell_type": "markdown",
      "metadata": {
        "id": "_qD17EI3yxQu"
      },
      "source": [
        "## Questão 2\n",
        "\n",
        "- Qual o número de colunas no conjunto de dados?"
      ]
    },
    {
      "cell_type": "code",
      "execution_count": 5,
      "metadata": {
        "colab": {
          "base_uri": "https://localhost:8080/"
        },
        "id": "dSjE67sHbpML",
        "outputId": "0a90083d-b92c-4f25-9254-92e1de7adb3a"
      },
      "outputs": [
        {
          "data": {
            "text/plain": [
              "(20640, 10)"
            ]
          },
          "execution_count": 5,
          "metadata": {},
          "output_type": "execute_result"
        }
      ],
      "source": [
        "# formato dos dados em termos de número de linhas (amostras) e número de colunas (variáveis, fatores)\n",
        "df.shape"
      ]
    },
    {
      "cell_type": "code",
      "execution_count": 6,
      "metadata": {
        "colab": {
          "base_uri": "https://localhost:8080/",
          "height": 458
        },
        "id": "lK2xgoaqbWda",
        "outputId": "a54f007f-f14b-48fd-c827-eb2c8064e3ca"
      },
      "outputs": [
        {
          "data": {
            "text/html": [
              "<div>\n",
              "<style scoped>\n",
              "    .dataframe tbody tr th:only-of-type {\n",
              "        vertical-align: middle;\n",
              "    }\n",
              "\n",
              "    .dataframe tbody tr th {\n",
              "        vertical-align: top;\n",
              "    }\n",
              "\n",
              "    .dataframe thead th {\n",
              "        text-align: right;\n",
              "    }\n",
              "</style>\n",
              "<table border=\"1\" class=\"dataframe\">\n",
              "  <thead>\n",
              "    <tr style=\"text-align: right;\">\n",
              "      <th></th>\n",
              "      <th>longitude</th>\n",
              "      <th>latitude</th>\n",
              "      <th>housing_median_age</th>\n",
              "      <th>total_rooms</th>\n",
              "      <th>total_bedrooms</th>\n",
              "      <th>population</th>\n",
              "      <th>households</th>\n",
              "      <th>median_income</th>\n",
              "      <th>median_house_value</th>\n",
              "      <th>ocean_proximity</th>\n",
              "    </tr>\n",
              "  </thead>\n",
              "  <tbody>\n",
              "    <tr>\n",
              "      <th>0</th>\n",
              "      <td>-122.23</td>\n",
              "      <td>37.88</td>\n",
              "      <td>41.0</td>\n",
              "      <td>880.0</td>\n",
              "      <td>129.0</td>\n",
              "      <td>322.0</td>\n",
              "      <td>126.0</td>\n",
              "      <td>8.3252</td>\n",
              "      <td>452600.0</td>\n",
              "      <td>NEAR BAY</td>\n",
              "    </tr>\n",
              "    <tr>\n",
              "      <th>1</th>\n",
              "      <td>-122.22</td>\n",
              "      <td>37.86</td>\n",
              "      <td>21.0</td>\n",
              "      <td>7099.0</td>\n",
              "      <td>1106.0</td>\n",
              "      <td>2401.0</td>\n",
              "      <td>1138.0</td>\n",
              "      <td>8.3014</td>\n",
              "      <td>358500.0</td>\n",
              "      <td>NEAR BAY</td>\n",
              "    </tr>\n",
              "    <tr>\n",
              "      <th>2</th>\n",
              "      <td>-122.24</td>\n",
              "      <td>37.85</td>\n",
              "      <td>52.0</td>\n",
              "      <td>1467.0</td>\n",
              "      <td>190.0</td>\n",
              "      <td>496.0</td>\n",
              "      <td>177.0</td>\n",
              "      <td>7.2574</td>\n",
              "      <td>352100.0</td>\n",
              "      <td>NEAR BAY</td>\n",
              "    </tr>\n",
              "    <tr>\n",
              "      <th>3</th>\n",
              "      <td>-122.25</td>\n",
              "      <td>37.85</td>\n",
              "      <td>52.0</td>\n",
              "      <td>1274.0</td>\n",
              "      <td>235.0</td>\n",
              "      <td>558.0</td>\n",
              "      <td>219.0</td>\n",
              "      <td>5.6431</td>\n",
              "      <td>341300.0</td>\n",
              "      <td>NEAR BAY</td>\n",
              "    </tr>\n",
              "    <tr>\n",
              "      <th>4</th>\n",
              "      <td>-122.25</td>\n",
              "      <td>37.85</td>\n",
              "      <td>52.0</td>\n",
              "      <td>1627.0</td>\n",
              "      <td>280.0</td>\n",
              "      <td>565.0</td>\n",
              "      <td>259.0</td>\n",
              "      <td>3.8462</td>\n",
              "      <td>342200.0</td>\n",
              "      <td>NEAR BAY</td>\n",
              "    </tr>\n",
              "  </tbody>\n",
              "</table>\n",
              "</div>"
            ],
            "text/plain": [
              "   longitude  latitude  housing_median_age  total_rooms  total_bedrooms  \\\n",
              "0    -122.23     37.88                41.0        880.0           129.0   \n",
              "1    -122.22     37.86                21.0       7099.0          1106.0   \n",
              "2    -122.24     37.85                52.0       1467.0           190.0   \n",
              "3    -122.25     37.85                52.0       1274.0           235.0   \n",
              "4    -122.25     37.85                52.0       1627.0           280.0   \n",
              "\n",
              "   population  households  median_income  median_house_value ocean_proximity  \n",
              "0       322.0       126.0         8.3252            452600.0        NEAR BAY  \n",
              "1      2401.0      1138.0         8.3014            358500.0        NEAR BAY  \n",
              "2       496.0       177.0         7.2574            352100.0        NEAR BAY  \n",
              "3       558.0       219.0         5.6431            341300.0        NEAR BAY  \n",
              "4       565.0       259.0         3.8462            342200.0        NEAR BAY  "
            ]
          },
          "execution_count": 6,
          "metadata": {},
          "output_type": "execute_result"
        }
      ],
      "source": [
        "df.head()"
      ]
    },
    {
      "cell_type": "markdown",
      "metadata": {
        "id": "l1B1ggEMyXYc"
      },
      "source": [
        "## Questão 3 \n",
        "\n",
        "- Existem colunas com dados faltando? Quais?"
      ]
    },
    {
      "cell_type": "code",
      "execution_count": 8,
      "metadata": {
        "colab": {
          "base_uri": "https://localhost:8080/"
        },
        "id": "3lYCrZsIyYii",
        "outputId": "e91c8e83-c83d-4d7e-82a9-ebea89c89ee7"
      },
      "outputs": [
        {
          "data": {
            "text/plain": [
              "longitude               0\n",
              "latitude                0\n",
              "housing_median_age      0\n",
              "total_rooms             0\n",
              "total_bedrooms        207\n",
              "population              0\n",
              "households              0\n",
              "median_income           0\n",
              "median_house_value      0\n",
              "ocean_proximity         0\n",
              "dtype: int64"
            ]
          },
          "execution_count": 8,
          "metadata": {},
          "output_type": "execute_result"
        }
      ],
      "source": [
        "df.isnull().sum()"
      ]
    },
    {
      "cell_type": "markdown",
      "metadata": {},
      "source": [
        "#### Resposta: \"Total Bedrooms\" tem 207 dados faltando."
      ]
    },
    {
      "cell_type": "markdown",
      "metadata": {
        "id": "iW_irYGZyUFt"
      },
      "source": [
        "## Questão 4\n",
        "\n",
        "- Quantos valores únicos existem na coluna 'ocean proximity'?"
      ]
    },
    {
      "cell_type": "code",
      "execution_count": 12,
      "metadata": {
        "colab": {
          "base_uri": "https://localhost:8080/"
        },
        "id": "tzODiDzCbXF4",
        "outputId": "d7ea7e57-c8dc-4c8a-9f6f-72ab7ccbd695"
      },
      "outputs": [
        {
          "data": {
            "text/plain": [
              "(5,)"
            ]
          },
          "execution_count": 12,
          "metadata": {},
          "output_type": "execute_result"
        }
      ],
      "source": [
        "df['ocean_proximity'].unique().shape"
      ]
    },
    {
      "cell_type": "code",
      "execution_count": 15,
      "metadata": {},
      "outputs": [
        {
          "data": {
            "text/plain": [
              "array(['NEAR BAY', '<1H OCEAN', 'INLAND', 'NEAR OCEAN', 'ISLAND'],\n",
              "      dtype=object)"
            ]
          },
          "execution_count": 15,
          "metadata": {},
          "output_type": "execute_result"
        }
      ],
      "source": [
        "# Quais são os valores únicos?\n",
        "df['ocean_proximity'].unique()"
      ]
    },
    {
      "cell_type": "markdown",
      "metadata": {
        "id": "vkzVX-F8yR82"
      },
      "source": [
        "## Questão 5\n",
        "\n",
        "- Qual o valor médio da coluna \"median_house_value\" para as casas próximas a baía?"
      ]
    },
    {
      "cell_type": "code",
      "execution_count": 24,
      "metadata": {
        "colab": {
          "base_uri": "https://localhost:8080/"
        },
        "id": "KFiaNMLRcMsH",
        "outputId": "d4e5b05d-75cc-4720-9862-72ac50224f4d"
      },
      "outputs": [
        {
          "name": "stdout",
          "output_type": "stream",
          "text": [
            "O valor médio de casas próximas a baía é de: $259212.31.\n"
          ]
        }
      ],
      "source": [
        "valor_medio = round(df[df['ocean_proximity'] == 'NEAR BAY']['median_house_value'].mean(),2)\n",
        "print(f'O valor médio de casas próximas a baía é de: ${valor_medio}.')"
      ]
    },
    {
      "cell_type": "markdown",
      "metadata": {
        "id": "mcq1b0M9yP4B"
      },
      "source": [
        "## Questão 6\n",
        "\n",
        "- Encontre o valor da média da coluna \"total_bedrooms\" no conjunto de dados.\n",
        "- Use o método \"fillna\" para preencher os valores ausentes na coluna \"total_bedrooms\" com o valor da média encontrado na etapa anterior.\n",
        "- Por fim, calcule o valor da média da coluna \"total_bedrooms\" mais uma vez.\n",
        "\n",
        "Ele mudou?"
      ]
    },
    {
      "cell_type": "code",
      "execution_count": 25,
      "metadata": {
        "colab": {
          "base_uri": "https://localhost:8080/"
        },
        "id": "jsy3EmoIgAHw",
        "outputId": "5b25e0f7-3d6a-49f9-ef95-fe6314e5adbb"
      },
      "outputs": [
        {
          "data": {
            "text/plain": [
              "537.8705525375618"
            ]
          },
          "execution_count": 25,
          "metadata": {},
          "output_type": "execute_result"
        }
      ],
      "source": [
        "# valor médio antes de preencher os valores nulos\n",
        "df['total_bedrooms'].mean()"
      ]
    },
    {
      "cell_type": "code",
      "execution_count": 26,
      "metadata": {
        "id": "qICxgUXNh5Cv"
      },
      "outputs": [],
      "source": [
        "# preenchendo os valores nulos com os valores da média da respectiva coluna\n",
        "df['total_bedrooms'] = df['total_bedrooms'].fillna(value=df['total_bedrooms'].mean())"
      ]
    },
    {
      "cell_type": "code",
      "execution_count": 27,
      "metadata": {
        "colab": {
          "base_uri": "https://localhost:8080/"
        },
        "id": "gMhhI48Ff5iq",
        "outputId": "87615c17-2abe-45d7-d210-2891aa74dbae"
      },
      "outputs": [
        {
          "data": {
            "text/plain": [
              "0"
            ]
          },
          "execution_count": 27,
          "metadata": {},
          "output_type": "execute_result"
        }
      ],
      "source": [
        "# conferindo a alteração no número de valores nulos\n",
        "df['total_bedrooms'].isnull().sum()"
      ]
    },
    {
      "cell_type": "code",
      "execution_count": 28,
      "metadata": {
        "colab": {
          "base_uri": "https://localhost:8080/"
        },
        "id": "-7yUNUGoqqAw",
        "outputId": "c7493ab5-3df4-49d1-c105-d2ca890c9aa5"
      },
      "outputs": [
        {
          "data": {
            "text/plain": [
              "537.8705525375617"
            ]
          },
          "execution_count": 28,
          "metadata": {},
          "output_type": "execute_result"
        }
      ],
      "source": [
        "# observando se o valor da média permaneceu o mesmo após a alteração dos valores nulos\n",
        "df['total_bedrooms'].mean()"
      ]
    },
    {
      "cell_type": "markdown",
      "metadata": {
        "id": "W6YZlDhE7g-B"
      },
      "source": [
        "- O valor permaneceu o mesmo após o tratamento dos valores ausentes. "
      ]
    },
    {
      "cell_type": "markdown",
      "metadata": {
        "id": "NxEaVY0Ytx4S"
      },
      "source": [
        "## Questão 7\n",
        "\n",
        "- Selecione todos os valores que sejam \"Ilhas\" (Island);\n",
        "- Selecione apenas as colunas \"housing_median_age\", \"total_rooms\", \"total_bedrooms\";\n",
        "- Obtenha a matriz NumPy subjacente. Vamos chamá-la de X.\n",
        "- Calcule a multiplicação matriz-matriz entre a transposição de X e X. Para obter a transposição, use X.T. Vamos chamar o resultado de XTX.\n",
        "- Inverta XTX.\n",
        "- Crie uma matriz y com valores [950, 1300, 800, 1000, 1300].\n",
        "- Multiplique o inverso de XTX com a transposição de X e, em seguida, multiplique o resultado por y. Chame o resultado de w.\n",
        "\n",
        "Qual é o valor do último elemento de w?"
      ]
    },
    {
      "cell_type": "code",
      "execution_count": 30,
      "metadata": {
        "colab": {
          "base_uri": "https://localhost:8080/",
          "height": 332
        },
        "id": "D1ZTNUCngDz9",
        "outputId": "1df81e4a-9d3f-403c-8404-8de903851ea0"
      },
      "outputs": [
        {
          "data": {
            "text/html": [
              "<div>\n",
              "<style scoped>\n",
              "    .dataframe tbody tr th:only-of-type {\n",
              "        vertical-align: middle;\n",
              "    }\n",
              "\n",
              "    .dataframe tbody tr th {\n",
              "        vertical-align: top;\n",
              "    }\n",
              "\n",
              "    .dataframe thead th {\n",
              "        text-align: right;\n",
              "    }\n",
              "</style>\n",
              "<table border=\"1\" class=\"dataframe\">\n",
              "  <thead>\n",
              "    <tr style=\"text-align: right;\">\n",
              "      <th></th>\n",
              "      <th>housing_median_age</th>\n",
              "      <th>total_rooms</th>\n",
              "      <th>total_bedrooms</th>\n",
              "    </tr>\n",
              "  </thead>\n",
              "  <tbody>\n",
              "    <tr>\n",
              "      <th>8314</th>\n",
              "      <td>27.0</td>\n",
              "      <td>1675.0</td>\n",
              "      <td>521.0</td>\n",
              "    </tr>\n",
              "    <tr>\n",
              "      <th>8315</th>\n",
              "      <td>52.0</td>\n",
              "      <td>2359.0</td>\n",
              "      <td>591.0</td>\n",
              "    </tr>\n",
              "    <tr>\n",
              "      <th>8316</th>\n",
              "      <td>52.0</td>\n",
              "      <td>2127.0</td>\n",
              "      <td>512.0</td>\n",
              "    </tr>\n",
              "    <tr>\n",
              "      <th>8317</th>\n",
              "      <td>52.0</td>\n",
              "      <td>996.0</td>\n",
              "      <td>264.0</td>\n",
              "    </tr>\n",
              "    <tr>\n",
              "      <th>8318</th>\n",
              "      <td>29.0</td>\n",
              "      <td>716.0</td>\n",
              "      <td>214.0</td>\n",
              "    </tr>\n",
              "  </tbody>\n",
              "</table>\n",
              "</div>"
            ],
            "text/plain": [
              "      housing_median_age  total_rooms  total_bedrooms\n",
              "8314                27.0       1675.0           521.0\n",
              "8315                52.0       2359.0           591.0\n",
              "8316                52.0       2127.0           512.0\n",
              "8317                52.0        996.0           264.0\n",
              "8318                29.0        716.0           214.0"
            ]
          },
          "execution_count": 30,
          "metadata": {},
          "output_type": "execute_result"
        }
      ],
      "source": [
        "# selecionando todos os valores que sejam ISLAND e apenas as 3 colunas citadas\n",
        "df_islands = df[df['ocean_proximity'] == 'ISLAND'][['housing_median_age', 'total_rooms', 'total_bedrooms']]\n",
        "# resultado\n",
        "df_islands"
      ]
    },
    {
      "cell_type": "code",
      "execution_count": 31,
      "metadata": {
        "colab": {
          "base_uri": "https://localhost:8080/"
        },
        "id": "RZGGd0VYi6wt",
        "outputId": "05cd58a3-81bb-4679-c9ed-314835547513"
      },
      "outputs": [
        {
          "data": {
            "text/plain": [
              "array([[  27., 1675.,  521.],\n",
              "       [  52., 2359.,  591.],\n",
              "       [  52., 2127.,  512.],\n",
              "       [  52.,  996.,  264.],\n",
              "       [  29.,  716.,  214.]])"
            ]
          },
          "execution_count": 31,
          "metadata": {},
          "output_type": "execute_result"
        }
      ],
      "source": [
        "X = np.array(df_islands) # criação de uma matriz a partir do conjunto de dados anterior\n",
        "X"
      ]
    },
    {
      "cell_type": "code",
      "execution_count": 32,
      "metadata": {
        "colab": {
          "base_uri": "https://localhost:8080/"
        },
        "id": "cMycAiCNjAf9",
        "outputId": "5a73c434-5c59-4404-8e6c-e6695e95e824"
      },
      "outputs": [
        {
          "data": {
            "text/plain": [
              "array([[9.6820000e+03, 3.5105300e+05, 9.1357000e+04],\n",
              "       [3.5105300e+05, 1.4399307e+07, 3.7720360e+06],\n",
              "       [9.1357000e+04, 3.7720360e+06, 9.9835800e+05]])"
            ]
          },
          "execution_count": 32,
          "metadata": {},
          "output_type": "execute_result"
        }
      ],
      "source": [
        "XTX = X.T.dot(X) # produto entre a matriz transposta de X e a própria matriz X\n",
        "XTX"
      ]
    },
    {
      "cell_type": "code",
      "execution_count": 33,
      "metadata": {
        "id": "Mt_aLY4TjZV-"
      },
      "outputs": [],
      "source": [
        "XTX_inv = np.linalg.inv(XTX) # calculando a matriz inversa de XTX"
      ]
    },
    {
      "cell_type": "code",
      "execution_count": 34,
      "metadata": {
        "colab": {
          "base_uri": "https://localhost:8080/"
        },
        "id": "xKSVy_3xjqIo",
        "outputId": "bc31328d-35fb-4078-984e-5cd72bb6a036"
      },
      "outputs": [
        {
          "data": {
            "text/plain": [
              "array([[ 9.19403586e-04, -3.66412216e-05,  5.43072261e-05],\n",
              "       [-3.66412216e-05,  8.23303633e-06, -2.77534485e-05],\n",
              "       [ 5.43072261e-05, -2.77534485e-05,  1.00891325e-04]])"
            ]
          },
          "execution_count": 34,
          "metadata": {},
          "output_type": "execute_result"
        }
      ],
      "source": [
        "XTX_inv"
      ]
    },
    {
      "cell_type": "code",
      "execution_count": 35,
      "metadata": {
        "id": "8hwdJbOfjrY1"
      },
      "outputs": [],
      "source": [
        "y = np.array([950, 1300, 800, 1000, 1300]) "
      ]
    },
    {
      "cell_type": "code",
      "execution_count": 36,
      "metadata": {
        "id": "Xgn5ATU0jzt8"
      },
      "outputs": [],
      "source": [
        "z = XTX_inv.dot(X.T) # armazenando a multiplicação da matriz inversa de XTX com a transposta de X em uma variável \"z\"\n",
        "w = z.dot(y) # calculando o produto da matriz z com o vetor y para obter w"
      ]
    },
    {
      "cell_type": "code",
      "execution_count": 37,
      "metadata": {},
      "outputs": [
        {
          "data": {
            "text/plain": [
              "array([23.12330961, -1.48124183,  5.69922946])"
            ]
          },
          "execution_count": 37,
          "metadata": {},
          "output_type": "execute_result"
        }
      ],
      "source": [
        "w"
      ]
    },
    {
      "cell_type": "code",
      "execution_count": 38,
      "metadata": {
        "colab": {
          "base_uri": "https://localhost:8080/"
        },
        "id": "CjNT0EjfkDOS",
        "outputId": "fdb73602-60d3-4ae7-f2f1-69209dbe22b3"
      },
      "outputs": [
        {
          "data": {
            "text/plain": [
              "5.699229455065586"
            ]
          },
          "execution_count": 38,
          "metadata": {},
          "output_type": "execute_result"
        }
      ],
      "source": [
        "w[-1] # último elemento do vetor \"w\""
      ]
    }
  ],
  "metadata": {
    "colab": {
      "collapsed_sections": [],
      "provenance": []
    },
    "kernelspec": {
      "display_name": "Python 3",
      "name": "python3"
    },
    "language_info": {
      "codemirror_mode": {
        "name": "ipython",
        "version": 3
      },
      "file_extension": ".py",
      "mimetype": "text/x-python",
      "name": "python",
      "nbconvert_exporter": "python",
      "pygments_lexer": "ipython3",
      "version": "3.8.10"
    }
  },
  "nbformat": 4,
  "nbformat_minor": 0
}
